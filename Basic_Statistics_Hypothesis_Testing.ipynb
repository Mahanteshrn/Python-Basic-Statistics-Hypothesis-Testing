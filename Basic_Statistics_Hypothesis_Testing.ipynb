{
 "cells": [
  {
   "cell_type": "code",
   "execution_count": 1,
   "id": "614f4892",
   "metadata": {},
   "outputs": [],
   "source": [
    "### importing packeges \n",
    "import numpy as np\n",
    "import pandas as pd\n",
    "import matplotlib.pyplot as plt\n",
    "import seaborn as sns\n",
    "import scipy.stats as stats\n",
    "import datetime as dt\n",
    "\n",
    "%matplotlib inline"
   ]
  },
  {
   "cell_type": "markdown",
   "id": "8c6d28bf",
   "metadata": {},
   "source": [
    "### fixing file path"
   ]
  },
  {
   "cell_type": "code",
   "execution_count": 2,
   "id": "7428e1bb",
   "metadata": {},
   "outputs": [],
   "source": [
    "file_path = 'C:/Data_set/'"
   ]
  },
  {
   "cell_type": "markdown",
   "id": "109c06c4",
   "metadata": {},
   "source": [
    "# BUSINESS PROBLEM_1"
   ]
  },
  {
   "cell_type": "markdown",
   "id": "f63e25f8",
   "metadata": {},
   "source": [
    "### impporting_Data"
   ]
  },
  {
   "cell_type": "code",
   "execution_count": 3,
   "id": "a3a9a735",
   "metadata": {},
   "outputs": [],
   "source": [
    "loans = pd.read_csv(file_path+'LoansData.csv')"
   ]
  },
  {
   "cell_type": "markdown",
   "id": "7126984f",
   "metadata": {},
   "source": [
    "### Data inspection"
   ]
  },
  {
   "cell_type": "code",
   "execution_count": 4,
   "id": "ae7f823a",
   "metadata": {},
   "outputs": [
    {
     "data": {
      "text/html": [
       "<div>\n",
       "<style scoped>\n",
       "    .dataframe tbody tr th:only-of-type {\n",
       "        vertical-align: middle;\n",
       "    }\n",
       "\n",
       "    .dataframe tbody tr th {\n",
       "        vertical-align: top;\n",
       "    }\n",
       "\n",
       "    .dataframe thead th {\n",
       "        text-align: right;\n",
       "    }\n",
       "</style>\n",
       "<table border=\"1\" class=\"dataframe\">\n",
       "  <thead>\n",
       "    <tr style=\"text-align: right;\">\n",
       "      <th></th>\n",
       "      <th>Amount.Requested</th>\n",
       "      <th>Amount.Funded.By.Investors</th>\n",
       "      <th>Interest.Rate</th>\n",
       "      <th>Loan.Length</th>\n",
       "      <th>Loan.Purpose</th>\n",
       "      <th>Debt.To.Income.Ratio</th>\n",
       "      <th>State</th>\n",
       "      <th>Home.Ownership</th>\n",
       "      <th>Monthly.Income</th>\n",
       "      <th>FICO.Range</th>\n",
       "      <th>Open.CREDIT.Lines</th>\n",
       "      <th>Revolving.CREDIT.Balance</th>\n",
       "      <th>Inquiries.in.the.Last.6.Months</th>\n",
       "      <th>Employment.Length</th>\n",
       "    </tr>\n",
       "  </thead>\n",
       "  <tbody>\n",
       "    <tr>\n",
       "      <th>0</th>\n",
       "      <td>20000.0</td>\n",
       "      <td>20000.00</td>\n",
       "      <td>8.90%</td>\n",
       "      <td>36 months</td>\n",
       "      <td>debt_consolidation</td>\n",
       "      <td>14.90%</td>\n",
       "      <td>SC</td>\n",
       "      <td>MORTGAGE</td>\n",
       "      <td>6541.67</td>\n",
       "      <td>735-739</td>\n",
       "      <td>14.0</td>\n",
       "      <td>14272.0</td>\n",
       "      <td>2.0</td>\n",
       "      <td>&lt; 1 year</td>\n",
       "    </tr>\n",
       "    <tr>\n",
       "      <th>1</th>\n",
       "      <td>19200.0</td>\n",
       "      <td>19200.00</td>\n",
       "      <td>12.12%</td>\n",
       "      <td>36 months</td>\n",
       "      <td>debt_consolidation</td>\n",
       "      <td>28.36%</td>\n",
       "      <td>TX</td>\n",
       "      <td>MORTGAGE</td>\n",
       "      <td>4583.33</td>\n",
       "      <td>715-719</td>\n",
       "      <td>12.0</td>\n",
       "      <td>11140.0</td>\n",
       "      <td>1.0</td>\n",
       "      <td>2 years</td>\n",
       "    </tr>\n",
       "    <tr>\n",
       "      <th>2</th>\n",
       "      <td>35000.0</td>\n",
       "      <td>35000.00</td>\n",
       "      <td>21.98%</td>\n",
       "      <td>60 months</td>\n",
       "      <td>debt_consolidation</td>\n",
       "      <td>23.81%</td>\n",
       "      <td>CA</td>\n",
       "      <td>MORTGAGE</td>\n",
       "      <td>11500.00</td>\n",
       "      <td>690-694</td>\n",
       "      <td>14.0</td>\n",
       "      <td>21977.0</td>\n",
       "      <td>1.0</td>\n",
       "      <td>2 years</td>\n",
       "    </tr>\n",
       "    <tr>\n",
       "      <th>3</th>\n",
       "      <td>10000.0</td>\n",
       "      <td>9975.00</td>\n",
       "      <td>9.99%</td>\n",
       "      <td>36 months</td>\n",
       "      <td>debt_consolidation</td>\n",
       "      <td>14.30%</td>\n",
       "      <td>KS</td>\n",
       "      <td>MORTGAGE</td>\n",
       "      <td>3833.33</td>\n",
       "      <td>695-699</td>\n",
       "      <td>10.0</td>\n",
       "      <td>9346.0</td>\n",
       "      <td>0.0</td>\n",
       "      <td>5 years</td>\n",
       "    </tr>\n",
       "    <tr>\n",
       "      <th>4</th>\n",
       "      <td>12000.0</td>\n",
       "      <td>12000.00</td>\n",
       "      <td>11.71%</td>\n",
       "      <td>36 months</td>\n",
       "      <td>credit_card</td>\n",
       "      <td>18.78%</td>\n",
       "      <td>NJ</td>\n",
       "      <td>RENT</td>\n",
       "      <td>3195.00</td>\n",
       "      <td>695-699</td>\n",
       "      <td>11.0</td>\n",
       "      <td>14469.0</td>\n",
       "      <td>0.0</td>\n",
       "      <td>9 years</td>\n",
       "    </tr>\n",
       "    <tr>\n",
       "      <th>...</th>\n",
       "      <td>...</td>\n",
       "      <td>...</td>\n",
       "      <td>...</td>\n",
       "      <td>...</td>\n",
       "      <td>...</td>\n",
       "      <td>...</td>\n",
       "      <td>...</td>\n",
       "      <td>...</td>\n",
       "      <td>...</td>\n",
       "      <td>...</td>\n",
       "      <td>...</td>\n",
       "      <td>...</td>\n",
       "      <td>...</td>\n",
       "      <td>...</td>\n",
       "    </tr>\n",
       "    <tr>\n",
       "      <th>2495</th>\n",
       "      <td>30000.0</td>\n",
       "      <td>29950.00</td>\n",
       "      <td>16.77%</td>\n",
       "      <td>60 months</td>\n",
       "      <td>debt_consolidation</td>\n",
       "      <td>19.23%</td>\n",
       "      <td>NY</td>\n",
       "      <td>MORTGAGE</td>\n",
       "      <td>9250.00</td>\n",
       "      <td>705-709</td>\n",
       "      <td>15.0</td>\n",
       "      <td>45880.0</td>\n",
       "      <td>1.0</td>\n",
       "      <td>8 years</td>\n",
       "    </tr>\n",
       "    <tr>\n",
       "      <th>2496</th>\n",
       "      <td>16000.0</td>\n",
       "      <td>16000.00</td>\n",
       "      <td>14.09%</td>\n",
       "      <td>60 months</td>\n",
       "      <td>home_improvement</td>\n",
       "      <td>21.54%</td>\n",
       "      <td>MD</td>\n",
       "      <td>OWN</td>\n",
       "      <td>8903.25</td>\n",
       "      <td>740-744</td>\n",
       "      <td>18.0</td>\n",
       "      <td>18898.0</td>\n",
       "      <td>1.0</td>\n",
       "      <td>10+ years</td>\n",
       "    </tr>\n",
       "    <tr>\n",
       "      <th>2497</th>\n",
       "      <td>10000.0</td>\n",
       "      <td>10000.00</td>\n",
       "      <td>13.99%</td>\n",
       "      <td>36 months</td>\n",
       "      <td>debt_consolidation</td>\n",
       "      <td>4.89%</td>\n",
       "      <td>PA</td>\n",
       "      <td>MORTGAGE</td>\n",
       "      <td>2166.67</td>\n",
       "      <td>680-684</td>\n",
       "      <td>4.0</td>\n",
       "      <td>4544.0</td>\n",
       "      <td>0.0</td>\n",
       "      <td>10+ years</td>\n",
       "    </tr>\n",
       "    <tr>\n",
       "      <th>2498</th>\n",
       "      <td>6000.0</td>\n",
       "      <td>6000.00</td>\n",
       "      <td>12.42%</td>\n",
       "      <td>36 months</td>\n",
       "      <td>major_purchase</td>\n",
       "      <td>16.66%</td>\n",
       "      <td>NJ</td>\n",
       "      <td>RENT</td>\n",
       "      <td>3500.00</td>\n",
       "      <td>675-679</td>\n",
       "      <td>8.0</td>\n",
       "      <td>7753.0</td>\n",
       "      <td>0.0</td>\n",
       "      <td>5 years</td>\n",
       "    </tr>\n",
       "    <tr>\n",
       "      <th>2499</th>\n",
       "      <td>9000.0</td>\n",
       "      <td>5242.75</td>\n",
       "      <td>13.79%</td>\n",
       "      <td>36 months</td>\n",
       "      <td>debt_consolidation</td>\n",
       "      <td>6.76%</td>\n",
       "      <td>NY</td>\n",
       "      <td>RENT</td>\n",
       "      <td>3875.00</td>\n",
       "      <td>670-674</td>\n",
       "      <td>7.0</td>\n",
       "      <td>7589.0</td>\n",
       "      <td>0.0</td>\n",
       "      <td>10+ years</td>\n",
       "    </tr>\n",
       "  </tbody>\n",
       "</table>\n",
       "<p>2500 rows × 14 columns</p>\n",
       "</div>"
      ],
      "text/plain": [
       "      Amount.Requested  Amount.Funded.By.Investors Interest.Rate Loan.Length  \\\n",
       "0              20000.0                    20000.00         8.90%   36 months   \n",
       "1              19200.0                    19200.00        12.12%   36 months   \n",
       "2              35000.0                    35000.00        21.98%   60 months   \n",
       "3              10000.0                     9975.00         9.99%   36 months   \n",
       "4              12000.0                    12000.00        11.71%   36 months   \n",
       "...                ...                         ...           ...         ...   \n",
       "2495           30000.0                    29950.00        16.77%   60 months   \n",
       "2496           16000.0                    16000.00        14.09%   60 months   \n",
       "2497           10000.0                    10000.00        13.99%   36 months   \n",
       "2498            6000.0                     6000.00        12.42%   36 months   \n",
       "2499            9000.0                     5242.75        13.79%   36 months   \n",
       "\n",
       "            Loan.Purpose Debt.To.Income.Ratio State Home.Ownership  \\\n",
       "0     debt_consolidation               14.90%    SC       MORTGAGE   \n",
       "1     debt_consolidation               28.36%    TX       MORTGAGE   \n",
       "2     debt_consolidation               23.81%    CA       MORTGAGE   \n",
       "3     debt_consolidation               14.30%    KS       MORTGAGE   \n",
       "4            credit_card               18.78%    NJ           RENT   \n",
       "...                  ...                  ...   ...            ...   \n",
       "2495  debt_consolidation               19.23%    NY       MORTGAGE   \n",
       "2496    home_improvement               21.54%    MD            OWN   \n",
       "2497  debt_consolidation                4.89%    PA       MORTGAGE   \n",
       "2498      major_purchase               16.66%    NJ           RENT   \n",
       "2499  debt_consolidation                6.76%    NY           RENT   \n",
       "\n",
       "      Monthly.Income FICO.Range  Open.CREDIT.Lines  Revolving.CREDIT.Balance  \\\n",
       "0            6541.67    735-739               14.0                   14272.0   \n",
       "1            4583.33    715-719               12.0                   11140.0   \n",
       "2           11500.00    690-694               14.0                   21977.0   \n",
       "3            3833.33    695-699               10.0                    9346.0   \n",
       "4            3195.00    695-699               11.0                   14469.0   \n",
       "...              ...        ...                ...                       ...   \n",
       "2495         9250.00    705-709               15.0                   45880.0   \n",
       "2496         8903.25    740-744               18.0                   18898.0   \n",
       "2497         2166.67    680-684                4.0                    4544.0   \n",
       "2498         3500.00    675-679                8.0                    7753.0   \n",
       "2499         3875.00    670-674                7.0                    7589.0   \n",
       "\n",
       "      Inquiries.in.the.Last.6.Months Employment.Length  \n",
       "0                                2.0          < 1 year  \n",
       "1                                1.0           2 years  \n",
       "2                                1.0           2 years  \n",
       "3                                0.0           5 years  \n",
       "4                                0.0           9 years  \n",
       "...                              ...               ...  \n",
       "2495                             1.0           8 years  \n",
       "2496                             1.0         10+ years  \n",
       "2497                             0.0         10+ years  \n",
       "2498                             0.0           5 years  \n",
       "2499                             0.0         10+ years  \n",
       "\n",
       "[2500 rows x 14 columns]"
      ]
     },
     "execution_count": 4,
     "metadata": {},
     "output_type": "execute_result"
    }
   ],
   "source": [
    "loans"
   ]
  },
  {
   "cell_type": "code",
   "execution_count": 5,
   "id": "c854e928",
   "metadata": {},
   "outputs": [
    {
     "name": "stdout",
     "output_type": "stream",
     "text": [
      "<class 'pandas.core.frame.DataFrame'>\n",
      "RangeIndex: 2500 entries, 0 to 2499\n",
      "Data columns (total 14 columns):\n",
      " #   Column                          Non-Null Count  Dtype  \n",
      "---  ------                          --------------  -----  \n",
      " 0   Amount.Requested                2499 non-null   float64\n",
      " 1   Amount.Funded.By.Investors      2499 non-null   float64\n",
      " 2   Interest.Rate                   2498 non-null   object \n",
      " 3   Loan.Length                     2500 non-null   object \n",
      " 4   Loan.Purpose                    2500 non-null   object \n",
      " 5   Debt.To.Income.Ratio            2499 non-null   object \n",
      " 6   State                           2500 non-null   object \n",
      " 7   Home.Ownership                  2499 non-null   object \n",
      " 8   Monthly.Income                  2499 non-null   float64\n",
      " 9   FICO.Range                      2498 non-null   object \n",
      " 10  Open.CREDIT.Lines               2497 non-null   float64\n",
      " 11  Revolving.CREDIT.Balance        2497 non-null   float64\n",
      " 12  Inquiries.in.the.Last.6.Months  2497 non-null   float64\n",
      " 13  Employment.Length               2423 non-null   object \n",
      "dtypes: float64(6), object(8)\n",
      "memory usage: 273.6+ KB\n"
     ]
    }
   ],
   "source": [
    "loans.info()"
   ]
  },
  {
   "cell_type": "markdown",
   "id": "926ef622",
   "metadata": {},
   "source": [
    "### Interest.Rate, Loan.Length , Debt.To.Income.Ratio, FICO.Range , Employment.Length # These variables were found in unsuitable data types. converting into suitable datatypes"
   ]
  },
  {
   "cell_type": "code",
   "execution_count": 6,
   "id": "5edd3eef",
   "metadata": {},
   "outputs": [],
   "source": [
    "loans['Interest.Rate']=loans['Interest.Rate'].str.replace('%', '').astype('float')"
   ]
  },
  {
   "cell_type": "code",
   "execution_count": 7,
   "id": "99c68974",
   "metadata": {},
   "outputs": [],
   "source": [
    "loans['Loan.Length']=loans['Loan.Length'].str.replace(' months', '').astype('int')"
   ]
  },
  {
   "cell_type": "code",
   "execution_count": 8,
   "id": "3c7a7c04",
   "metadata": {},
   "outputs": [],
   "source": [
    "loans['Debt.To.Income.Ratio']=loans['Debt.To.Income.Ratio'].str.replace('%', '').astype('float')"
   ]
  },
  {
   "cell_type": "code",
   "execution_count": 9,
   "id": "724e97ac",
   "metadata": {},
   "outputs": [],
   "source": [
    "loans['FICO.Range_2']=loans['FICO.Range'].str[0:3]"
   ]
  },
  {
   "cell_type": "code",
   "execution_count": 10,
   "id": "38cb8881",
   "metadata": {},
   "outputs": [],
   "source": [
    "loans['FICO.Range_2']=loans['FICO.Range_2'].astype('float')"
   ]
  },
  {
   "cell_type": "code",
   "execution_count": 11,
   "id": "c02b0819",
   "metadata": {},
   "outputs": [
    {
     "name": "stdout",
     "output_type": "stream",
     "text": [
      "<class 'pandas.core.frame.DataFrame'>\n",
      "RangeIndex: 2500 entries, 0 to 2499\n",
      "Data columns (total 15 columns):\n",
      " #   Column                          Non-Null Count  Dtype  \n",
      "---  ------                          --------------  -----  \n",
      " 0   Amount.Requested                2499 non-null   float64\n",
      " 1   Amount.Funded.By.Investors      2499 non-null   float64\n",
      " 2   Interest.Rate                   2498 non-null   float64\n",
      " 3   Loan.Length                     2500 non-null   int32  \n",
      " 4   Loan.Purpose                    2500 non-null   object \n",
      " 5   Debt.To.Income.Ratio            2499 non-null   float64\n",
      " 6   State                           2500 non-null   object \n",
      " 7   Home.Ownership                  2499 non-null   object \n",
      " 8   Monthly.Income                  2499 non-null   float64\n",
      " 9   FICO.Range                      2498 non-null   object \n",
      " 10  Open.CREDIT.Lines               2497 non-null   float64\n",
      " 11  Revolving.CREDIT.Balance        2497 non-null   float64\n",
      " 12  Inquiries.in.the.Last.6.Months  2497 non-null   float64\n",
      " 13  Employment.Length               2423 non-null   object \n",
      " 14  FICO.Range_2                    2498 non-null   float64\n",
      "dtypes: float64(9), int32(1), object(5)\n",
      "memory usage: 283.3+ KB\n"
     ]
    }
   ],
   "source": [
    "loans.info()"
   ]
  },
  {
   "cell_type": "markdown",
   "id": "66edf9d2",
   "metadata": {},
   "source": [
    "### imputation of missing value as missing values are less than 5%"
   ]
  },
  {
   "cell_type": "code",
   "execution_count": 12,
   "id": "cc10a49d",
   "metadata": {},
   "outputs": [
    {
     "data": {
      "text/plain": [
       "Amount.Requested                   1\n",
       "Amount.Funded.By.Investors         1\n",
       "Interest.Rate                      2\n",
       "Loan.Length                        0\n",
       "Loan.Purpose                       0\n",
       "Debt.To.Income.Ratio               1\n",
       "State                              0\n",
       "Home.Ownership                     1\n",
       "Monthly.Income                     1\n",
       "FICO.Range                         2\n",
       "Open.CREDIT.Lines                  3\n",
       "Revolving.CREDIT.Balance           3\n",
       "Inquiries.in.the.Last.6.Months     3\n",
       "Employment.Length                 77\n",
       "FICO.Range_2                       2\n",
       "dtype: int64"
      ]
     },
     "execution_count": 12,
     "metadata": {},
     "output_type": "execute_result"
    }
   ],
   "source": [
    "loans.isnull().sum()"
   ]
  },
  {
   "cell_type": "code",
   "execution_count": 13,
   "id": "d0c387d3",
   "metadata": {},
   "outputs": [
    {
     "data": {
      "text/html": [
       "<div>\n",
       "<style scoped>\n",
       "    .dataframe tbody tr th:only-of-type {\n",
       "        vertical-align: middle;\n",
       "    }\n",
       "\n",
       "    .dataframe tbody tr th {\n",
       "        vertical-align: top;\n",
       "    }\n",
       "\n",
       "    .dataframe thead th {\n",
       "        text-align: right;\n",
       "    }\n",
       "</style>\n",
       "<table border=\"1\" class=\"dataframe\">\n",
       "  <thead>\n",
       "    <tr style=\"text-align: right;\">\n",
       "      <th></th>\n",
       "      <th>Amount.Requested</th>\n",
       "      <th>Amount.Funded.By.Investors</th>\n",
       "      <th>Interest.Rate</th>\n",
       "      <th>Loan.Length</th>\n",
       "      <th>Loan.Purpose</th>\n",
       "      <th>Debt.To.Income.Ratio</th>\n",
       "      <th>State</th>\n",
       "      <th>Home.Ownership</th>\n",
       "      <th>Monthly.Income</th>\n",
       "      <th>FICO.Range</th>\n",
       "      <th>Open.CREDIT.Lines</th>\n",
       "      <th>Revolving.CREDIT.Balance</th>\n",
       "      <th>Inquiries.in.the.Last.6.Months</th>\n",
       "      <th>Employment.Length</th>\n",
       "      <th>FICO.Range_2</th>\n",
       "    </tr>\n",
       "  </thead>\n",
       "  <tbody>\n",
       "    <tr>\n",
       "      <th>2487</th>\n",
       "      <td>NaN</td>\n",
       "      <td>15000.0</td>\n",
       "      <td>NaN</td>\n",
       "      <td>36</td>\n",
       "      <td>wedding</td>\n",
       "      <td>18.05</td>\n",
       "      <td>CA</td>\n",
       "      <td>RENT</td>\n",
       "      <td>8000.0</td>\n",
       "      <td>660-664</td>\n",
       "      <td>6.0</td>\n",
       "      <td>45976.0</td>\n",
       "      <td>1.0</td>\n",
       "      <td>2 years</td>\n",
       "      <td>660.0</td>\n",
       "    </tr>\n",
       "  </tbody>\n",
       "</table>\n",
       "</div>"
      ],
      "text/plain": [
       "      Amount.Requested  Amount.Funded.By.Investors  Interest.Rate  \\\n",
       "2487               NaN                     15000.0            NaN   \n",
       "\n",
       "      Loan.Length Loan.Purpose  Debt.To.Income.Ratio State Home.Ownership  \\\n",
       "2487           36      wedding                 18.05    CA           RENT   \n",
       "\n",
       "      Monthly.Income FICO.Range  Open.CREDIT.Lines  Revolving.CREDIT.Balance  \\\n",
       "2487          8000.0    660-664                6.0                   45976.0   \n",
       "\n",
       "      Inquiries.in.the.Last.6.Months Employment.Length  FICO.Range_2  \n",
       "2487                             1.0           2 years         660.0  "
      ]
     },
     "execution_count": 13,
     "metadata": {},
     "output_type": "execute_result"
    }
   ],
   "source": [
    "loans[loans['Amount.Requested'].isnull()]"
   ]
  },
  {
   "cell_type": "code",
   "execution_count": 14,
   "id": "ccbafc46",
   "metadata": {},
   "outputs": [],
   "source": [
    "loans['Amount.Requested'].fillna(15000, inplace=True)"
   ]
  },
  {
   "cell_type": "code",
   "execution_count": 15,
   "id": "26b81d38",
   "metadata": {},
   "outputs": [
    {
     "data": {
      "text/html": [
       "<div>\n",
       "<style scoped>\n",
       "    .dataframe tbody tr th:only-of-type {\n",
       "        vertical-align: middle;\n",
       "    }\n",
       "\n",
       "    .dataframe tbody tr th {\n",
       "        vertical-align: top;\n",
       "    }\n",
       "\n",
       "    .dataframe thead th {\n",
       "        text-align: right;\n",
       "    }\n",
       "</style>\n",
       "<table border=\"1\" class=\"dataframe\">\n",
       "  <thead>\n",
       "    <tr style=\"text-align: right;\">\n",
       "      <th></th>\n",
       "      <th>Amount.Requested</th>\n",
       "      <th>Amount.Funded.By.Investors</th>\n",
       "      <th>Interest.Rate</th>\n",
       "      <th>Loan.Length</th>\n",
       "      <th>Loan.Purpose</th>\n",
       "      <th>Debt.To.Income.Ratio</th>\n",
       "      <th>State</th>\n",
       "      <th>Home.Ownership</th>\n",
       "      <th>Monthly.Income</th>\n",
       "      <th>FICO.Range</th>\n",
       "      <th>Open.CREDIT.Lines</th>\n",
       "      <th>Revolving.CREDIT.Balance</th>\n",
       "      <th>Inquiries.in.the.Last.6.Months</th>\n",
       "      <th>Employment.Length</th>\n",
       "      <th>FICO.Range_2</th>\n",
       "    </tr>\n",
       "  </thead>\n",
       "  <tbody>\n",
       "    <tr>\n",
       "      <th>2490</th>\n",
       "      <td>10000.0</td>\n",
       "      <td>NaN</td>\n",
       "      <td>11.71</td>\n",
       "      <td>36</td>\n",
       "      <td>debt_consolidation</td>\n",
       "      <td>8.4</td>\n",
       "      <td>CA</td>\n",
       "      <td>RENT</td>\n",
       "      <td>4500.0</td>\n",
       "      <td>710-714</td>\n",
       "      <td>8.0</td>\n",
       "      <td>8404.0</td>\n",
       "      <td>1.0</td>\n",
       "      <td>3 years</td>\n",
       "      <td>710.0</td>\n",
       "    </tr>\n",
       "  </tbody>\n",
       "</table>\n",
       "</div>"
      ],
      "text/plain": [
       "      Amount.Requested  Amount.Funded.By.Investors  Interest.Rate  \\\n",
       "2490           10000.0                         NaN          11.71   \n",
       "\n",
       "      Loan.Length        Loan.Purpose  Debt.To.Income.Ratio State  \\\n",
       "2490           36  debt_consolidation                   8.4    CA   \n",
       "\n",
       "     Home.Ownership  Monthly.Income FICO.Range  Open.CREDIT.Lines  \\\n",
       "2490           RENT          4500.0    710-714                8.0   \n",
       "\n",
       "      Revolving.CREDIT.Balance  Inquiries.in.the.Last.6.Months  \\\n",
       "2490                    8404.0                             1.0   \n",
       "\n",
       "     Employment.Length  FICO.Range_2  \n",
       "2490           3 years         710.0  "
      ]
     },
     "execution_count": 15,
     "metadata": {},
     "output_type": "execute_result"
    }
   ],
   "source": [
    "loans[loans['Amount.Funded.By.Investors'].isnull()]"
   ]
  },
  {
   "cell_type": "code",
   "execution_count": 16,
   "id": "cfb505d2",
   "metadata": {},
   "outputs": [],
   "source": [
    "loans['Amount.Funded.By.Investors'].fillna(10000, inplace=True)"
   ]
  },
  {
   "cell_type": "code",
   "execution_count": 17,
   "id": "a073d4f2",
   "metadata": {},
   "outputs": [
    {
     "data": {
      "text/html": [
       "<div>\n",
       "<style scoped>\n",
       "    .dataframe tbody tr th:only-of-type {\n",
       "        vertical-align: middle;\n",
       "    }\n",
       "\n",
       "    .dataframe tbody tr th {\n",
       "        vertical-align: top;\n",
       "    }\n",
       "\n",
       "    .dataframe thead th {\n",
       "        text-align: right;\n",
       "    }\n",
       "</style>\n",
       "<table border=\"1\" class=\"dataframe\">\n",
       "  <thead>\n",
       "    <tr style=\"text-align: right;\">\n",
       "      <th></th>\n",
       "      <th>Amount.Requested</th>\n",
       "      <th>Amount.Funded.By.Investors</th>\n",
       "      <th>Interest.Rate</th>\n",
       "      <th>Loan.Length</th>\n",
       "      <th>Loan.Purpose</th>\n",
       "      <th>Debt.To.Income.Ratio</th>\n",
       "      <th>State</th>\n",
       "      <th>Home.Ownership</th>\n",
       "      <th>Monthly.Income</th>\n",
       "      <th>FICO.Range</th>\n",
       "      <th>Open.CREDIT.Lines</th>\n",
       "      <th>Revolving.CREDIT.Balance</th>\n",
       "      <th>Inquiries.in.the.Last.6.Months</th>\n",
       "      <th>Employment.Length</th>\n",
       "      <th>FICO.Range_2</th>\n",
       "    </tr>\n",
       "  </thead>\n",
       "  <tbody>\n",
       "    <tr>\n",
       "      <th>2484</th>\n",
       "      <td>15000.0</td>\n",
       "      <td>15000.0</td>\n",
       "      <td>NaN</td>\n",
       "      <td>36</td>\n",
       "      <td>credit_card</td>\n",
       "      <td>28.28</td>\n",
       "      <td>OH</td>\n",
       "      <td>MORTGAGE</td>\n",
       "      <td>6666.67</td>\n",
       "      <td>690-694</td>\n",
       "      <td>15.0</td>\n",
       "      <td>14880.0</td>\n",
       "      <td>0.0</td>\n",
       "      <td>10+ years</td>\n",
       "      <td>690.0</td>\n",
       "    </tr>\n",
       "    <tr>\n",
       "      <th>2487</th>\n",
       "      <td>15000.0</td>\n",
       "      <td>15000.0</td>\n",
       "      <td>NaN</td>\n",
       "      <td>36</td>\n",
       "      <td>wedding</td>\n",
       "      <td>18.05</td>\n",
       "      <td>CA</td>\n",
       "      <td>RENT</td>\n",
       "      <td>8000.00</td>\n",
       "      <td>660-664</td>\n",
       "      <td>6.0</td>\n",
       "      <td>45976.0</td>\n",
       "      <td>1.0</td>\n",
       "      <td>2 years</td>\n",
       "      <td>660.0</td>\n",
       "    </tr>\n",
       "  </tbody>\n",
       "</table>\n",
       "</div>"
      ],
      "text/plain": [
       "      Amount.Requested  Amount.Funded.By.Investors  Interest.Rate  \\\n",
       "2484           15000.0                     15000.0            NaN   \n",
       "2487           15000.0                     15000.0            NaN   \n",
       "\n",
       "      Loan.Length Loan.Purpose  Debt.To.Income.Ratio State Home.Ownership  \\\n",
       "2484           36  credit_card                 28.28    OH       MORTGAGE   \n",
       "2487           36      wedding                 18.05    CA           RENT   \n",
       "\n",
       "      Monthly.Income FICO.Range  Open.CREDIT.Lines  Revolving.CREDIT.Balance  \\\n",
       "2484         6666.67    690-694               15.0                   14880.0   \n",
       "2487         8000.00    660-664                6.0                   45976.0   \n",
       "\n",
       "      Inquiries.in.the.Last.6.Months Employment.Length  FICO.Range_2  \n",
       "2484                             0.0         10+ years         690.0  \n",
       "2487                             1.0           2 years         660.0  "
      ]
     },
     "execution_count": 17,
     "metadata": {},
     "output_type": "execute_result"
    }
   ],
   "source": [
    "loans[loans['Interest.Rate'].isnull()]"
   ]
  },
  {
   "cell_type": "code",
   "execution_count": 18,
   "id": "fc74c08f",
   "metadata": {},
   "outputs": [],
   "source": [
    "loans['Interest.Rate'].fillna(round(loans['Interest.Rate'].mean(),1), inplace=True)"
   ]
  },
  {
   "cell_type": "code",
   "execution_count": 19,
   "id": "2bc1659d",
   "metadata": {},
   "outputs": [
    {
     "data": {
      "text/html": [
       "<div>\n",
       "<style scoped>\n",
       "    .dataframe tbody tr th:only-of-type {\n",
       "        vertical-align: middle;\n",
       "    }\n",
       "\n",
       "    .dataframe tbody tr th {\n",
       "        vertical-align: top;\n",
       "    }\n",
       "\n",
       "    .dataframe thead th {\n",
       "        text-align: right;\n",
       "    }\n",
       "</style>\n",
       "<table border=\"1\" class=\"dataframe\">\n",
       "  <thead>\n",
       "    <tr style=\"text-align: right;\">\n",
       "      <th></th>\n",
       "      <th>Amount.Requested</th>\n",
       "      <th>Amount.Funded.By.Investors</th>\n",
       "      <th>Interest.Rate</th>\n",
       "      <th>Loan.Length</th>\n",
       "      <th>Loan.Purpose</th>\n",
       "      <th>Debt.To.Income.Ratio</th>\n",
       "      <th>State</th>\n",
       "      <th>Home.Ownership</th>\n",
       "      <th>Monthly.Income</th>\n",
       "      <th>FICO.Range</th>\n",
       "      <th>Open.CREDIT.Lines</th>\n",
       "      <th>Revolving.CREDIT.Balance</th>\n",
       "      <th>Inquiries.in.the.Last.6.Months</th>\n",
       "      <th>Employment.Length</th>\n",
       "      <th>FICO.Range_2</th>\n",
       "    </tr>\n",
       "  </thead>\n",
       "  <tbody>\n",
       "    <tr>\n",
       "      <th>2492</th>\n",
       "      <td>6400.0</td>\n",
       "      <td>6350.0</td>\n",
       "      <td>10.08</td>\n",
       "      <td>36</td>\n",
       "      <td>debt_consolidation</td>\n",
       "      <td>NaN</td>\n",
       "      <td>NJ</td>\n",
       "      <td>NaN</td>\n",
       "      <td>5166.67</td>\n",
       "      <td>710-714</td>\n",
       "      <td>5.0</td>\n",
       "      <td>5815.0</td>\n",
       "      <td>2.0</td>\n",
       "      <td>10+ years</td>\n",
       "      <td>710.0</td>\n",
       "    </tr>\n",
       "  </tbody>\n",
       "</table>\n",
       "</div>"
      ],
      "text/plain": [
       "      Amount.Requested  Amount.Funded.By.Investors  Interest.Rate  \\\n",
       "2492            6400.0                      6350.0          10.08   \n",
       "\n",
       "      Loan.Length        Loan.Purpose  Debt.To.Income.Ratio State  \\\n",
       "2492           36  debt_consolidation                   NaN    NJ   \n",
       "\n",
       "     Home.Ownership  Monthly.Income FICO.Range  Open.CREDIT.Lines  \\\n",
       "2492            NaN         5166.67    710-714                5.0   \n",
       "\n",
       "      Revolving.CREDIT.Balance  Inquiries.in.the.Last.6.Months  \\\n",
       "2492                    5815.0                             2.0   \n",
       "\n",
       "     Employment.Length  FICO.Range_2  \n",
       "2492         10+ years         710.0  "
      ]
     },
     "execution_count": 19,
     "metadata": {},
     "output_type": "execute_result"
    }
   ],
   "source": [
    "loans[loans['Debt.To.Income.Ratio'].isnull()]"
   ]
  },
  {
   "cell_type": "code",
   "execution_count": 20,
   "id": "3127f193",
   "metadata": {},
   "outputs": [],
   "source": [
    "loans['Debt.To.Income.Ratio'].fillna(round(loans['Debt.To.Income.Ratio'].mean(),1), inplace=True)"
   ]
  },
  {
   "cell_type": "code",
   "execution_count": 21,
   "id": "abae4aad",
   "metadata": {},
   "outputs": [
    {
     "data": {
      "text/html": [
       "<div>\n",
       "<style scoped>\n",
       "    .dataframe tbody tr th:only-of-type {\n",
       "        vertical-align: middle;\n",
       "    }\n",
       "\n",
       "    .dataframe tbody tr th {\n",
       "        vertical-align: top;\n",
       "    }\n",
       "\n",
       "    .dataframe thead th {\n",
       "        text-align: right;\n",
       "    }\n",
       "</style>\n",
       "<table border=\"1\" class=\"dataframe\">\n",
       "  <thead>\n",
       "    <tr style=\"text-align: right;\">\n",
       "      <th></th>\n",
       "      <th>Amount.Requested</th>\n",
       "      <th>Amount.Funded.By.Investors</th>\n",
       "      <th>Interest.Rate</th>\n",
       "      <th>Loan.Length</th>\n",
       "      <th>Loan.Purpose</th>\n",
       "      <th>Debt.To.Income.Ratio</th>\n",
       "      <th>State</th>\n",
       "      <th>Home.Ownership</th>\n",
       "      <th>Monthly.Income</th>\n",
       "      <th>FICO.Range</th>\n",
       "      <th>Open.CREDIT.Lines</th>\n",
       "      <th>Revolving.CREDIT.Balance</th>\n",
       "      <th>Inquiries.in.the.Last.6.Months</th>\n",
       "      <th>Employment.Length</th>\n",
       "      <th>FICO.Range_2</th>\n",
       "    </tr>\n",
       "  </thead>\n",
       "  <tbody>\n",
       "    <tr>\n",
       "      <th>2492</th>\n",
       "      <td>6400.0</td>\n",
       "      <td>6350.0</td>\n",
       "      <td>10.08</td>\n",
       "      <td>36</td>\n",
       "      <td>debt_consolidation</td>\n",
       "      <td>15.4</td>\n",
       "      <td>NJ</td>\n",
       "      <td>NaN</td>\n",
       "      <td>5166.67</td>\n",
       "      <td>710-714</td>\n",
       "      <td>5.0</td>\n",
       "      <td>5815.0</td>\n",
       "      <td>2.0</td>\n",
       "      <td>10+ years</td>\n",
       "      <td>710.0</td>\n",
       "    </tr>\n",
       "  </tbody>\n",
       "</table>\n",
       "</div>"
      ],
      "text/plain": [
       "      Amount.Requested  Amount.Funded.By.Investors  Interest.Rate  \\\n",
       "2492            6400.0                      6350.0          10.08   \n",
       "\n",
       "      Loan.Length        Loan.Purpose  Debt.To.Income.Ratio State  \\\n",
       "2492           36  debt_consolidation                  15.4    NJ   \n",
       "\n",
       "     Home.Ownership  Monthly.Income FICO.Range  Open.CREDIT.Lines  \\\n",
       "2492            NaN         5166.67    710-714                5.0   \n",
       "\n",
       "      Revolving.CREDIT.Balance  Inquiries.in.the.Last.6.Months  \\\n",
       "2492                    5815.0                             2.0   \n",
       "\n",
       "     Employment.Length  FICO.Range_2  \n",
       "2492         10+ years         710.0  "
      ]
     },
     "execution_count": 21,
     "metadata": {},
     "output_type": "execute_result"
    }
   ],
   "source": [
    "loans[loans['Home.Ownership'].isnull()]"
   ]
  },
  {
   "cell_type": "code",
   "execution_count": 22,
   "id": "80c04baf",
   "metadata": {},
   "outputs": [],
   "source": [
    "loans['Home.Ownership'].fillna('MORTGAGE', inplace=True)"
   ]
  },
  {
   "cell_type": "code",
   "execution_count": 23,
   "id": "a4a6b7f5",
   "metadata": {},
   "outputs": [
    {
     "data": {
      "text/html": [
       "<div>\n",
       "<style scoped>\n",
       "    .dataframe tbody tr th:only-of-type {\n",
       "        vertical-align: middle;\n",
       "    }\n",
       "\n",
       "    .dataframe tbody tr th {\n",
       "        vertical-align: top;\n",
       "    }\n",
       "\n",
       "    .dataframe thead th {\n",
       "        text-align: right;\n",
       "    }\n",
       "</style>\n",
       "<table border=\"1\" class=\"dataframe\">\n",
       "  <thead>\n",
       "    <tr style=\"text-align: right;\">\n",
       "      <th></th>\n",
       "      <th>Amount.Requested</th>\n",
       "      <th>Amount.Funded.By.Investors</th>\n",
       "      <th>Interest.Rate</th>\n",
       "      <th>Loan.Length</th>\n",
       "      <th>Loan.Purpose</th>\n",
       "      <th>Debt.To.Income.Ratio</th>\n",
       "      <th>State</th>\n",
       "      <th>Home.Ownership</th>\n",
       "      <th>Monthly.Income</th>\n",
       "      <th>FICO.Range</th>\n",
       "      <th>Open.CREDIT.Lines</th>\n",
       "      <th>Revolving.CREDIT.Balance</th>\n",
       "      <th>Inquiries.in.the.Last.6.Months</th>\n",
       "      <th>Employment.Length</th>\n",
       "      <th>FICO.Range_2</th>\n",
       "    </tr>\n",
       "  </thead>\n",
       "  <tbody>\n",
       "    <tr>\n",
       "      <th>366</th>\n",
       "      <td>5000.0</td>\n",
       "      <td>4525.0</td>\n",
       "      <td>7.43</td>\n",
       "      <td>36</td>\n",
       "      <td>other</td>\n",
       "      <td>1.0</td>\n",
       "      <td>NY</td>\n",
       "      <td>NONE</td>\n",
       "      <td>NaN</td>\n",
       "      <td>800-804</td>\n",
       "      <td>NaN</td>\n",
       "      <td>NaN</td>\n",
       "      <td>NaN</td>\n",
       "      <td>&lt; 1 year</td>\n",
       "      <td>800.0</td>\n",
       "    </tr>\n",
       "  </tbody>\n",
       "</table>\n",
       "</div>"
      ],
      "text/plain": [
       "     Amount.Requested  Amount.Funded.By.Investors  Interest.Rate  Loan.Length  \\\n",
       "366            5000.0                      4525.0           7.43           36   \n",
       "\n",
       "    Loan.Purpose  Debt.To.Income.Ratio State Home.Ownership  Monthly.Income  \\\n",
       "366        other                   1.0    NY           NONE             NaN   \n",
       "\n",
       "    FICO.Range  Open.CREDIT.Lines  Revolving.CREDIT.Balance  \\\n",
       "366    800-804                NaN                       NaN   \n",
       "\n",
       "     Inquiries.in.the.Last.6.Months Employment.Length  FICO.Range_2  \n",
       "366                             NaN          < 1 year         800.0  "
      ]
     },
     "execution_count": 23,
     "metadata": {},
     "output_type": "execute_result"
    }
   ],
   "source": [
    "loans[loans['Monthly.Income'].isnull()]"
   ]
  },
  {
   "cell_type": "code",
   "execution_count": 24,
   "id": "03c84af8",
   "metadata": {},
   "outputs": [],
   "source": [
    "loans['Monthly.Income'].fillna(5000, inplace=True)"
   ]
  },
  {
   "cell_type": "code",
   "execution_count": 25,
   "id": "d8aba3ac",
   "metadata": {},
   "outputs": [
    {
     "data": {
      "text/html": [
       "<div>\n",
       "<style scoped>\n",
       "    .dataframe tbody tr th:only-of-type {\n",
       "        vertical-align: middle;\n",
       "    }\n",
       "\n",
       "    .dataframe tbody tr th {\n",
       "        vertical-align: top;\n",
       "    }\n",
       "\n",
       "    .dataframe thead th {\n",
       "        text-align: right;\n",
       "    }\n",
       "</style>\n",
       "<table border=\"1\" class=\"dataframe\">\n",
       "  <thead>\n",
       "    <tr style=\"text-align: right;\">\n",
       "      <th></th>\n",
       "      <th>Amount.Requested</th>\n",
       "      <th>Amount.Funded.By.Investors</th>\n",
       "      <th>Interest.Rate</th>\n",
       "      <th>Loan.Length</th>\n",
       "      <th>Loan.Purpose</th>\n",
       "      <th>Debt.To.Income.Ratio</th>\n",
       "      <th>State</th>\n",
       "      <th>Home.Ownership</th>\n",
       "      <th>Monthly.Income</th>\n",
       "      <th>FICO.Range</th>\n",
       "      <th>Open.CREDIT.Lines</th>\n",
       "      <th>Revolving.CREDIT.Balance</th>\n",
       "      <th>Inquiries.in.the.Last.6.Months</th>\n",
       "      <th>Employment.Length</th>\n",
       "      <th>FICO.Range_2</th>\n",
       "    </tr>\n",
       "  </thead>\n",
       "  <tbody>\n",
       "    <tr>\n",
       "      <th>2488</th>\n",
       "      <td>17000.0</td>\n",
       "      <td>17000.0</td>\n",
       "      <td>15.81</td>\n",
       "      <td>36</td>\n",
       "      <td>debt_consolidation</td>\n",
       "      <td>17.01</td>\n",
       "      <td>CO</td>\n",
       "      <td>RENT</td>\n",
       "      <td>3833.33</td>\n",
       "      <td>NaN</td>\n",
       "      <td>6.0</td>\n",
       "      <td>15484.0</td>\n",
       "      <td>1.0</td>\n",
       "      <td>6 years</td>\n",
       "      <td>NaN</td>\n",
       "    </tr>\n",
       "    <tr>\n",
       "      <th>2494</th>\n",
       "      <td>24000.0</td>\n",
       "      <td>23975.0</td>\n",
       "      <td>14.65</td>\n",
       "      <td>36</td>\n",
       "      <td>debt_consolidation</td>\n",
       "      <td>15.29</td>\n",
       "      <td>WA</td>\n",
       "      <td>MORTGAGE</td>\n",
       "      <td>6666.67</td>\n",
       "      <td>NaN</td>\n",
       "      <td>13.0</td>\n",
       "      <td>17521.0</td>\n",
       "      <td>0.0</td>\n",
       "      <td>5 years</td>\n",
       "      <td>NaN</td>\n",
       "    </tr>\n",
       "  </tbody>\n",
       "</table>\n",
       "</div>"
      ],
      "text/plain": [
       "      Amount.Requested  Amount.Funded.By.Investors  Interest.Rate  \\\n",
       "2488           17000.0                     17000.0          15.81   \n",
       "2494           24000.0                     23975.0          14.65   \n",
       "\n",
       "      Loan.Length        Loan.Purpose  Debt.To.Income.Ratio State  \\\n",
       "2488           36  debt_consolidation                 17.01    CO   \n",
       "2494           36  debt_consolidation                 15.29    WA   \n",
       "\n",
       "     Home.Ownership  Monthly.Income FICO.Range  Open.CREDIT.Lines  \\\n",
       "2488           RENT         3833.33        NaN                6.0   \n",
       "2494       MORTGAGE         6666.67        NaN               13.0   \n",
       "\n",
       "      Revolving.CREDIT.Balance  Inquiries.in.the.Last.6.Months  \\\n",
       "2488                   15484.0                             1.0   \n",
       "2494                   17521.0                             0.0   \n",
       "\n",
       "     Employment.Length  FICO.Range_2  \n",
       "2488           6 years           NaN  \n",
       "2494           5 years           NaN  "
      ]
     },
     "execution_count": 25,
     "metadata": {},
     "output_type": "execute_result"
    }
   ],
   "source": [
    "loans[loans['FICO.Range'].isnull()]"
   ]
  },
  {
   "cell_type": "code",
   "execution_count": 26,
   "id": "85201d2f",
   "metadata": {},
   "outputs": [],
   "source": [
    "loans['FICO.Range'].fillna('695-699', inplace=True)"
   ]
  },
  {
   "cell_type": "code",
   "execution_count": 27,
   "id": "31bf07b2",
   "metadata": {},
   "outputs": [],
   "source": [
    "loans['FICO.Range_2'].fillna(695, inplace=True)"
   ]
  },
  {
   "cell_type": "code",
   "execution_count": 28,
   "id": "b5c678b3",
   "metadata": {},
   "outputs": [
    {
     "data": {
      "text/plain": [
       "Amount.Requested                   0\n",
       "Amount.Funded.By.Investors         0\n",
       "Interest.Rate                      0\n",
       "Loan.Length                        0\n",
       "Loan.Purpose                       0\n",
       "Debt.To.Income.Ratio               0\n",
       "State                              0\n",
       "Home.Ownership                     0\n",
       "Monthly.Income                     0\n",
       "FICO.Range                         0\n",
       "Open.CREDIT.Lines                  3\n",
       "Revolving.CREDIT.Balance           3\n",
       "Inquiries.in.the.Last.6.Months     3\n",
       "Employment.Length                 77\n",
       "FICO.Range_2                       0\n",
       "dtype: int64"
      ]
     },
     "execution_count": 28,
     "metadata": {},
     "output_type": "execute_result"
    }
   ],
   "source": [
    "loans.isnull().sum()"
   ]
  },
  {
   "cell_type": "code",
   "execution_count": 29,
   "id": "91d80e21",
   "metadata": {},
   "outputs": [
    {
     "data": {
      "text/html": [
       "<div>\n",
       "<style scoped>\n",
       "    .dataframe tbody tr th:only-of-type {\n",
       "        vertical-align: middle;\n",
       "    }\n",
       "\n",
       "    .dataframe tbody tr th {\n",
       "        vertical-align: top;\n",
       "    }\n",
       "\n",
       "    .dataframe thead th {\n",
       "        text-align: right;\n",
       "    }\n",
       "</style>\n",
       "<table border=\"1\" class=\"dataframe\">\n",
       "  <thead>\n",
       "    <tr style=\"text-align: right;\">\n",
       "      <th></th>\n",
       "      <th>Amount.Requested</th>\n",
       "      <th>Amount.Funded.By.Investors</th>\n",
       "      <th>Interest.Rate</th>\n",
       "      <th>Loan.Length</th>\n",
       "      <th>Loan.Purpose</th>\n",
       "      <th>Debt.To.Income.Ratio</th>\n",
       "      <th>State</th>\n",
       "      <th>Home.Ownership</th>\n",
       "      <th>Monthly.Income</th>\n",
       "      <th>FICO.Range</th>\n",
       "      <th>Open.CREDIT.Lines</th>\n",
       "      <th>Revolving.CREDIT.Balance</th>\n",
       "      <th>Inquiries.in.the.Last.6.Months</th>\n",
       "      <th>Employment.Length</th>\n",
       "      <th>FICO.Range_2</th>\n",
       "    </tr>\n",
       "  </thead>\n",
       "  <tbody>\n",
       "    <tr>\n",
       "      <th>0</th>\n",
       "      <td>20000.0</td>\n",
       "      <td>20000.0</td>\n",
       "      <td>8.90</td>\n",
       "      <td>36</td>\n",
       "      <td>debt_consolidation</td>\n",
       "      <td>14.90</td>\n",
       "      <td>SC</td>\n",
       "      <td>MORTGAGE</td>\n",
       "      <td>6541.67</td>\n",
       "      <td>735-739</td>\n",
       "      <td>14.0</td>\n",
       "      <td>14272.0</td>\n",
       "      <td>2.0</td>\n",
       "      <td>&lt; 1 year</td>\n",
       "      <td>735.0</td>\n",
       "    </tr>\n",
       "    <tr>\n",
       "      <th>1</th>\n",
       "      <td>19200.0</td>\n",
       "      <td>19200.0</td>\n",
       "      <td>12.12</td>\n",
       "      <td>36</td>\n",
       "      <td>debt_consolidation</td>\n",
       "      <td>28.36</td>\n",
       "      <td>TX</td>\n",
       "      <td>MORTGAGE</td>\n",
       "      <td>4583.33</td>\n",
       "      <td>715-719</td>\n",
       "      <td>12.0</td>\n",
       "      <td>11140.0</td>\n",
       "      <td>1.0</td>\n",
       "      <td>2 years</td>\n",
       "      <td>715.0</td>\n",
       "    </tr>\n",
       "    <tr>\n",
       "      <th>2</th>\n",
       "      <td>35000.0</td>\n",
       "      <td>35000.0</td>\n",
       "      <td>21.98</td>\n",
       "      <td>60</td>\n",
       "      <td>debt_consolidation</td>\n",
       "      <td>23.81</td>\n",
       "      <td>CA</td>\n",
       "      <td>MORTGAGE</td>\n",
       "      <td>11500.00</td>\n",
       "      <td>690-694</td>\n",
       "      <td>14.0</td>\n",
       "      <td>21977.0</td>\n",
       "      <td>1.0</td>\n",
       "      <td>2 years</td>\n",
       "      <td>690.0</td>\n",
       "    </tr>\n",
       "    <tr>\n",
       "      <th>3</th>\n",
       "      <td>10000.0</td>\n",
       "      <td>9975.0</td>\n",
       "      <td>9.99</td>\n",
       "      <td>36</td>\n",
       "      <td>debt_consolidation</td>\n",
       "      <td>14.30</td>\n",
       "      <td>KS</td>\n",
       "      <td>MORTGAGE</td>\n",
       "      <td>3833.33</td>\n",
       "      <td>695-699</td>\n",
       "      <td>10.0</td>\n",
       "      <td>9346.0</td>\n",
       "      <td>0.0</td>\n",
       "      <td>5 years</td>\n",
       "      <td>695.0</td>\n",
       "    </tr>\n",
       "    <tr>\n",
       "      <th>4</th>\n",
       "      <td>12000.0</td>\n",
       "      <td>12000.0</td>\n",
       "      <td>11.71</td>\n",
       "      <td>36</td>\n",
       "      <td>credit_card</td>\n",
       "      <td>18.78</td>\n",
       "      <td>NJ</td>\n",
       "      <td>RENT</td>\n",
       "      <td>3195.00</td>\n",
       "      <td>695-699</td>\n",
       "      <td>11.0</td>\n",
       "      <td>14469.0</td>\n",
       "      <td>0.0</td>\n",
       "      <td>9 years</td>\n",
       "      <td>695.0</td>\n",
       "    </tr>\n",
       "  </tbody>\n",
       "</table>\n",
       "</div>"
      ],
      "text/plain": [
       "   Amount.Requested  Amount.Funded.By.Investors  Interest.Rate  Loan.Length  \\\n",
       "0           20000.0                     20000.0           8.90           36   \n",
       "1           19200.0                     19200.0          12.12           36   \n",
       "2           35000.0                     35000.0          21.98           60   \n",
       "3           10000.0                      9975.0           9.99           36   \n",
       "4           12000.0                     12000.0          11.71           36   \n",
       "\n",
       "         Loan.Purpose  Debt.To.Income.Ratio State Home.Ownership  \\\n",
       "0  debt_consolidation                 14.90    SC       MORTGAGE   \n",
       "1  debt_consolidation                 28.36    TX       MORTGAGE   \n",
       "2  debt_consolidation                 23.81    CA       MORTGAGE   \n",
       "3  debt_consolidation                 14.30    KS       MORTGAGE   \n",
       "4         credit_card                 18.78    NJ           RENT   \n",
       "\n",
       "   Monthly.Income FICO.Range  Open.CREDIT.Lines  Revolving.CREDIT.Balance  \\\n",
       "0         6541.67    735-739               14.0                   14272.0   \n",
       "1         4583.33    715-719               12.0                   11140.0   \n",
       "2        11500.00    690-694               14.0                   21977.0   \n",
       "3         3833.33    695-699               10.0                    9346.0   \n",
       "4         3195.00    695-699               11.0                   14469.0   \n",
       "\n",
       "   Inquiries.in.the.Last.6.Months Employment.Length  FICO.Range_2  \n",
       "0                             2.0          < 1 year         735.0  \n",
       "1                             1.0           2 years         715.0  \n",
       "2                             1.0           2 years         690.0  \n",
       "3                             0.0           5 years         695.0  \n",
       "4                             0.0           9 years         695.0  "
      ]
     },
     "execution_count": 29,
     "metadata": {},
     "output_type": "execute_result"
    }
   ],
   "source": [
    "loans.head(5)"
   ]
  },
  {
   "cell_type": "code",
   "execution_count": 30,
   "id": "a7d95485",
   "metadata": {},
   "outputs": [],
   "source": [
    "def continuous_var_summary( x ):\n",
    "    \n",
    "    # freq and missings\n",
    "    n_total = x.shape[0]\n",
    "    n_miss = x.isna().sum()\n",
    "    perc_miss = n_miss * 100 / n_total\n",
    "    \n",
    "    # outliers - iqr\n",
    "    q1 = x.quantile(0.25)\n",
    "    q3 = x.quantile(0.75)\n",
    "    iqr = q3 - q1\n",
    "    lc_iqr = q1 - 1.5 * iqr\n",
    "    uc_iqr = q3 + 1.5 * iqr\n",
    "    \n",
    "    \n",
    "    return pd.Series( [ x.dtype, x.nunique(), n_total, x.count(), n_miss, perc_miss,\n",
    "                       x.sum(), x.mean(), x.std(), x.var(), \n",
    "                       lc_iqr, uc_iqr, \n",
    "                       x.min(), x.quantile(0.01), x.quantile(0.05), x.quantile(0.10), \n",
    "                       x.quantile(0.25), x.quantile(0.5), x.quantile(0.75), \n",
    "                       x.quantile(0.90), x.quantile(0.95), x.quantile(0.99), x.max() ], \n",
    "                     \n",
    "                    index = ['dtype', 'cardinality', 'n_tot', 'n', 'nmiss', 'perc_miss',\n",
    "                             'sum', 'mean', 'std', 'var',\n",
    "                        'lc_iqr', 'uc_iqr',\n",
    "                        'min', 'p1', 'p5', 'p10', 'p25', 'p50', 'p75', 'p90', 'p95', 'p99', 'max']) "
   ]
  },
  {
   "cell_type": "code",
   "execution_count": 31,
   "id": "5cbb71ff",
   "metadata": {},
   "outputs": [
    {
     "data": {
      "text/html": [
       "<div>\n",
       "<style scoped>\n",
       "    .dataframe tbody tr th:only-of-type {\n",
       "        vertical-align: middle;\n",
       "    }\n",
       "\n",
       "    .dataframe tbody tr th {\n",
       "        vertical-align: top;\n",
       "    }\n",
       "\n",
       "    .dataframe thead th {\n",
       "        text-align: right;\n",
       "    }\n",
       "</style>\n",
       "<table border=\"1\" class=\"dataframe\">\n",
       "  <thead>\n",
       "    <tr style=\"text-align: right;\">\n",
       "      <th></th>\n",
       "      <th>Amount.Requested</th>\n",
       "      <th>Amount.Funded.By.Investors</th>\n",
       "      <th>Interest.Rate</th>\n",
       "      <th>Loan.Length</th>\n",
       "      <th>Debt.To.Income.Ratio</th>\n",
       "      <th>Monthly.Income</th>\n",
       "      <th>Open.CREDIT.Lines</th>\n",
       "      <th>Revolving.CREDIT.Balance</th>\n",
       "      <th>Inquiries.in.the.Last.6.Months</th>\n",
       "      <th>FICO.Range_2</th>\n",
       "    </tr>\n",
       "  </thead>\n",
       "  <tbody>\n",
       "    <tr>\n",
       "      <th>dtype</th>\n",
       "      <td>float64</td>\n",
       "      <td>float64</td>\n",
       "      <td>float64</td>\n",
       "      <td>int32</td>\n",
       "      <td>float64</td>\n",
       "      <td>float64</td>\n",
       "      <td>float64</td>\n",
       "      <td>float64</td>\n",
       "      <td>float64</td>\n",
       "      <td>float64</td>\n",
       "    </tr>\n",
       "    <tr>\n",
       "      <th>cardinality</th>\n",
       "      <td>380</td>\n",
       "      <td>710</td>\n",
       "      <td>276</td>\n",
       "      <td>2</td>\n",
       "      <td>1670</td>\n",
       "      <td>632</td>\n",
       "      <td>29</td>\n",
       "      <td>2349</td>\n",
       "      <td>10</td>\n",
       "      <td>38</td>\n",
       "    </tr>\n",
       "    <tr>\n",
       "      <th>n_tot</th>\n",
       "      <td>2500</td>\n",
       "      <td>2500</td>\n",
       "      <td>2500</td>\n",
       "      <td>2500</td>\n",
       "      <td>2500</td>\n",
       "      <td>2500</td>\n",
       "      <td>2500</td>\n",
       "      <td>2500</td>\n",
       "      <td>2500</td>\n",
       "      <td>2500</td>\n",
       "    </tr>\n",
       "    <tr>\n",
       "      <th>n</th>\n",
       "      <td>2500</td>\n",
       "      <td>2500</td>\n",
       "      <td>2500</td>\n",
       "      <td>2500</td>\n",
       "      <td>2500</td>\n",
       "      <td>2500</td>\n",
       "      <td>2497</td>\n",
       "      <td>2497</td>\n",
       "      <td>2497</td>\n",
       "      <td>2500</td>\n",
       "    </tr>\n",
       "    <tr>\n",
       "      <th>nmiss</th>\n",
       "      <td>0</td>\n",
       "      <td>0</td>\n",
       "      <td>0</td>\n",
       "      <td>0</td>\n",
       "      <td>0</td>\n",
       "      <td>0</td>\n",
       "      <td>3</td>\n",
       "      <td>3</td>\n",
       "      <td>3</td>\n",
       "      <td>0</td>\n",
       "    </tr>\n",
       "    <tr>\n",
       "      <th>perc_miss</th>\n",
       "      <td>0.0</td>\n",
       "      <td>0.0</td>\n",
       "      <td>0.0</td>\n",
       "      <td>0.0</td>\n",
       "      <td>0.0</td>\n",
       "      <td>0.0</td>\n",
       "      <td>0.12</td>\n",
       "      <td>0.12</td>\n",
       "      <td>0.12</td>\n",
       "      <td>0.0</td>\n",
       "    </tr>\n",
       "    <tr>\n",
       "      <th>sum</th>\n",
       "      <td>31016250.0</td>\n",
       "      <td>30003933.09</td>\n",
       "      <td>32663.54</td>\n",
       "      <td>103152</td>\n",
       "      <td>38451.07</td>\n",
       "      <td>14221639.37</td>\n",
       "      <td>25152.0</td>\n",
       "      <td>38012292.0</td>\n",
       "      <td>2264.0</td>\n",
       "      <td>1764740.0</td>\n",
       "    </tr>\n",
       "    <tr>\n",
       "      <th>mean</th>\n",
       "      <td>12406.5</td>\n",
       "      <td>12001.573236</td>\n",
       "      <td>13.065416</td>\n",
       "      <td>41.2608</td>\n",
       "      <td>15.380428</td>\n",
       "      <td>5688.655748</td>\n",
       "      <td>10.072887</td>\n",
       "      <td>15223.184622</td>\n",
       "      <td>0.906688</td>\n",
       "      <td>705.896</td>\n",
       "    </tr>\n",
       "    <tr>\n",
       "      <th>std</th>\n",
       "      <td>7801.544872</td>\n",
       "      <td>7745.320754</td>\n",
       "      <td>4.17553</td>\n",
       "      <td>9.930893</td>\n",
       "      <td>7.503551</td>\n",
       "      <td>3962.349122</td>\n",
       "      <td>4.507416</td>\n",
       "      <td>18281.015258</td>\n",
       "      <td>1.231149</td>\n",
       "      <td>35.029531</td>\n",
       "    </tr>\n",
       "    <tr>\n",
       "      <th>var</th>\n",
       "      <td>60864102.390956</td>\n",
       "      <td>59989993.578013</td>\n",
       "      <td>17.435047</td>\n",
       "      <td>98.622632</td>\n",
       "      <td>56.303271</td>\n",
       "      <td>15700210.564354</td>\n",
       "      <td>20.316801</td>\n",
       "      <td>334195518.850116</td>\n",
       "      <td>1.515728</td>\n",
       "      <td>1227.068011</td>\n",
       "    </tr>\n",
       "    <tr>\n",
       "      <th>lc_iqr</th>\n",
       "      <td>-10500.0</td>\n",
       "      <td>-9000.0</td>\n",
       "      <td>1.7</td>\n",
       "      <td>36.0</td>\n",
       "      <td>-6.63375</td>\n",
       "      <td>-1450.0</td>\n",
       "      <td>-2.0</td>\n",
       "      <td>-14331.5</td>\n",
       "      <td>-1.5</td>\n",
       "      <td>612.5</td>\n",
       "    </tr>\n",
       "    <tr>\n",
       "      <th>uc_iqr</th>\n",
       "      <td>33500.0</td>\n",
       "      <td>31000.0</td>\n",
       "      <td>24.26</td>\n",
       "      <td>36.0</td>\n",
       "      <td>37.05625</td>\n",
       "      <td>11750.0</td>\n",
       "      <td>22.0</td>\n",
       "      <td>38776.5</td>\n",
       "      <td>2.5</td>\n",
       "      <td>792.5</td>\n",
       "    </tr>\n",
       "    <tr>\n",
       "      <th>min</th>\n",
       "      <td>1000.0</td>\n",
       "      <td>-0.01</td>\n",
       "      <td>5.42</td>\n",
       "      <td>36</td>\n",
       "      <td>0.0</td>\n",
       "      <td>588.5</td>\n",
       "      <td>2.0</td>\n",
       "      <td>0.0</td>\n",
       "      <td>0.0</td>\n",
       "      <td>640.0</td>\n",
       "    </tr>\n",
       "    <tr>\n",
       "      <th>p1</th>\n",
       "      <td>1500.0</td>\n",
       "      <td>999.1728</td>\n",
       "      <td>5.988</td>\n",
       "      <td>36.0</td>\n",
       "      <td>0.719</td>\n",
       "      <td>1416.5366</td>\n",
       "      <td>3.0</td>\n",
       "      <td>0.0</td>\n",
       "      <td>0.0</td>\n",
       "      <td>660.0</td>\n",
       "    </tr>\n",
       "    <tr>\n",
       "      <th>p5</th>\n",
       "      <td>2871.25</td>\n",
       "      <td>2200.0</td>\n",
       "      <td>6.62</td>\n",
       "      <td>36.0</td>\n",
       "      <td>3.158</td>\n",
       "      <td>2166.3365</td>\n",
       "      <td>4.0</td>\n",
       "      <td>916.2</td>\n",
       "      <td>0.0</td>\n",
       "      <td>660.0</td>\n",
       "    </tr>\n",
       "    <tr>\n",
       "      <th>p10</th>\n",
       "      <td>4000.0</td>\n",
       "      <td>3600.0</td>\n",
       "      <td>7.62</td>\n",
       "      <td>36.0</td>\n",
       "      <td>5.309</td>\n",
       "      <td>2600.0</td>\n",
       "      <td>5.0</td>\n",
       "      <td>2298.8</td>\n",
       "      <td>0.0</td>\n",
       "      <td>665.0</td>\n",
       "    </tr>\n",
       "    <tr>\n",
       "      <th>p25</th>\n",
       "      <td>6000.0</td>\n",
       "      <td>6000.0</td>\n",
       "      <td>10.16</td>\n",
       "      <td>36.0</td>\n",
       "      <td>9.75</td>\n",
       "      <td>3500.0</td>\n",
       "      <td>7.0</td>\n",
       "      <td>5584.0</td>\n",
       "      <td>0.0</td>\n",
       "      <td>680.0</td>\n",
       "    </tr>\n",
       "    <tr>\n",
       "      <th>p50</th>\n",
       "      <td>10000.0</td>\n",
       "      <td>10000.0</td>\n",
       "      <td>13.11</td>\n",
       "      <td>36.0</td>\n",
       "      <td>15.32</td>\n",
       "      <td>5000.0</td>\n",
       "      <td>9.0</td>\n",
       "      <td>10948.0</td>\n",
       "      <td>0.0</td>\n",
       "      <td>700.0</td>\n",
       "    </tr>\n",
       "    <tr>\n",
       "      <th>p75</th>\n",
       "      <td>17000.0</td>\n",
       "      <td>16000.0</td>\n",
       "      <td>15.8</td>\n",
       "      <td>36.0</td>\n",
       "      <td>20.6725</td>\n",
       "      <td>6800.0</td>\n",
       "      <td>13.0</td>\n",
       "      <td>18861.0</td>\n",
       "      <td>1.0</td>\n",
       "      <td>725.0</td>\n",
       "    </tr>\n",
       "    <tr>\n",
       "      <th>p90</th>\n",
       "      <td>24000.0</td>\n",
       "      <td>23950.0</td>\n",
       "      <td>18.64</td>\n",
       "      <td>60.0</td>\n",
       "      <td>25.012</td>\n",
       "      <td>9292.83</td>\n",
       "      <td>16.0</td>\n",
       "      <td>30047.0</td>\n",
       "      <td>3.0</td>\n",
       "      <td>755.0</td>\n",
       "    </tr>\n",
       "    <tr>\n",
       "      <th>p95</th>\n",
       "      <td>28000.0</td>\n",
       "      <td>27925.0</td>\n",
       "      <td>20.49</td>\n",
       "      <td>60.0</td>\n",
       "      <td>28.293</td>\n",
       "      <td>11666.6865</td>\n",
       "      <td>18.0</td>\n",
       "      <td>40768.4</td>\n",
       "      <td>3.0</td>\n",
       "      <td>775.0</td>\n",
       "    </tr>\n",
       "    <tr>\n",
       "      <th>p99</th>\n",
       "      <td>35000.0</td>\n",
       "      <td>35000.0</td>\n",
       "      <td>22.9533</td>\n",
       "      <td>60.0</td>\n",
       "      <td>33.23</td>\n",
       "      <td>18750.0</td>\n",
       "      <td>23.0</td>\n",
       "      <td>92433.64</td>\n",
       "      <td>5.0</td>\n",
       "      <td>805.0</td>\n",
       "    </tr>\n",
       "    <tr>\n",
       "      <th>max</th>\n",
       "      <td>35000.0</td>\n",
       "      <td>35000.0</td>\n",
       "      <td>24.89</td>\n",
       "      <td>60</td>\n",
       "      <td>34.91</td>\n",
       "      <td>102750.0</td>\n",
       "      <td>38.0</td>\n",
       "      <td>270800.0</td>\n",
       "      <td>9.0</td>\n",
       "      <td>830.0</td>\n",
       "    </tr>\n",
       "  </tbody>\n",
       "</table>\n",
       "</div>"
      ],
      "text/plain": [
       "            Amount.Requested Amount.Funded.By.Investors Interest.Rate  \\\n",
       "dtype                float64                    float64       float64   \n",
       "cardinality              380                        710           276   \n",
       "n_tot                   2500                       2500          2500   \n",
       "n                       2500                       2500          2500   \n",
       "nmiss                      0                          0             0   \n",
       "perc_miss                0.0                        0.0           0.0   \n",
       "sum               31016250.0                30003933.09      32663.54   \n",
       "mean                 12406.5               12001.573236     13.065416   \n",
       "std              7801.544872                7745.320754       4.17553   \n",
       "var          60864102.390956            59989993.578013     17.435047   \n",
       "lc_iqr              -10500.0                    -9000.0           1.7   \n",
       "uc_iqr               33500.0                    31000.0         24.26   \n",
       "min                   1000.0                      -0.01          5.42   \n",
       "p1                    1500.0                   999.1728         5.988   \n",
       "p5                   2871.25                     2200.0          6.62   \n",
       "p10                   4000.0                     3600.0          7.62   \n",
       "p25                   6000.0                     6000.0         10.16   \n",
       "p50                  10000.0                    10000.0         13.11   \n",
       "p75                  17000.0                    16000.0          15.8   \n",
       "p90                  24000.0                    23950.0         18.64   \n",
       "p95                  28000.0                    27925.0         20.49   \n",
       "p99                  35000.0                    35000.0       22.9533   \n",
       "max                  35000.0                    35000.0         24.89   \n",
       "\n",
       "            Loan.Length Debt.To.Income.Ratio   Monthly.Income  \\\n",
       "dtype             int32              float64          float64   \n",
       "cardinality           2                 1670              632   \n",
       "n_tot              2500                 2500             2500   \n",
       "n                  2500                 2500             2500   \n",
       "nmiss                 0                    0                0   \n",
       "perc_miss           0.0                  0.0              0.0   \n",
       "sum              103152             38451.07      14221639.37   \n",
       "mean            41.2608            15.380428      5688.655748   \n",
       "std            9.930893             7.503551      3962.349122   \n",
       "var           98.622632            56.303271  15700210.564354   \n",
       "lc_iqr             36.0             -6.63375          -1450.0   \n",
       "uc_iqr             36.0             37.05625          11750.0   \n",
       "min                  36                  0.0            588.5   \n",
       "p1                 36.0                0.719        1416.5366   \n",
       "p5                 36.0                3.158        2166.3365   \n",
       "p10                36.0                5.309           2600.0   \n",
       "p25                36.0                 9.75           3500.0   \n",
       "p50                36.0                15.32           5000.0   \n",
       "p75                36.0              20.6725           6800.0   \n",
       "p90                60.0               25.012          9292.83   \n",
       "p95                60.0               28.293       11666.6865   \n",
       "p99                60.0                33.23          18750.0   \n",
       "max                  60                34.91         102750.0   \n",
       "\n",
       "            Open.CREDIT.Lines Revolving.CREDIT.Balance  \\\n",
       "dtype                 float64                  float64   \n",
       "cardinality                29                     2349   \n",
       "n_tot                    2500                     2500   \n",
       "n                        2497                     2497   \n",
       "nmiss                       3                        3   \n",
       "perc_miss                0.12                     0.12   \n",
       "sum                   25152.0               38012292.0   \n",
       "mean                10.072887             15223.184622   \n",
       "std                  4.507416             18281.015258   \n",
       "var                 20.316801         334195518.850116   \n",
       "lc_iqr                   -2.0                 -14331.5   \n",
       "uc_iqr                   22.0                  38776.5   \n",
       "min                       2.0                      0.0   \n",
       "p1                        3.0                      0.0   \n",
       "p5                        4.0                    916.2   \n",
       "p10                       5.0                   2298.8   \n",
       "p25                       7.0                   5584.0   \n",
       "p50                       9.0                  10948.0   \n",
       "p75                      13.0                  18861.0   \n",
       "p90                      16.0                  30047.0   \n",
       "p95                      18.0                  40768.4   \n",
       "p99                      23.0                 92433.64   \n",
       "max                      38.0                 270800.0   \n",
       "\n",
       "            Inquiries.in.the.Last.6.Months FICO.Range_2  \n",
       "dtype                              float64      float64  \n",
       "cardinality                             10           38  \n",
       "n_tot                                 2500         2500  \n",
       "n                                     2497         2500  \n",
       "nmiss                                    3            0  \n",
       "perc_miss                             0.12          0.0  \n",
       "sum                                 2264.0    1764740.0  \n",
       "mean                              0.906688      705.896  \n",
       "std                               1.231149    35.029531  \n",
       "var                               1.515728  1227.068011  \n",
       "lc_iqr                                -1.5        612.5  \n",
       "uc_iqr                                 2.5        792.5  \n",
       "min                                    0.0        640.0  \n",
       "p1                                     0.0        660.0  \n",
       "p5                                     0.0        660.0  \n",
       "p10                                    0.0        665.0  \n",
       "p25                                    0.0        680.0  \n",
       "p50                                    0.0        700.0  \n",
       "p75                                    1.0        725.0  \n",
       "p90                                    3.0        755.0  \n",
       "p95                                    3.0        775.0  \n",
       "p99                                    5.0        805.0  \n",
       "max                                    9.0        830.0  "
      ]
     },
     "execution_count": 31,
     "metadata": {},
     "output_type": "execute_result"
    }
   ],
   "source": [
    "loans.select_dtypes(['float', 'int']).apply(continuous_var_summary)"
   ]
  },
  {
   "cell_type": "markdown",
   "id": "736f0235",
   "metadata": {},
   "source": [
    "# A, Intrest rate is varied for different loan amounts  (Less intrest charged for high loan amounts)"
   ]
  },
  {
   "cell_type": "markdown",
   "id": "1667d62d",
   "metadata": {},
   "source": [
    "# Correlation coefficient-pearson's (r)"
   ]
  },
  {
   "cell_type": "raw",
   "id": "9d6410da",
   "metadata": {},
   "source": [
    "Null Hypothesis, Ho:\n",
    "    No relationship among the variables \n",
    "    \n",
    "Alternative Hypothesis, Ha:\n",
    "    There is a relationship among the variables\n",
    "    \n",
    "confidence interval:\n",
    "    95%\n",
    "\n",
    "P_Value:\n",
    "    0.05"
   ]
  },
  {
   "cell_type": "code",
   "execution_count": 32,
   "id": "2f044982",
   "metadata": {},
   "outputs": [
    {
     "data": {
      "text/plain": [
       "(0.3374582327360985, 1.2385347978597731e-67)"
      ]
     },
     "execution_count": 32,
     "metadata": {},
     "output_type": "execute_result"
    }
   ],
   "source": [
    "stats.pearsonr(loans['Amount.Funded.By.Investors'],loans['Interest.Rate'])"
   ]
  },
  {
   "cell_type": "markdown",
   "id": "f05b4a52",
   "metadata": {},
   "source": [
    "####### output: we reject null hypothesis\n",
    "\n",
    "####### relation: This is a positive intermediate correlation b/w the variables, it indicates that values of these two variables are changing with same direction. (as loan amount increasing Interest rates are increasing)\n",
    "\n",
    "####### Business conclusion: with the given data, it is unable to prove that less intrest charged for high loan amounts"
   ]
  },
  {
   "cell_type": "markdown",
   "id": "4aabdd6f",
   "metadata": {},
   "source": [
    "# B. Loan length is directly effecting intrest rate"
   ]
  },
  {
   "cell_type": "markdown",
   "id": "52c86ef7",
   "metadata": {},
   "source": [
    "# Correlation coefficient-pearson's (r)"
   ]
  },
  {
   "cell_type": "raw",
   "id": "37745589",
   "metadata": {},
   "source": [
    "Null Hypothesis, Ho:\n",
    "    No relationship among the variables\n",
    "    \n",
    "Alternative Hypothesis, Ha:\n",
    "    There is a relationship among the variables\n",
    "    \n",
    "confidence interval:\n",
    "    95%\n",
    "\n",
    "P_Value:\n",
    "    0.05"
   ]
  },
  {
   "cell_type": "code",
   "execution_count": 33,
   "id": "bba16227",
   "metadata": {},
   "outputs": [
    {
     "data": {
      "text/plain": [
       "(0.42416839821575725, 9.593279558342899e-110)"
      ]
     },
     "execution_count": 33,
     "metadata": {},
     "output_type": "execute_result"
    }
   ],
   "source": [
    "stats.pearsonr(loans['Loan.Length'],loans['Interest.Rate'] )"
   ]
  },
  {
   "cell_type": "markdown",
   "id": "f8202c59",
   "metadata": {},
   "source": [
    "####### output: we reject null hypothesis\n",
    "\n",
    "####### relation: This is a positive intermediate correlation b/w the variables, it indicates that values of these two variables are changing with same direction. (as loan length increasing Interest rates are increasing)\n",
    "\n",
    "####### Business conclusion: with the given data, it is proved that Loan length is directly effecting intrest rate"
   ]
  },
  {
   "cell_type": "markdown",
   "id": "286ec841",
   "metadata": {},
   "source": [
    "# c. Inrest rate varies for different purpose of loans"
   ]
  },
  {
   "cell_type": "markdown",
   "id": "9218ae11",
   "metadata": {},
   "source": [
    "# ftest or ANOVA"
   ]
  },
  {
   "cell_type": "code",
   "execution_count": 34,
   "id": "1d770b6b",
   "metadata": {},
   "outputs": [
    {
     "data": {
      "text/plain": [
       "debt_consolidation    1307\n",
       "credit_card            444\n",
       "other                  201\n",
       "home_improvement       152\n",
       "major_purchase         101\n",
       "small_business          87\n",
       "car                     50\n",
       "wedding                 39\n",
       "medical                 30\n",
       "moving                  29\n",
       "vacation                21\n",
       "house                   20\n",
       "educational             15\n",
       "renewable_energy         4\n",
       "Name: Loan.Purpose, dtype: int64"
      ]
     },
     "execution_count": 34,
     "metadata": {},
     "output_type": "execute_result"
    }
   ],
   "source": [
    "loans['Loan.Purpose'].value_counts()"
   ]
  },
  {
   "cell_type": "code",
   "execution_count": 35,
   "id": "c99875ee",
   "metadata": {},
   "outputs": [
    {
     "data": {
      "text/plain": [
       "14"
      ]
     },
     "execution_count": 35,
     "metadata": {},
     "output_type": "execute_result"
    }
   ],
   "source": [
    "loans['Loan.Purpose'].nunique()"
   ]
  },
  {
   "cell_type": "code",
   "execution_count": 36,
   "id": "312413d1",
   "metadata": {},
   "outputs": [],
   "source": [
    "loans.rename(columns={'Loan.Purpose':'LoanPurpose', 'Interest.Rate':'InterestRate'}, inplace=True )"
   ]
  },
  {
   "cell_type": "code",
   "execution_count": 37,
   "id": "6b8babf7",
   "metadata": {},
   "outputs": [],
   "source": [
    "g1 = loans.loc[loans.LoanPurpose=='debt_consolidation', 'InterestRate']\n",
    "g2 = loans.loc[loans.LoanPurpose=='credit_card', 'InterestRate']\n",
    "g3 = loans.loc[loans.LoanPurpose=='other', 'InterestRate']\n",
    "g4 = loans.loc[loans.LoanPurpose=='home_improvement', 'InterestRate']\n",
    "g5 = loans.loc[loans.LoanPurpose=='major_purchase', 'InterestRate']\n",
    "g6 = loans.loc[loans.LoanPurpose=='small_business', 'InterestRate']\n",
    "g7 = loans.loc[loans.LoanPurpose=='car', 'InterestRate']\n",
    "g8 = loans.loc[loans.LoanPurpose=='wedding', 'InterestRate']\n",
    "g9 = loans.loc[loans.LoanPurpose=='medical', 'InterestRate']\n",
    "g10 = loans.loc[loans.LoanPurpose=='moving', 'InterestRate']\n",
    "g11 = loans.loc[loans.LoanPurpose=='vacation', 'InterestRate']\n",
    "g12 = loans.loc[loans.LoanPurpose=='house', 'InterestRate']\n",
    "g13 = loans.loc[loans.LoanPurpose=='educational', 'InterestRate']\n",
    "g14 = loans.loc[loans.LoanPurpose=='renewable_energy', 'InterestRate']"
   ]
  },
  {
   "cell_type": "code",
   "execution_count": 38,
   "id": "f43da1b9",
   "metadata": {},
   "outputs": [
    {
     "name": "stdout",
     "output_type": "stream",
     "text": [
      "mean of g1 13.586916602907444\n",
      "mean of g2 13.05076576576574\n",
      "mean of g3 13.159552238805967\n",
      "mean of g4 11.594276315789479\n",
      "mean of g5 10.797821782178215\n",
      "mean of g6 12.839195402298845\n",
      "mean of g7 11.113000000000001\n",
      "mean of g8 12.074102564102567\n",
      "mean of g9 11.649666666666668\n",
      "mean of g10 13.621034482758622\n",
      "mean of g11 11.966190476190476\n",
      "mean of g12 13.448000000000002\n",
      "mean of g13 11.007333333333332\n",
      "mean of g14 9.8775\n"
     ]
    }
   ],
   "source": [
    "print('mean of g1', g1.mean())\n",
    "print('mean of g2', g2.mean())\n",
    "print('mean of g3', g3.mean())\n",
    "print('mean of g4', g4.mean())\n",
    "print('mean of g5', g5.mean())\n",
    "print('mean of g6', g6.mean())\n",
    "print('mean of g7', g7.mean())\n",
    "print('mean of g8', g8.mean())\n",
    "print('mean of g9', g9.mean())\n",
    "print('mean of g10', g10.mean())\n",
    "print('mean of g11', g11.mean())\n",
    "print('mean of g12', g12.mean())\n",
    "print('mean of g13', g13.mean())\n",
    "print('mean of g14', g14.mean())"
   ]
  },
  {
   "cell_type": "raw",
   "id": "25b0466e",
   "metadata": {},
   "source": [
    "Null Hypothesis, Ho:\n",
    "    Intrest rate is not varies for different purpose of loans\n",
    "    (means are from same population)\n",
    "    \n",
    "Alternative Hypothesis, Ha:\n",
    "    Intrest rate varies for different purpose of loans\n",
    "    (means are from different population)\n",
    "    \n",
    "confidence interval:\n",
    "    95%\n",
    "\n",
    "P_Value:\n",
    "    0.05"
   ]
  },
  {
   "cell_type": "code",
   "execution_count": 39,
   "id": "81409fa7",
   "metadata": {},
   "outputs": [
    {
     "data": {
      "text/plain": [
       "F_onewayResult(statistic=7.4823081865964935, pvalue=1.1621022390953095e-14)"
      ]
     },
     "execution_count": 39,
     "metadata": {},
     "output_type": "execute_result"
    }
   ],
   "source": [
    "stats.f_oneway(g1,g2,g3,g4,g5,g6,g7,g8,g9,g10,g11,g12,g13,g14)"
   ]
  },
  {
   "cell_type": "markdown",
   "id": "70ea324e",
   "metadata": {},
   "source": [
    "####### output: we reject null hypothesis\n",
    "\n",
    "####### Business conclusions : Intrest rates are varies for different purpose of loans"
   ]
  },
  {
   "cell_type": "markdown",
   "id": "d9f6bfb0",
   "metadata": {},
   "source": [
    "# d. There is relationship between FICO scores and Home Ownership"
   ]
  },
  {
   "cell_type": "markdown",
   "id": "94e3b64c",
   "metadata": {},
   "source": [
    "# chi square test"
   ]
  },
  {
   "cell_type": "code",
   "execution_count": 40,
   "id": "594efbaa",
   "metadata": {},
   "outputs": [
    {
     "data": {
      "text/plain": [
       "0       735-739\n",
       "1       715-719\n",
       "2       690-694\n",
       "3       695-699\n",
       "4       695-699\n",
       "         ...   \n",
       "2495    705-709\n",
       "2496    740-744\n",
       "2497    680-684\n",
       "2498    675-679\n",
       "2499    670-674\n",
       "Name: FICO.Range, Length: 2500, dtype: object"
      ]
     },
     "execution_count": 40,
     "metadata": {},
     "output_type": "execute_result"
    }
   ],
   "source": [
    "loans['FICO.Range']"
   ]
  },
  {
   "cell_type": "code",
   "execution_count": 41,
   "id": "494b99f1",
   "metadata": {},
   "outputs": [
    {
     "data": {
      "text/plain": [
       "0       MORTGAGE\n",
       "1       MORTGAGE\n",
       "2       MORTGAGE\n",
       "3       MORTGAGE\n",
       "4           RENT\n",
       "          ...   \n",
       "2495    MORTGAGE\n",
       "2496         OWN\n",
       "2497    MORTGAGE\n",
       "2498        RENT\n",
       "2499        RENT\n",
       "Name: Home.Ownership, Length: 2500, dtype: object"
      ]
     },
     "execution_count": 41,
     "metadata": {},
     "output_type": "execute_result"
    }
   ],
   "source": [
    "loans['Home.Ownership']"
   ]
  },
  {
   "cell_type": "code",
   "execution_count": 42,
   "id": "0e15302b",
   "metadata": {},
   "outputs": [
    {
     "data": {
      "text/html": [
       "<div>\n",
       "<style scoped>\n",
       "    .dataframe tbody tr th:only-of-type {\n",
       "        vertical-align: middle;\n",
       "    }\n",
       "\n",
       "    .dataframe tbody tr th {\n",
       "        vertical-align: top;\n",
       "    }\n",
       "\n",
       "    .dataframe thead th {\n",
       "        text-align: right;\n",
       "    }\n",
       "</style>\n",
       "<table border=\"1\" class=\"dataframe\">\n",
       "  <thead>\n",
       "    <tr style=\"text-align: right;\">\n",
       "      <th>Home.Ownership</th>\n",
       "      <th>MORTGAGE</th>\n",
       "      <th>NONE</th>\n",
       "      <th>OTHER</th>\n",
       "      <th>OWN</th>\n",
       "      <th>RENT</th>\n",
       "    </tr>\n",
       "    <tr>\n",
       "      <th>FICO.Range</th>\n",
       "      <th></th>\n",
       "      <th></th>\n",
       "      <th></th>\n",
       "      <th></th>\n",
       "      <th></th>\n",
       "    </tr>\n",
       "  </thead>\n",
       "  <tbody>\n",
       "    <tr>\n",
       "      <th>640-644</th>\n",
       "      <td>0</td>\n",
       "      <td>0</td>\n",
       "      <td>0</td>\n",
       "      <td>1</td>\n",
       "      <td>4</td>\n",
       "    </tr>\n",
       "    <tr>\n",
       "      <th>645-649</th>\n",
       "      <td>1</td>\n",
       "      <td>0</td>\n",
       "      <td>0</td>\n",
       "      <td>0</td>\n",
       "      <td>2</td>\n",
       "    </tr>\n",
       "    <tr>\n",
       "      <th>650-654</th>\n",
       "      <td>1</td>\n",
       "      <td>0</td>\n",
       "      <td>0</td>\n",
       "      <td>0</td>\n",
       "      <td>0</td>\n",
       "    </tr>\n",
       "    <tr>\n",
       "      <th>655-659</th>\n",
       "      <td>0</td>\n",
       "      <td>0</td>\n",
       "      <td>1</td>\n",
       "      <td>0</td>\n",
       "      <td>3</td>\n",
       "    </tr>\n",
       "    <tr>\n",
       "      <th>660-664</th>\n",
       "      <td>41</td>\n",
       "      <td>0</td>\n",
       "      <td>0</td>\n",
       "      <td>17</td>\n",
       "      <td>67</td>\n",
       "    </tr>\n",
       "    <tr>\n",
       "      <th>665-669</th>\n",
       "      <td>52</td>\n",
       "      <td>0</td>\n",
       "      <td>0</td>\n",
       "      <td>18</td>\n",
       "      <td>75</td>\n",
       "    </tr>\n",
       "    <tr>\n",
       "      <th>670-674</th>\n",
       "      <td>67</td>\n",
       "      <td>0</td>\n",
       "      <td>1</td>\n",
       "      <td>13</td>\n",
       "      <td>90</td>\n",
       "    </tr>\n",
       "    <tr>\n",
       "      <th>675-679</th>\n",
       "      <td>79</td>\n",
       "      <td>0</td>\n",
       "      <td>1</td>\n",
       "      <td>11</td>\n",
       "      <td>75</td>\n",
       "    </tr>\n",
       "    <tr>\n",
       "      <th>680-684</th>\n",
       "      <td>55</td>\n",
       "      <td>0</td>\n",
       "      <td>2</td>\n",
       "      <td>9</td>\n",
       "      <td>91</td>\n",
       "    </tr>\n",
       "    <tr>\n",
       "      <th>685-689</th>\n",
       "      <td>61</td>\n",
       "      <td>0</td>\n",
       "      <td>0</td>\n",
       "      <td>10</td>\n",
       "      <td>65</td>\n",
       "    </tr>\n",
       "    <tr>\n",
       "      <th>690-694</th>\n",
       "      <td>55</td>\n",
       "      <td>0</td>\n",
       "      <td>0</td>\n",
       "      <td>10</td>\n",
       "      <td>75</td>\n",
       "    </tr>\n",
       "    <tr>\n",
       "      <th>695-699</th>\n",
       "      <td>69</td>\n",
       "      <td>0</td>\n",
       "      <td>0</td>\n",
       "      <td>10</td>\n",
       "      <td>76</td>\n",
       "    </tr>\n",
       "    <tr>\n",
       "      <th>700-704</th>\n",
       "      <td>60</td>\n",
       "      <td>0</td>\n",
       "      <td>0</td>\n",
       "      <td>12</td>\n",
       "      <td>59</td>\n",
       "    </tr>\n",
       "    <tr>\n",
       "      <th>705-709</th>\n",
       "      <td>66</td>\n",
       "      <td>0</td>\n",
       "      <td>0</td>\n",
       "      <td>12</td>\n",
       "      <td>56</td>\n",
       "    </tr>\n",
       "    <tr>\n",
       "      <th>710-714</th>\n",
       "      <td>55</td>\n",
       "      <td>0</td>\n",
       "      <td>0</td>\n",
       "      <td>10</td>\n",
       "      <td>47</td>\n",
       "    </tr>\n",
       "    <tr>\n",
       "      <th>715-719</th>\n",
       "      <td>46</td>\n",
       "      <td>0</td>\n",
       "      <td>0</td>\n",
       "      <td>2</td>\n",
       "      <td>45</td>\n",
       "    </tr>\n",
       "    <tr>\n",
       "      <th>720-724</th>\n",
       "      <td>49</td>\n",
       "      <td>0</td>\n",
       "      <td>0</td>\n",
       "      <td>1</td>\n",
       "      <td>64</td>\n",
       "    </tr>\n",
       "    <tr>\n",
       "      <th>725-729</th>\n",
       "      <td>48</td>\n",
       "      <td>0</td>\n",
       "      <td>0</td>\n",
       "      <td>5</td>\n",
       "      <td>41</td>\n",
       "    </tr>\n",
       "    <tr>\n",
       "      <th>730-734</th>\n",
       "      <td>46</td>\n",
       "      <td>0</td>\n",
       "      <td>0</td>\n",
       "      <td>7</td>\n",
       "      <td>41</td>\n",
       "    </tr>\n",
       "    <tr>\n",
       "      <th>735-739</th>\n",
       "      <td>30</td>\n",
       "      <td>0</td>\n",
       "      <td>0</td>\n",
       "      <td>6</td>\n",
       "      <td>29</td>\n",
       "    </tr>\n",
       "    <tr>\n",
       "      <th>740-744</th>\n",
       "      <td>26</td>\n",
       "      <td>0</td>\n",
       "      <td>0</td>\n",
       "      <td>4</td>\n",
       "      <td>23</td>\n",
       "    </tr>\n",
       "    <tr>\n",
       "      <th>745-749</th>\n",
       "      <td>26</td>\n",
       "      <td>0</td>\n",
       "      <td>0</td>\n",
       "      <td>7</td>\n",
       "      <td>21</td>\n",
       "    </tr>\n",
       "    <tr>\n",
       "      <th>750-754</th>\n",
       "      <td>32</td>\n",
       "      <td>0</td>\n",
       "      <td>0</td>\n",
       "      <td>4</td>\n",
       "      <td>25</td>\n",
       "    </tr>\n",
       "    <tr>\n",
       "      <th>755-759</th>\n",
       "      <td>28</td>\n",
       "      <td>0</td>\n",
       "      <td>0</td>\n",
       "      <td>6</td>\n",
       "      <td>12</td>\n",
       "    </tr>\n",
       "    <tr>\n",
       "      <th>760-764</th>\n",
       "      <td>28</td>\n",
       "      <td>0</td>\n",
       "      <td>0</td>\n",
       "      <td>4</td>\n",
       "      <td>14</td>\n",
       "    </tr>\n",
       "    <tr>\n",
       "      <th>765-769</th>\n",
       "      <td>22</td>\n",
       "      <td>0</td>\n",
       "      <td>0</td>\n",
       "      <td>3</td>\n",
       "      <td>11</td>\n",
       "    </tr>\n",
       "    <tr>\n",
       "      <th>770-774</th>\n",
       "      <td>12</td>\n",
       "      <td>0</td>\n",
       "      <td>0</td>\n",
       "      <td>1</td>\n",
       "      <td>4</td>\n",
       "    </tr>\n",
       "    <tr>\n",
       "      <th>775-779</th>\n",
       "      <td>13</td>\n",
       "      <td>0</td>\n",
       "      <td>0</td>\n",
       "      <td>3</td>\n",
       "      <td>6</td>\n",
       "    </tr>\n",
       "    <tr>\n",
       "      <th>780-784</th>\n",
       "      <td>21</td>\n",
       "      <td>0</td>\n",
       "      <td>0</td>\n",
       "      <td>3</td>\n",
       "      <td>4</td>\n",
       "    </tr>\n",
       "    <tr>\n",
       "      <th>785-789</th>\n",
       "      <td>12</td>\n",
       "      <td>0</td>\n",
       "      <td>0</td>\n",
       "      <td>2</td>\n",
       "      <td>5</td>\n",
       "    </tr>\n",
       "    <tr>\n",
       "      <th>790-794</th>\n",
       "      <td>15</td>\n",
       "      <td>0</td>\n",
       "      <td>0</td>\n",
       "      <td>1</td>\n",
       "      <td>4</td>\n",
       "    </tr>\n",
       "    <tr>\n",
       "      <th>795-799</th>\n",
       "      <td>7</td>\n",
       "      <td>0</td>\n",
       "      <td>0</td>\n",
       "      <td>1</td>\n",
       "      <td>5</td>\n",
       "    </tr>\n",
       "    <tr>\n",
       "      <th>800-804</th>\n",
       "      <td>7</td>\n",
       "      <td>1</td>\n",
       "      <td>0</td>\n",
       "      <td>3</td>\n",
       "      <td>2</td>\n",
       "    </tr>\n",
       "    <tr>\n",
       "      <th>805-809</th>\n",
       "      <td>6</td>\n",
       "      <td>0</td>\n",
       "      <td>0</td>\n",
       "      <td>2</td>\n",
       "      <td>3</td>\n",
       "    </tr>\n",
       "    <tr>\n",
       "      <th>810-814</th>\n",
       "      <td>5</td>\n",
       "      <td>0</td>\n",
       "      <td>0</td>\n",
       "      <td>1</td>\n",
       "      <td>2</td>\n",
       "    </tr>\n",
       "    <tr>\n",
       "      <th>815-819</th>\n",
       "      <td>6</td>\n",
       "      <td>0</td>\n",
       "      <td>0</td>\n",
       "      <td>0</td>\n",
       "      <td>0</td>\n",
       "    </tr>\n",
       "    <tr>\n",
       "      <th>820-824</th>\n",
       "      <td>0</td>\n",
       "      <td>0</td>\n",
       "      <td>0</td>\n",
       "      <td>1</td>\n",
       "      <td>0</td>\n",
       "    </tr>\n",
       "    <tr>\n",
       "      <th>830-834</th>\n",
       "      <td>1</td>\n",
       "      <td>0</td>\n",
       "      <td>0</td>\n",
       "      <td>0</td>\n",
       "      <td>0</td>\n",
       "    </tr>\n",
       "  </tbody>\n",
       "</table>\n",
       "</div>"
      ],
      "text/plain": [
       "Home.Ownership  MORTGAGE  NONE  OTHER  OWN  RENT\n",
       "FICO.Range                                      \n",
       "640-644                0     0      0    1     4\n",
       "645-649                1     0      0    0     2\n",
       "650-654                1     0      0    0     0\n",
       "655-659                0     0      1    0     3\n",
       "660-664               41     0      0   17    67\n",
       "665-669               52     0      0   18    75\n",
       "670-674               67     0      1   13    90\n",
       "675-679               79     0      1   11    75\n",
       "680-684               55     0      2    9    91\n",
       "685-689               61     0      0   10    65\n",
       "690-694               55     0      0   10    75\n",
       "695-699               69     0      0   10    76\n",
       "700-704               60     0      0   12    59\n",
       "705-709               66     0      0   12    56\n",
       "710-714               55     0      0   10    47\n",
       "715-719               46     0      0    2    45\n",
       "720-724               49     0      0    1    64\n",
       "725-729               48     0      0    5    41\n",
       "730-734               46     0      0    7    41\n",
       "735-739               30     0      0    6    29\n",
       "740-744               26     0      0    4    23\n",
       "745-749               26     0      0    7    21\n",
       "750-754               32     0      0    4    25\n",
       "755-759               28     0      0    6    12\n",
       "760-764               28     0      0    4    14\n",
       "765-769               22     0      0    3    11\n",
       "770-774               12     0      0    1     4\n",
       "775-779               13     0      0    3     6\n",
       "780-784               21     0      0    3     4\n",
       "785-789               12     0      0    2     5\n",
       "790-794               15     0      0    1     4\n",
       "795-799                7     0      0    1     5\n",
       "800-804                7     1      0    3     2\n",
       "805-809                6     0      0    2     3\n",
       "810-814                5     0      0    1     2\n",
       "815-819                6     0      0    0     0\n",
       "820-824                0     0      0    1     0\n",
       "830-834                1     0      0    0     0"
      ]
     },
     "execution_count": 42,
     "metadata": {},
     "output_type": "execute_result"
    }
   ],
   "source": [
    "pd.crosstab(loans['FICO.Range'],loans['Home.Ownership'] )"
   ]
  },
  {
   "cell_type": "raw",
   "id": "5d322e94",
   "metadata": {},
   "source": [
    "Null Hypothesis, Ho:\n",
    "    There is no relationship among the variables\n",
    "    \n",
    "Alternative Hypothesis, Ha:\n",
    "    There is a relationship among the variables\n",
    "    \n",
    "confidence interval:\n",
    "    95%\n",
    "\n",
    "P_Value:\n",
    "    0.05"
   ]
  },
  {
   "cell_type": "code",
   "execution_count": 43,
   "id": "5ea176f9",
   "metadata": {},
   "outputs": [
    {
     "data": {
      "text/plain": [
       "(473.67569772366426,\n",
       " 9.68542787729629e-36,\n",
       " 148,\n",
       " array([[2.29600e+00, 2.00000e-03, 1.00000e-02, 4.00000e-01, 2.29200e+00],\n",
       "        [1.37760e+00, 1.20000e-03, 6.00000e-03, 2.40000e-01, 1.37520e+00],\n",
       "        [4.59200e-01, 4.00000e-04, 2.00000e-03, 8.00000e-02, 4.58400e-01],\n",
       "        [1.83680e+00, 1.60000e-03, 8.00000e-03, 3.20000e-01, 1.83360e+00],\n",
       "        [5.74000e+01, 5.00000e-02, 2.50000e-01, 1.00000e+01, 5.73000e+01],\n",
       "        [6.65840e+01, 5.80000e-02, 2.90000e-01, 1.16000e+01, 6.64680e+01],\n",
       "        [7.85232e+01, 6.84000e-02, 3.42000e-01, 1.36800e+01, 7.83864e+01],\n",
       "        [7.62272e+01, 6.64000e-02, 3.32000e-01, 1.32800e+01, 7.60944e+01],\n",
       "        [7.20944e+01, 6.28000e-02, 3.14000e-01, 1.25600e+01, 7.19688e+01],\n",
       "        [6.24512e+01, 5.44000e-02, 2.72000e-01, 1.08800e+01, 6.23424e+01],\n",
       "        [6.42880e+01, 5.60000e-02, 2.80000e-01, 1.12000e+01, 6.41760e+01],\n",
       "        [7.11760e+01, 6.20000e-02, 3.10000e-01, 1.24000e+01, 7.10520e+01],\n",
       "        [6.01552e+01, 5.24000e-02, 2.62000e-01, 1.04800e+01, 6.00504e+01],\n",
       "        [6.15328e+01, 5.36000e-02, 2.68000e-01, 1.07200e+01, 6.14256e+01],\n",
       "        [5.14304e+01, 4.48000e-02, 2.24000e-01, 8.96000e+00, 5.13408e+01],\n",
       "        [4.27056e+01, 3.72000e-02, 1.86000e-01, 7.44000e+00, 4.26312e+01],\n",
       "        [5.23488e+01, 4.56000e-02, 2.28000e-01, 9.12000e+00, 5.22576e+01],\n",
       "        [4.31648e+01, 3.76000e-02, 1.88000e-01, 7.52000e+00, 4.30896e+01],\n",
       "        [4.31648e+01, 3.76000e-02, 1.88000e-01, 7.52000e+00, 4.30896e+01],\n",
       "        [2.98480e+01, 2.60000e-02, 1.30000e-01, 5.20000e+00, 2.97960e+01],\n",
       "        [2.43376e+01, 2.12000e-02, 1.06000e-01, 4.24000e+00, 2.42952e+01],\n",
       "        [2.47968e+01, 2.16000e-02, 1.08000e-01, 4.32000e+00, 2.47536e+01],\n",
       "        [2.80112e+01, 2.44000e-02, 1.22000e-01, 4.88000e+00, 2.79624e+01],\n",
       "        [2.11232e+01, 1.84000e-02, 9.20000e-02, 3.68000e+00, 2.10864e+01],\n",
       "        [2.11232e+01, 1.84000e-02, 9.20000e-02, 3.68000e+00, 2.10864e+01],\n",
       "        [1.65312e+01, 1.44000e-02, 7.20000e-02, 2.88000e+00, 1.65024e+01],\n",
       "        [7.80640e+00, 6.80000e-03, 3.40000e-02, 1.36000e+00, 7.79280e+00],\n",
       "        [1.01024e+01, 8.80000e-03, 4.40000e-02, 1.76000e+00, 1.00848e+01],\n",
       "        [1.28576e+01, 1.12000e-02, 5.60000e-02, 2.24000e+00, 1.28352e+01],\n",
       "        [8.72480e+00, 7.60000e-03, 3.80000e-02, 1.52000e+00, 8.70960e+00],\n",
       "        [9.18400e+00, 8.00000e-03, 4.00000e-02, 1.60000e+00, 9.16800e+00],\n",
       "        [5.96960e+00, 5.20000e-03, 2.60000e-02, 1.04000e+00, 5.95920e+00],\n",
       "        [5.96960e+00, 5.20000e-03, 2.60000e-02, 1.04000e+00, 5.95920e+00],\n",
       "        [5.05120e+00, 4.40000e-03, 2.20000e-02, 8.80000e-01, 5.04240e+00],\n",
       "        [3.67360e+00, 3.20000e-03, 1.60000e-02, 6.40000e-01, 3.66720e+00],\n",
       "        [2.75520e+00, 2.40000e-03, 1.20000e-02, 4.80000e-01, 2.75040e+00],\n",
       "        [4.59200e-01, 4.00000e-04, 2.00000e-03, 8.00000e-02, 4.58400e-01],\n",
       "        [4.59200e-01, 4.00000e-04, 2.00000e-03, 8.00000e-02, 4.58400e-01]]))"
      ]
     },
     "execution_count": 43,
     "metadata": {},
     "output_type": "execute_result"
    }
   ],
   "source": [
    "stats.chi2_contingency(pd.crosstab(loans['FICO.Range'],loans['Home.Ownership'] ))"
   ]
  },
  {
   "cell_type": "markdown",
   "id": "7335aa1b",
   "metadata": {},
   "source": [
    "####### output: we reject null hypothesis"
   ]
  },
  {
   "cell_type": "markdown",
   "id": "088853ec",
   "metadata": {},
   "source": [
    "####### Business conclusion: There is a relationship between FICO scores and Home Ownership"
   ]
  },
  {
   "cell_type": "markdown",
   "id": "7b283ecf",
   "metadata": {},
   "source": [
    "## People with owning home will have high FICO scores."
   ]
  },
  {
   "cell_type": "code",
   "execution_count": 44,
   "id": "d78f336f",
   "metadata": {},
   "outputs": [],
   "source": [
    "loans['FICO.Range']=loans['FICO.Range'].str.replace('-','.').astype('float')"
   ]
  },
  {
   "cell_type": "code",
   "execution_count": 45,
   "id": "a00a1861",
   "metadata": {},
   "outputs": [],
   "source": [
    "loans.rename(columns={'Home.Ownership':'HomeOwnership', 'FICO.Range':'FICORange', 'FICO.Range_2':'FICORange_2'}, inplace=True)"
   ]
  },
  {
   "cell_type": "code",
   "execution_count": 46,
   "id": "f0aec875",
   "metadata": {},
   "outputs": [
    {
     "data": {
      "text/plain": [
       "MORTGAGE    1148\n",
       "RENT        1146\n",
       "OWN          200\n",
       "OTHER          5\n",
       "NONE           1\n",
       "Name: HomeOwnership, dtype: int64"
      ]
     },
     "execution_count": 46,
     "metadata": {},
     "output_type": "execute_result"
    }
   ],
   "source": [
    "loans.HomeOwnership.value_counts()"
   ]
  },
  {
   "cell_type": "code",
   "execution_count": 47,
   "id": "f2c177d5",
   "metadata": {},
   "outputs": [],
   "source": [
    "g18 = loans.loc[loans.HomeOwnership=='OWN','FICORange_2']\n",
    "g19 = loans.loc[loans.HomeOwnership=='MORTGAGE', 'FICORange_2']\n",
    "g20 = loans.loc[loans.HomeOwnership=='RENT', 'FICORange_2']\n",
    "g21 = loans.loc[loans.HomeOwnership=='OTHER', 'FICORange_2']\n",
    "g22 = loans.loc[loans.HomeOwnership=='NONE', 'FICORange_2']"
   ]
  },
  {
   "cell_type": "code",
   "execution_count": 48,
   "id": "26bc095e",
   "metadata": {},
   "outputs": [
    {
     "name": "stdout",
     "output_type": "stream",
     "text": [
      "mean of g18 : 706.55\n",
      "mean of g19 : 711.6811846689895\n",
      "mean of g20 : 700.0523560209424\n",
      "mean of g21 : 672.0\n",
      "mean of g22 : 800.0\n"
     ]
    }
   ],
   "source": [
    "print('mean of g18 :' ,g18.mean())\n",
    "print('mean of g19 :' ,g19.mean())\n",
    "print('mean of g20 :' ,g20.mean())\n",
    "print('mean of g21 :' ,g21.mean())\n",
    "print('mean of g22 :' ,g22.mean())"
   ]
  },
  {
   "cell_type": "raw",
   "id": "cd062766",
   "metadata": {},
   "source": [
    "Null Hypothesis, Ho:\n",
    "    means are from same population\n",
    "    \n",
    "Alternative Hypothesis, Ha:\n",
    "    means are from different population\n",
    "    \n",
    "confidence interval:\n",
    "    95%\n",
    "\n",
    "P_Value:\n",
    "    0.05"
   ]
  },
  {
   "cell_type": "code",
   "execution_count": 49,
   "id": "1a14bd6f",
   "metadata": {},
   "outputs": [
    {
     "data": {
      "text/plain": [
       "F_onewayResult(statistic=19.344856061810358, pvalue=1.0922383928478437e-15)"
      ]
     },
     "execution_count": 49,
     "metadata": {},
     "output_type": "execute_result"
    }
   ],
   "source": [
    "stats.f_oneway(g18,g19,g20,g21,g22)"
   ]
  },
  {
   "cell_type": "markdown",
   "id": "7f69c0a3",
   "metadata": {},
   "source": [
    "####### output: we reject null hypothesis\n",
    "\n",
    "####### Business conclusions : FICO Ranges are varies for different Home Ownership"
   ]
  },
  {
   "cell_type": "markdown",
   "id": "153b6a48",
   "metadata": {},
   "source": [
    "### Home Ownership of Own fico range and Home Ownership of MORTGAGE fico range"
   ]
  },
  {
   "cell_type": "raw",
   "id": "996cab73",
   "metadata": {},
   "source": [
    "Null Hypothesis, Ho:\n",
    "    Home Ownership of Own fico range <= Home Ownership of MORTGAGE fico range\n",
    "    \n",
    "Alternative Hypothesis, Ha:\n",
    "    Home Ownership of Own fico range > Home Ownership of MORTGAGE fico range\n",
    "    \n",
    "confidence interval:\n",
    "    95%\n",
    "\n",
    "P_Value:\n",
    "    0.05"
   ]
  },
  {
   "cell_type": "code",
   "execution_count": 50,
   "id": "1ac091e3",
   "metadata": {},
   "outputs": [
    {
     "data": {
      "text/plain": [
       "F_onewayResult(statistic=3.2190828958701903, pvalue=0.07300875028127543)"
      ]
     },
     "execution_count": 50,
     "metadata": {},
     "output_type": "execute_result"
    }
   ],
   "source": [
    "stats.f_oneway(g18,g19)"
   ]
  },
  {
   "cell_type": "markdown",
   "id": "d37c0054",
   "metadata": {},
   "source": [
    "####### output: we fail to reject null hypothesis\n",
    "\n",
    "####### Business conclusions : Home Ownership of Own fico range is lesser than Home Ownership of MORTGAGE fico range"
   ]
  },
  {
   "cell_type": "markdown",
   "id": "516f4ff3",
   "metadata": {},
   "source": [
    "### Home Ownership of Own fico range and Home Ownership of RENT fico range"
   ]
  },
  {
   "cell_type": "raw",
   "id": "7a2d83cb",
   "metadata": {},
   "source": [
    "Null Hypothesis, Ho:\n",
    "    Home Ownership of Own fico range <= Home Ownership of RENT fico range\n",
    "    \n",
    "Alternative Hypothesis, Ha:\n",
    "    Home Ownership of Own fico range > Home Ownership of RENT fico range\n",
    "    \n",
    "confidence interval:\n",
    "    95%\n",
    "\n",
    "P_Value:\n",
    "    0.05"
   ]
  },
  {
   "cell_type": "code",
   "execution_count": 51,
   "id": "705fc989",
   "metadata": {},
   "outputs": [
    {
     "data": {
      "text/plain": [
       "F_onewayResult(statistic=6.831300264864858, pvalue=0.009057445924973151)"
      ]
     },
     "execution_count": 51,
     "metadata": {},
     "output_type": "execute_result"
    }
   ],
   "source": [
    "stats.f_oneway(g18,g20)"
   ]
  },
  {
   "cell_type": "markdown",
   "id": "b990d3d9",
   "metadata": {},
   "source": [
    "####### output: we reject null hypothesis\n",
    "\n",
    "####### Business conclusions : Home Ownership of Own fico range is higher than Home Ownership of RENT fico range"
   ]
  },
  {
   "cell_type": "markdown",
   "id": "d8ef7c5e",
   "metadata": {},
   "source": [
    "### Home Ownership of Own fico range and Home Ownership of OTHER fico range"
   ]
  },
  {
   "cell_type": "raw",
   "id": "42c2b17b",
   "metadata": {},
   "source": [
    "Null Hypothesis, Ho:\n",
    "    Home Ownership of Own fico range <= Home Ownership of OTHER fico range\n",
    "    \n",
    "Alternative Hypothesis, Ha:\n",
    "    Home Ownership of Own fico range > Home Ownership of OTHER fico range\n",
    "    \n",
    "confidence interval:\n",
    "    95%\n",
    "\n",
    "P_Value:\n",
    "    0.05"
   ]
  },
  {
   "cell_type": "code",
   "execution_count": 52,
   "id": "aeb0b3e0",
   "metadata": {},
   "outputs": [
    {
     "data": {
      "text/plain": [
       "F_onewayResult(statistic=3.738325398842248, pvalue=0.054568518198342235)"
      ]
     },
     "execution_count": 52,
     "metadata": {},
     "output_type": "execute_result"
    }
   ],
   "source": [
    "stats.f_oneway(g18,g21)"
   ]
  },
  {
   "cell_type": "markdown",
   "id": "dec679cc",
   "metadata": {},
   "source": [
    "####### output: we fail to reject null hypothesis\n",
    "\n",
    "####### Business conclusions : Home Ownership of Own fico range is lesser than Home Ownership of other fico range"
   ]
  },
  {
   "cell_type": "markdown",
   "id": "815ab21f",
   "metadata": {},
   "source": [
    "### Home Ownership of Own fico range and Home Ownership of NONE fico range"
   ]
  },
  {
   "cell_type": "raw",
   "id": "6d9d1ea5",
   "metadata": {},
   "source": [
    "Null Hypothesis, Ho:\n",
    "    Home Ownership of Own fico range <= Home Ownership of NONE fico range\n",
    "    \n",
    "Alternative Hypothesis, Ha:\n",
    "    Home Ownership of Own fico range > Home Ownership of NONE fico range\n",
    "    \n",
    "confidence interval:\n",
    "    95%\n",
    "\n",
    "P_Value:\n",
    "    0.05"
   ]
  },
  {
   "cell_type": "code",
   "execution_count": 53,
   "id": "2fa2ab56",
   "metadata": {},
   "outputs": [
    {
     "data": {
      "text/plain": [
       "F_onewayResult(statistic=5.47615140015815, pvalue=0.020268343108958673)"
      ]
     },
     "execution_count": 53,
     "metadata": {},
     "output_type": "execute_result"
    }
   ],
   "source": [
    "stats.f_oneway(g18,g22)"
   ]
  },
  {
   "cell_type": "markdown",
   "id": "5c6e5569",
   "metadata": {},
   "source": [
    "####### output: we fail to reject null hypothesis\n",
    "\n",
    "####### Business conclusions : Home Ownership of Own fico range is lesser than Home Ownership of other fico range"
   ]
  },
  {
   "cell_type": "markdown",
   "id": "24c50e73",
   "metadata": {},
   "source": [
    "# ..................BUSINESS PROBLEM - 2.........................."
   ]
  },
  {
   "cell_type": "markdown",
   "id": "e84c6620",
   "metadata": {},
   "source": [
    "### import data"
   ]
  },
  {
   "cell_type": "code",
   "execution_count": 54,
   "id": "ece2f501",
   "metadata": {},
   "outputs": [],
   "source": [
    "pricequt = pd.read_csv(file_path+'Price_Quotes.csv')"
   ]
  },
  {
   "cell_type": "markdown",
   "id": "f2442152",
   "metadata": {},
   "source": [
    "### data_inspection"
   ]
  },
  {
   "cell_type": "code",
   "execution_count": 55,
   "id": "648b269e",
   "metadata": {},
   "outputs": [
    {
     "data": {
      "text/html": [
       "<div>\n",
       "<style scoped>\n",
       "    .dataframe tbody tr th:only-of-type {\n",
       "        vertical-align: middle;\n",
       "    }\n",
       "\n",
       "    .dataframe tbody tr th {\n",
       "        vertical-align: top;\n",
       "    }\n",
       "\n",
       "    .dataframe thead th {\n",
       "        text-align: right;\n",
       "    }\n",
       "</style>\n",
       "<table border=\"1\" class=\"dataframe\">\n",
       "  <thead>\n",
       "    <tr style=\"text-align: right;\">\n",
       "      <th></th>\n",
       "      <th>Order_Number</th>\n",
       "      <th>Barry_Price</th>\n",
       "      <th>Mary_Price</th>\n",
       "    </tr>\n",
       "  </thead>\n",
       "  <tbody>\n",
       "    <tr>\n",
       "      <th>0</th>\n",
       "      <td>1</td>\n",
       "      <td>126</td>\n",
       "      <td>114</td>\n",
       "    </tr>\n",
       "    <tr>\n",
       "      <th>1</th>\n",
       "      <td>2</td>\n",
       "      <td>110</td>\n",
       "      <td>118</td>\n",
       "    </tr>\n",
       "    <tr>\n",
       "      <th>2</th>\n",
       "      <td>3</td>\n",
       "      <td>138</td>\n",
       "      <td>114</td>\n",
       "    </tr>\n",
       "    <tr>\n",
       "      <th>3</th>\n",
       "      <td>4</td>\n",
       "      <td>142</td>\n",
       "      <td>111</td>\n",
       "    </tr>\n",
       "    <tr>\n",
       "      <th>4</th>\n",
       "      <td>5</td>\n",
       "      <td>146</td>\n",
       "      <td>129</td>\n",
       "    </tr>\n",
       "    <tr>\n",
       "      <th>5</th>\n",
       "      <td>6</td>\n",
       "      <td>136</td>\n",
       "      <td>119</td>\n",
       "    </tr>\n",
       "    <tr>\n",
       "      <th>6</th>\n",
       "      <td>7</td>\n",
       "      <td>94</td>\n",
       "      <td>97</td>\n",
       "    </tr>\n",
       "    <tr>\n",
       "      <th>7</th>\n",
       "      <td>8</td>\n",
       "      <td>103</td>\n",
       "      <td>104</td>\n",
       "    </tr>\n",
       "    <tr>\n",
       "      <th>8</th>\n",
       "      <td>9</td>\n",
       "      <td>140</td>\n",
       "      <td>127</td>\n",
       "    </tr>\n",
       "    <tr>\n",
       "      <th>9</th>\n",
       "      <td>10</td>\n",
       "      <td>152</td>\n",
       "      <td>133</td>\n",
       "    </tr>\n",
       "    <tr>\n",
       "      <th>10</th>\n",
       "      <td>11</td>\n",
       "      <td>108</td>\n",
       "      <td>103</td>\n",
       "    </tr>\n",
       "    <tr>\n",
       "      <th>11</th>\n",
       "      <td>12</td>\n",
       "      <td>97</td>\n",
       "      <td>108</td>\n",
       "    </tr>\n",
       "  </tbody>\n",
       "</table>\n",
       "</div>"
      ],
      "text/plain": [
       "    Order_Number  Barry_Price  Mary_Price\n",
       "0              1          126         114\n",
       "1              2          110         118\n",
       "2              3          138         114\n",
       "3              4          142         111\n",
       "4              5          146         129\n",
       "5              6          136         119\n",
       "6              7           94          97\n",
       "7              8          103         104\n",
       "8              9          140         127\n",
       "9             10          152         133\n",
       "10            11          108         103\n",
       "11            12           97         108"
      ]
     },
     "execution_count": 55,
     "metadata": {},
     "output_type": "execute_result"
    }
   ],
   "source": [
    "pricequt"
   ]
  },
  {
   "cell_type": "code",
   "execution_count": 56,
   "id": "f25778df",
   "metadata": {},
   "outputs": [
    {
     "name": "stdout",
     "output_type": "stream",
     "text": [
      "<class 'pandas.core.frame.DataFrame'>\n",
      "RangeIndex: 12 entries, 0 to 11\n",
      "Data columns (total 3 columns):\n",
      " #   Column        Non-Null Count  Dtype\n",
      "---  ------        --------------  -----\n",
      " 0   Order_Number  12 non-null     int64\n",
      " 1   Barry_Price   12 non-null     int64\n",
      " 2   Mary_Price    12 non-null     int64\n",
      "dtypes: int64(3)\n",
      "memory usage: 416.0 bytes\n"
     ]
    }
   ],
   "source": [
    "pricequt.info()"
   ]
  },
  {
   "cell_type": "markdown",
   "id": "b88bee60",
   "metadata": {},
   "source": [
    "# ttest, paired sample ttest or relational ttest"
   ]
  },
  {
   "cell_type": "raw",
   "id": "f2cc3211",
   "metadata": {},
   "source": [
    "Null Hypothesis, Ho:\n",
    "   Mary_Price <= Barry_Price\n",
    "    \n",
    "Alternative Hypothesis, Ha:\n",
    "    Mary_Price <> Barry_Price\n",
    "    \n",
    "confidence interval:\n",
    "    95%\n",
    "\n",
    "P_Value:\n",
    "    0.05"
   ]
  },
  {
   "cell_type": "code",
   "execution_count": 57,
   "id": "d38bc3fc",
   "metadata": {},
   "outputs": [
    {
     "data": {
      "text/plain": [
       "124.33333333333333"
      ]
     },
     "execution_count": 57,
     "metadata": {},
     "output_type": "execute_result"
    }
   ],
   "source": [
    "pricequt.Barry_Price.mean()"
   ]
  },
  {
   "cell_type": "code",
   "execution_count": 58,
   "id": "0db64b8a",
   "metadata": {},
   "outputs": [
    {
     "data": {
      "text/plain": [
       "114.75"
      ]
     },
     "execution_count": 58,
     "metadata": {},
     "output_type": "execute_result"
    }
   ],
   "source": [
    "pricequt.Mary_Price.mean()"
   ]
  },
  {
   "cell_type": "code",
   "execution_count": 59,
   "id": "f48ff34b",
   "metadata": {},
   "outputs": [
    {
     "data": {
      "text/plain": [
       "Ttest_relResult(statistic=2.521376510892349, pvalue=0.02840588045242053)"
      ]
     },
     "execution_count": 59,
     "metadata": {},
     "output_type": "execute_result"
    }
   ],
   "source": [
    "stats.ttest_rel(pricequt.Barry_Price, pricequt.Mary_Price)"
   ]
  },
  {
   "cell_type": "markdown",
   "id": "05d7d6c3",
   "metadata": {},
   "source": [
    "####### output: we fail to reject null hypothesis "
   ]
  },
  {
   "cell_type": "markdown",
   "id": "5c42b806",
   "metadata": {},
   "source": [
    "####### Business conclusions: Mary price is lesser than Barry price, in other words Barry price is higher than the Mary price"
   ]
  },
  {
   "cell_type": "markdown",
   "id": "1f3e56aa",
   "metadata": {},
   "source": [
    "# ..................BUSINESS PROBLEM - 3.........................."
   ]
  },
  {
   "cell_type": "markdown",
   "id": "5f9bca48",
   "metadata": {},
   "source": [
    "### importing data"
   ]
  },
  {
   "cell_type": "code",
   "execution_count": 60,
   "id": "9662f64e",
   "metadata": {},
   "outputs": [],
   "source": [
    "treatment = pd.read_csv(file_path+'Treatment_Facility.csv')"
   ]
  },
  {
   "cell_type": "markdown",
   "id": "d2e20a5a",
   "metadata": {},
   "source": [
    "### data inspection"
   ]
  },
  {
   "cell_type": "code",
   "execution_count": 61,
   "id": "eed34016",
   "metadata": {},
   "outputs": [
    {
     "data": {
      "text/html": [
       "<div>\n",
       "<style scoped>\n",
       "    .dataframe tbody tr th:only-of-type {\n",
       "        vertical-align: middle;\n",
       "    }\n",
       "\n",
       "    .dataframe tbody tr th {\n",
       "        vertical-align: top;\n",
       "    }\n",
       "\n",
       "    .dataframe thead th {\n",
       "        text-align: right;\n",
       "    }\n",
       "</style>\n",
       "<table border=\"1\" class=\"dataframe\">\n",
       "  <thead>\n",
       "    <tr style=\"text-align: right;\">\n",
       "      <th></th>\n",
       "      <th>Month</th>\n",
       "      <th>Reengineer</th>\n",
       "      <th>Employee_Turnover</th>\n",
       "      <th>VAR4</th>\n",
       "      <th>VAR5</th>\n",
       "    </tr>\n",
       "  </thead>\n",
       "  <tbody>\n",
       "    <tr>\n",
       "      <th>0</th>\n",
       "      <td>1</td>\n",
       "      <td>Prior</td>\n",
       "      <td>0.0000</td>\n",
       "      <td>24.390244</td>\n",
       "      <td>42.682927</td>\n",
       "    </tr>\n",
       "    <tr>\n",
       "      <th>1</th>\n",
       "      <td>2</td>\n",
       "      <td>Prior</td>\n",
       "      <td>6.0606</td>\n",
       "      <td>19.354839</td>\n",
       "      <td>25.806452</td>\n",
       "    </tr>\n",
       "    <tr>\n",
       "      <th>2</th>\n",
       "      <td>3</td>\n",
       "      <td>Prior</td>\n",
       "      <td>12.1212</td>\n",
       "      <td>35.087719</td>\n",
       "      <td>146.198830</td>\n",
       "    </tr>\n",
       "    <tr>\n",
       "      <th>3</th>\n",
       "      <td>4</td>\n",
       "      <td>Prior</td>\n",
       "      <td>3.3333</td>\n",
       "      <td>18.404908</td>\n",
       "      <td>110.429448</td>\n",
       "    </tr>\n",
       "    <tr>\n",
       "      <th>4</th>\n",
       "      <td>5</td>\n",
       "      <td>Prior</td>\n",
       "      <td>12.9032</td>\n",
       "      <td>17.964072</td>\n",
       "      <td>23.952096</td>\n",
       "    </tr>\n",
       "    <tr>\n",
       "      <th>5</th>\n",
       "      <td>6</td>\n",
       "      <td>Prior</td>\n",
       "      <td>9.6774</td>\n",
       "      <td>41.176471</td>\n",
       "      <td>47.058824</td>\n",
       "    </tr>\n",
       "    <tr>\n",
       "      <th>6</th>\n",
       "      <td>7</td>\n",
       "      <td>Prior</td>\n",
       "      <td>11.7647</td>\n",
       "      <td>13.422819</td>\n",
       "      <td>0.000000</td>\n",
       "    </tr>\n",
       "    <tr>\n",
       "      <th>7</th>\n",
       "      <td>8</td>\n",
       "      <td>Prior</td>\n",
       "      <td>11.4286</td>\n",
       "      <td>31.250000</td>\n",
       "      <td>25.000000</td>\n",
       "    </tr>\n",
       "    <tr>\n",
       "      <th>8</th>\n",
       "      <td>9</td>\n",
       "      <td>Prior</td>\n",
       "      <td>23.0769</td>\n",
       "      <td>17.241379</td>\n",
       "      <td>132.183908</td>\n",
       "    </tr>\n",
       "    <tr>\n",
       "      <th>9</th>\n",
       "      <td>10</td>\n",
       "      <td>Prior</td>\n",
       "      <td>15.0000</td>\n",
       "      <td>16.574586</td>\n",
       "      <td>16.574586</td>\n",
       "    </tr>\n",
       "    <tr>\n",
       "      <th>10</th>\n",
       "      <td>11</td>\n",
       "      <td>Prior</td>\n",
       "      <td>10.0000</td>\n",
       "      <td>5.917160</td>\n",
       "      <td>88.757396</td>\n",
       "    </tr>\n",
       "    <tr>\n",
       "      <th>11</th>\n",
       "      <td>12</td>\n",
       "      <td>Prior</td>\n",
       "      <td>26.0870</td>\n",
       "      <td>21.164021</td>\n",
       "      <td>31.746032</td>\n",
       "    </tr>\n",
       "    <tr>\n",
       "      <th>12</th>\n",
       "      <td>13</td>\n",
       "      <td>Prior</td>\n",
       "      <td>11.1111</td>\n",
       "      <td>5.076142</td>\n",
       "      <td>10.152284</td>\n",
       "    </tr>\n",
       "    <tr>\n",
       "      <th>13</th>\n",
       "      <td>14</td>\n",
       "      <td>Post</td>\n",
       "      <td>26.6667</td>\n",
       "      <td>9.708738</td>\n",
       "      <td>29.126214</td>\n",
       "    </tr>\n",
       "    <tr>\n",
       "      <th>14</th>\n",
       "      <td>15</td>\n",
       "      <td>Post</td>\n",
       "      <td>17.9487</td>\n",
       "      <td>4.201681</td>\n",
       "      <td>21.008403</td>\n",
       "    </tr>\n",
       "    <tr>\n",
       "      <th>15</th>\n",
       "      <td>16</td>\n",
       "      <td>Post</td>\n",
       "      <td>12.8205</td>\n",
       "      <td>13.043478</td>\n",
       "      <td>34.782609</td>\n",
       "    </tr>\n",
       "    <tr>\n",
       "      <th>16</th>\n",
       "      <td>17</td>\n",
       "      <td>Post</td>\n",
       "      <td>15.7895</td>\n",
       "      <td>9.950249</td>\n",
       "      <td>19.900498</td>\n",
       "    </tr>\n",
       "    <tr>\n",
       "      <th>17</th>\n",
       "      <td>18</td>\n",
       "      <td>Post</td>\n",
       "      <td>0.0000</td>\n",
       "      <td>9.950249</td>\n",
       "      <td>9.950249</td>\n",
       "    </tr>\n",
       "    <tr>\n",
       "      <th>18</th>\n",
       "      <td>19</td>\n",
       "      <td>Post</td>\n",
       "      <td>30.7692</td>\n",
       "      <td>8.510638</td>\n",
       "      <td>25.531915</td>\n",
       "    </tr>\n",
       "    <tr>\n",
       "      <th>19</th>\n",
       "      <td>20</td>\n",
       "      <td>Post</td>\n",
       "      <td>26.8293</td>\n",
       "      <td>9.259259</td>\n",
       "      <td>23.148148</td>\n",
       "    </tr>\n",
       "  </tbody>\n",
       "</table>\n",
       "</div>"
      ],
      "text/plain": [
       "    Month Reengineer  Employee_Turnover       VAR4        VAR5\n",
       "0       1      Prior             0.0000  24.390244   42.682927\n",
       "1       2      Prior             6.0606  19.354839   25.806452\n",
       "2       3      Prior            12.1212  35.087719  146.198830\n",
       "3       4      Prior             3.3333  18.404908  110.429448\n",
       "4       5      Prior            12.9032  17.964072   23.952096\n",
       "5       6      Prior             9.6774  41.176471   47.058824\n",
       "6       7      Prior            11.7647  13.422819    0.000000\n",
       "7       8      Prior            11.4286  31.250000   25.000000\n",
       "8       9      Prior            23.0769  17.241379  132.183908\n",
       "9      10      Prior            15.0000  16.574586   16.574586\n",
       "10     11      Prior            10.0000   5.917160   88.757396\n",
       "11     12      Prior            26.0870  21.164021   31.746032\n",
       "12     13      Prior            11.1111   5.076142   10.152284\n",
       "13     14       Post            26.6667   9.708738   29.126214\n",
       "14     15       Post            17.9487   4.201681   21.008403\n",
       "15     16       Post            12.8205  13.043478   34.782609\n",
       "16     17       Post            15.7895   9.950249   19.900498\n",
       "17     18       Post             0.0000   9.950249    9.950249\n",
       "18     19       Post            30.7692   8.510638   25.531915\n",
       "19     20       Post            26.8293   9.259259   23.148148"
      ]
     },
     "execution_count": 61,
     "metadata": {},
     "output_type": "execute_result"
    }
   ],
   "source": [
    "treatment"
   ]
  },
  {
   "cell_type": "code",
   "execution_count": 62,
   "id": "7d5b71da",
   "metadata": {},
   "outputs": [],
   "source": [
    "treatment.rename(columns={'VAR4':'TRFF(%)', 'VAR5':'CI (%)'}, inplace=True)"
   ]
  },
  {
   "cell_type": "code",
   "execution_count": 63,
   "id": "947cc2ba",
   "metadata": {},
   "outputs": [
    {
     "name": "stdout",
     "output_type": "stream",
     "text": [
      "<class 'pandas.core.frame.DataFrame'>\n",
      "RangeIndex: 20 entries, 0 to 19\n",
      "Data columns (total 5 columns):\n",
      " #   Column             Non-Null Count  Dtype  \n",
      "---  ------             --------------  -----  \n",
      " 0   Month              20 non-null     int64  \n",
      " 1   Reengineer         20 non-null     object \n",
      " 2   Employee_Turnover  20 non-null     float64\n",
      " 3   TRFF(%)            20 non-null     float64\n",
      " 4   CI (%)             20 non-null     float64\n",
      "dtypes: float64(3), int64(1), object(1)\n",
      "memory usage: 928.0+ bytes\n"
     ]
    }
   ],
   "source": [
    "treatment.info()"
   ]
  },
  {
   "cell_type": "code",
   "execution_count": 64,
   "id": "38afac18",
   "metadata": {},
   "outputs": [
    {
     "data": {
      "text/html": [
       "<div>\n",
       "<style scoped>\n",
       "    .dataframe tbody tr th:only-of-type {\n",
       "        vertical-align: middle;\n",
       "    }\n",
       "\n",
       "    .dataframe tbody tr th {\n",
       "        vertical-align: top;\n",
       "    }\n",
       "\n",
       "    .dataframe thead th {\n",
       "        text-align: right;\n",
       "    }\n",
       "</style>\n",
       "<table border=\"1\" class=\"dataframe\">\n",
       "  <thead>\n",
       "    <tr style=\"text-align: right;\">\n",
       "      <th></th>\n",
       "      <th>Month</th>\n",
       "      <th>Reengineer</th>\n",
       "      <th>Employee_Turnover</th>\n",
       "      <th>TRFF(%)</th>\n",
       "      <th>CI (%)</th>\n",
       "    </tr>\n",
       "  </thead>\n",
       "  <tbody>\n",
       "    <tr>\n",
       "      <th>0</th>\n",
       "      <td>1</td>\n",
       "      <td>Prior</td>\n",
       "      <td>0.0000</td>\n",
       "      <td>24.390244</td>\n",
       "      <td>42.682927</td>\n",
       "    </tr>\n",
       "    <tr>\n",
       "      <th>1</th>\n",
       "      <td>2</td>\n",
       "      <td>Prior</td>\n",
       "      <td>6.0606</td>\n",
       "      <td>19.354839</td>\n",
       "      <td>25.806452</td>\n",
       "    </tr>\n",
       "    <tr>\n",
       "      <th>2</th>\n",
       "      <td>3</td>\n",
       "      <td>Prior</td>\n",
       "      <td>12.1212</td>\n",
       "      <td>35.087719</td>\n",
       "      <td>146.198830</td>\n",
       "    </tr>\n",
       "    <tr>\n",
       "      <th>3</th>\n",
       "      <td>4</td>\n",
       "      <td>Prior</td>\n",
       "      <td>3.3333</td>\n",
       "      <td>18.404908</td>\n",
       "      <td>110.429448</td>\n",
       "    </tr>\n",
       "    <tr>\n",
       "      <th>4</th>\n",
       "      <td>5</td>\n",
       "      <td>Prior</td>\n",
       "      <td>12.9032</td>\n",
       "      <td>17.964072</td>\n",
       "      <td>23.952096</td>\n",
       "    </tr>\n",
       "    <tr>\n",
       "      <th>5</th>\n",
       "      <td>6</td>\n",
       "      <td>Prior</td>\n",
       "      <td>9.6774</td>\n",
       "      <td>41.176471</td>\n",
       "      <td>47.058824</td>\n",
       "    </tr>\n",
       "    <tr>\n",
       "      <th>6</th>\n",
       "      <td>7</td>\n",
       "      <td>Prior</td>\n",
       "      <td>11.7647</td>\n",
       "      <td>13.422819</td>\n",
       "      <td>0.000000</td>\n",
       "    </tr>\n",
       "    <tr>\n",
       "      <th>7</th>\n",
       "      <td>8</td>\n",
       "      <td>Prior</td>\n",
       "      <td>11.4286</td>\n",
       "      <td>31.250000</td>\n",
       "      <td>25.000000</td>\n",
       "    </tr>\n",
       "    <tr>\n",
       "      <th>8</th>\n",
       "      <td>9</td>\n",
       "      <td>Prior</td>\n",
       "      <td>23.0769</td>\n",
       "      <td>17.241379</td>\n",
       "      <td>132.183908</td>\n",
       "    </tr>\n",
       "    <tr>\n",
       "      <th>9</th>\n",
       "      <td>10</td>\n",
       "      <td>Prior</td>\n",
       "      <td>15.0000</td>\n",
       "      <td>16.574586</td>\n",
       "      <td>16.574586</td>\n",
       "    </tr>\n",
       "    <tr>\n",
       "      <th>10</th>\n",
       "      <td>11</td>\n",
       "      <td>Prior</td>\n",
       "      <td>10.0000</td>\n",
       "      <td>5.917160</td>\n",
       "      <td>88.757396</td>\n",
       "    </tr>\n",
       "    <tr>\n",
       "      <th>11</th>\n",
       "      <td>12</td>\n",
       "      <td>Prior</td>\n",
       "      <td>26.0870</td>\n",
       "      <td>21.164021</td>\n",
       "      <td>31.746032</td>\n",
       "    </tr>\n",
       "    <tr>\n",
       "      <th>12</th>\n",
       "      <td>13</td>\n",
       "      <td>Prior</td>\n",
       "      <td>11.1111</td>\n",
       "      <td>5.076142</td>\n",
       "      <td>10.152284</td>\n",
       "    </tr>\n",
       "    <tr>\n",
       "      <th>13</th>\n",
       "      <td>14</td>\n",
       "      <td>Post</td>\n",
       "      <td>26.6667</td>\n",
       "      <td>9.708738</td>\n",
       "      <td>29.126214</td>\n",
       "    </tr>\n",
       "    <tr>\n",
       "      <th>14</th>\n",
       "      <td>15</td>\n",
       "      <td>Post</td>\n",
       "      <td>17.9487</td>\n",
       "      <td>4.201681</td>\n",
       "      <td>21.008403</td>\n",
       "    </tr>\n",
       "    <tr>\n",
       "      <th>15</th>\n",
       "      <td>16</td>\n",
       "      <td>Post</td>\n",
       "      <td>12.8205</td>\n",
       "      <td>13.043478</td>\n",
       "      <td>34.782609</td>\n",
       "    </tr>\n",
       "    <tr>\n",
       "      <th>16</th>\n",
       "      <td>17</td>\n",
       "      <td>Post</td>\n",
       "      <td>15.7895</td>\n",
       "      <td>9.950249</td>\n",
       "      <td>19.900498</td>\n",
       "    </tr>\n",
       "    <tr>\n",
       "      <th>17</th>\n",
       "      <td>18</td>\n",
       "      <td>Post</td>\n",
       "      <td>0.0000</td>\n",
       "      <td>9.950249</td>\n",
       "      <td>9.950249</td>\n",
       "    </tr>\n",
       "    <tr>\n",
       "      <th>18</th>\n",
       "      <td>19</td>\n",
       "      <td>Post</td>\n",
       "      <td>30.7692</td>\n",
       "      <td>8.510638</td>\n",
       "      <td>25.531915</td>\n",
       "    </tr>\n",
       "    <tr>\n",
       "      <th>19</th>\n",
       "      <td>20</td>\n",
       "      <td>Post</td>\n",
       "      <td>26.8293</td>\n",
       "      <td>9.259259</td>\n",
       "      <td>23.148148</td>\n",
       "    </tr>\n",
       "  </tbody>\n",
       "</table>\n",
       "</div>"
      ],
      "text/plain": [
       "    Month Reengineer  Employee_Turnover    TRFF(%)      CI (%)\n",
       "0       1      Prior             0.0000  24.390244   42.682927\n",
       "1       2      Prior             6.0606  19.354839   25.806452\n",
       "2       3      Prior            12.1212  35.087719  146.198830\n",
       "3       4      Prior             3.3333  18.404908  110.429448\n",
       "4       5      Prior            12.9032  17.964072   23.952096\n",
       "5       6      Prior             9.6774  41.176471   47.058824\n",
       "6       7      Prior            11.7647  13.422819    0.000000\n",
       "7       8      Prior            11.4286  31.250000   25.000000\n",
       "8       9      Prior            23.0769  17.241379  132.183908\n",
       "9      10      Prior            15.0000  16.574586   16.574586\n",
       "10     11      Prior            10.0000   5.917160   88.757396\n",
       "11     12      Prior            26.0870  21.164021   31.746032\n",
       "12     13      Prior            11.1111   5.076142   10.152284\n",
       "13     14       Post            26.6667   9.708738   29.126214\n",
       "14     15       Post            17.9487   4.201681   21.008403\n",
       "15     16       Post            12.8205  13.043478   34.782609\n",
       "16     17       Post            15.7895   9.950249   19.900498\n",
       "17     18       Post             0.0000   9.950249    9.950249\n",
       "18     19       Post            30.7692   8.510638   25.531915\n",
       "19     20       Post            26.8293   9.259259   23.148148"
      ]
     },
     "execution_count": 64,
     "metadata": {},
     "output_type": "execute_result"
    }
   ],
   "source": [
    "treatment"
   ]
  },
  {
   "cell_type": "markdown",
   "id": "e8043cd0",
   "metadata": {},
   "source": [
    "# ttest, independent sample ttest or ANOVA also possible"
   ]
  },
  {
   "cell_type": "code",
   "execution_count": 65,
   "id": "9bf7f3e4",
   "metadata": {},
   "outputs": [],
   "source": [
    "t1=treatment.loc[treatment.Reengineer=='Prior', 'Employee_Turnover']"
   ]
  },
  {
   "cell_type": "code",
   "execution_count": 66,
   "id": "015f2ec1",
   "metadata": {},
   "outputs": [],
   "source": [
    "t2=treatment.loc[treatment.Reengineer=='Post', 'Employee_Turnover']"
   ]
  },
  {
   "cell_type": "code",
   "execution_count": 67,
   "id": "4d5433f4",
   "metadata": {},
   "outputs": [
    {
     "data": {
      "text/plain": [
       "11.735692307692307"
      ]
     },
     "execution_count": 67,
     "metadata": {},
     "output_type": "execute_result"
    }
   ],
   "source": [
    "treatment.loc[treatment.Reengineer=='Prior', 'Employee_Turnover'].mean()"
   ]
  },
  {
   "cell_type": "code",
   "execution_count": 68,
   "id": "b95fb432",
   "metadata": {},
   "outputs": [
    {
     "data": {
      "text/plain": [
       "18.68912857142857"
      ]
     },
     "execution_count": 68,
     "metadata": {},
     "output_type": "execute_result"
    }
   ],
   "source": [
    "treatment.loc[treatment.Reengineer=='Post', 'Employee_Turnover'].mean()"
   ]
  },
  {
   "cell_type": "markdown",
   "id": "8dd26629",
   "metadata": {},
   "source": [
    "##### staff turnover"
   ]
  },
  {
   "cell_type": "raw",
   "id": "081bccec",
   "metadata": {},
   "source": [
    "Null Hypothesis, Ho:\n",
    "    Prior staff turnover <= Post staff turnover\n",
    "    \n",
    "Alternative Hypothesis, Ha:\n",
    "    Prior staff turnover > Post staff turnover\n",
    "    \n",
    "confidence interval:\n",
    "    95%\n",
    "\n",
    "P_Value:\n",
    "    0.05"
   ]
  },
  {
   "cell_type": "code",
   "execution_count": 69,
   "id": "a834c630",
   "metadata": {},
   "outputs": [
    {
     "data": {
      "text/plain": [
       "F_onewayResult(statistic=3.133985828895568, pvalue=0.09361109345535291)"
      ]
     },
     "execution_count": 69,
     "metadata": {},
     "output_type": "execute_result"
    }
   ],
   "source": [
    "stats.f_oneway(t1,t2)"
   ]
  },
  {
   "cell_type": "code",
   "execution_count": 70,
   "id": "b334fc4d",
   "metadata": {},
   "outputs": [
    {
     "data": {
      "text/plain": [
       "Ttest_indResult(statistic=-1.770306704753604, pvalue=0.09361109345535304)"
      ]
     },
     "execution_count": 70,
     "metadata": {},
     "output_type": "execute_result"
    }
   ],
   "source": [
    "stats.ttest_ind(t1,t2)"
   ]
  },
  {
   "cell_type": "markdown",
   "id": "0fb885f7",
   "metadata": {},
   "source": [
    "####### output: we fail to reject null hypothesis"
   ]
  },
  {
   "cell_type": "markdown",
   "id": "153069b9",
   "metadata": {},
   "source": [
    "####### Business conclusions: Prior staff turnover is lesser than Post staff turnover, with the given data it is unable to prove reengineering effort was successful on staff turnover"
   ]
  },
  {
   "cell_type": "markdown",
   "id": "18193283",
   "metadata": {},
   "source": [
    "##### TRFF"
   ]
  },
  {
   "cell_type": "code",
   "execution_count": 71,
   "id": "03dd9df4",
   "metadata": {},
   "outputs": [],
   "source": [
    "tr1=treatment.loc[treatment.Reengineer=='Prior', 'TRFF(%)']"
   ]
  },
  {
   "cell_type": "code",
   "execution_count": 72,
   "id": "9a9ac1e1",
   "metadata": {},
   "outputs": [],
   "source": [
    "tr2=treatment.loc[treatment.Reengineer=='Post', 'TRFF(%)']"
   ]
  },
  {
   "cell_type": "code",
   "execution_count": 73,
   "id": "2e04604d",
   "metadata": {},
   "outputs": [
    {
     "data": {
      "text/plain": [
       "20.54033531733077"
      ]
     },
     "execution_count": 73,
     "metadata": {},
     "output_type": "execute_result"
    }
   ],
   "source": [
    "tr1.mean()"
   ]
  },
  {
   "cell_type": "code",
   "execution_count": 74,
   "id": "001c3de7",
   "metadata": {},
   "outputs": [
    {
     "data": {
      "text/plain": [
       "9.232041695285714"
      ]
     },
     "execution_count": 74,
     "metadata": {},
     "output_type": "execute_result"
    }
   ],
   "source": [
    "tr2.mean()"
   ]
  },
  {
   "cell_type": "raw",
   "id": "1dc455be",
   "metadata": {},
   "source": [
    "Null Hypothesis, Ho:\n",
    "    Prior TRFF <= Post TRFF\n",
    "    \n",
    "Alternative Hypothesis, Ha:\n",
    "     Prior TRFF > Post TRFF\n",
    "    \n",
    "confidence interval:\n",
    "    95%\n",
    "\n",
    "P_Value:\n",
    "    0.05"
   ]
  },
  {
   "cell_type": "code",
   "execution_count": 75,
   "id": "7a7a2152",
   "metadata": {},
   "outputs": [
    {
     "data": {
      "text/plain": [
       "Ttest_indResult(statistic=2.7833984488804506, pvalue=0.012265082138734354)"
      ]
     },
     "execution_count": 75,
     "metadata": {},
     "output_type": "execute_result"
    }
   ],
   "source": [
    "stats.ttest_ind(tr1, tr2)"
   ]
  },
  {
   "cell_type": "markdown",
   "id": "270d8ea7",
   "metadata": {},
   "source": [
    "####### output: we reject null hypothesis"
   ]
  },
  {
   "cell_type": "markdown",
   "id": "712918c6",
   "metadata": {},
   "source": [
    "####### Business conclusion: Post TRFF is lesser than Prior TRFF, with the given data it is proved that reengineering effort was successful on teenager is temporarily removed from the facility"
   ]
  },
  {
   "cell_type": "markdown",
   "id": "ad5121f8",
   "metadata": {},
   "source": [
    "### CI"
   ]
  },
  {
   "cell_type": "code",
   "execution_count": 76,
   "id": "1e5f32f6",
   "metadata": {},
   "outputs": [],
   "source": [
    "ci1=treatment.loc[treatment.Reengineer=='Prior', 'CI (%)']"
   ]
  },
  {
   "cell_type": "code",
   "execution_count": 77,
   "id": "4ee52ca5",
   "metadata": {},
   "outputs": [],
   "source": [
    "ci2=treatment.loc[treatment.Reengineer=='Post', 'CI (%)']"
   ]
  },
  {
   "cell_type": "code",
   "execution_count": 78,
   "id": "10c771d7",
   "metadata": {},
   "outputs": [
    {
     "data": {
      "text/plain": [
       "53.887906321846145"
      ]
     },
     "execution_count": 78,
     "metadata": {},
     "output_type": "execute_result"
    }
   ],
   "source": [
    "ci1.mean()"
   ]
  },
  {
   "cell_type": "code",
   "execution_count": 79,
   "id": "762d0796",
   "metadata": {},
   "outputs": [
    {
     "data": {
      "text/plain": [
       "23.34971927988571"
      ]
     },
     "execution_count": 79,
     "metadata": {},
     "output_type": "execute_result"
    }
   ],
   "source": [
    "ci2.mean()"
   ]
  },
  {
   "cell_type": "raw",
   "id": "71323767",
   "metadata": {},
   "source": [
    "Null Hypothesis, Ho:\n",
    "    Prior CI <= Post CI\n",
    "    \n",
    "Alternative Hypothesis, Ha:\n",
    "     Prior CI > Post CI\n",
    "    \n",
    "confidence interval:\n",
    "    95%\n",
    "\n",
    "P_Value:\n",
    "    0.05"
   ]
  },
  {
   "cell_type": "code",
   "execution_count": 80,
   "id": "11b515df",
   "metadata": {},
   "outputs": [
    {
     "data": {
      "text/plain": [
       "Ttest_indResult(statistic=-1.6279144253528646, pvalue=0.12091989189884149)"
      ]
     },
     "execution_count": 80,
     "metadata": {},
     "output_type": "execute_result"
    }
   ],
   "source": [
    "stats.ttest_ind(ci2, ci1)"
   ]
  },
  {
   "cell_type": "markdown",
   "id": "80a41e9d",
   "metadata": {},
   "source": [
    "####### output: we reject null hypothesis"
   ]
  },
  {
   "cell_type": "markdown",
   "id": "d03f26b1",
   "metadata": {},
   "source": [
    "####### Business conclusion: with given data it is unable to prove that reengineering effort was successful on critical incident"
   ]
  },
  {
   "cell_type": "markdown",
   "id": "22731037",
   "metadata": {},
   "source": [
    "# ..................BUSINESS PROBLEM - 4.........................."
   ]
  },
  {
   "cell_type": "markdown",
   "id": "369325ab",
   "metadata": {},
   "source": [
    "### import data"
   ]
  },
  {
   "cell_type": "code",
   "execution_count": 81,
   "id": "9f2d18b9",
   "metadata": {},
   "outputs": [],
   "source": [
    "priority = pd.read_csv(file_path+'Priority_Assessment.csv')"
   ]
  },
  {
   "cell_type": "markdown",
   "id": "38893d41",
   "metadata": {},
   "source": [
    "### data inspection "
   ]
  },
  {
   "cell_type": "code",
   "execution_count": 82,
   "id": "ae84a81a",
   "metadata": {},
   "outputs": [
    {
     "data": {
      "text/html": [
       "<div>\n",
       "<style scoped>\n",
       "    .dataframe tbody tr th:only-of-type {\n",
       "        vertical-align: middle;\n",
       "    }\n",
       "\n",
       "    .dataframe tbody tr th {\n",
       "        vertical-align: top;\n",
       "    }\n",
       "\n",
       "    .dataframe thead th {\n",
       "        text-align: right;\n",
       "    }\n",
       "</style>\n",
       "<table border=\"1\" class=\"dataframe\">\n",
       "  <thead>\n",
       "    <tr style=\"text-align: right;\">\n",
       "      <th></th>\n",
       "      <th>Days</th>\n",
       "      <th>Priority</th>\n",
       "    </tr>\n",
       "  </thead>\n",
       "  <tbody>\n",
       "    <tr>\n",
       "      <th>0</th>\n",
       "      <td>3.3</td>\n",
       "      <td>High</td>\n",
       "    </tr>\n",
       "    <tr>\n",
       "      <th>1</th>\n",
       "      <td>7.9</td>\n",
       "      <td>Medium</td>\n",
       "    </tr>\n",
       "    <tr>\n",
       "      <th>2</th>\n",
       "      <td>0.3</td>\n",
       "      <td>High</td>\n",
       "    </tr>\n",
       "    <tr>\n",
       "      <th>3</th>\n",
       "      <td>0.7</td>\n",
       "      <td>Medium</td>\n",
       "    </tr>\n",
       "    <tr>\n",
       "      <th>4</th>\n",
       "      <td>8.6</td>\n",
       "      <td>Medium</td>\n",
       "    </tr>\n",
       "    <tr>\n",
       "      <th>...</th>\n",
       "      <td>...</td>\n",
       "      <td>...</td>\n",
       "    </tr>\n",
       "    <tr>\n",
       "      <th>637</th>\n",
       "      <td>2.5</td>\n",
       "      <td>Low</td>\n",
       "    </tr>\n",
       "    <tr>\n",
       "      <th>638</th>\n",
       "      <td>0.3</td>\n",
       "      <td>High</td>\n",
       "    </tr>\n",
       "    <tr>\n",
       "      <th>639</th>\n",
       "      <td>0.3</td>\n",
       "      <td>Medium</td>\n",
       "    </tr>\n",
       "    <tr>\n",
       "      <th>640</th>\n",
       "      <td>1.3</td>\n",
       "      <td>Medium</td>\n",
       "    </tr>\n",
       "    <tr>\n",
       "      <th>641</th>\n",
       "      <td>0.5</td>\n",
       "      <td>High</td>\n",
       "    </tr>\n",
       "  </tbody>\n",
       "</table>\n",
       "<p>642 rows × 2 columns</p>\n",
       "</div>"
      ],
      "text/plain": [
       "     Days Priority\n",
       "0     3.3     High\n",
       "1     7.9   Medium\n",
       "2     0.3     High\n",
       "3     0.7   Medium\n",
       "4     8.6   Medium\n",
       "..    ...      ...\n",
       "637   2.5      Low\n",
       "638   0.3     High\n",
       "639   0.3   Medium\n",
       "640   1.3   Medium\n",
       "641   0.5     High\n",
       "\n",
       "[642 rows x 2 columns]"
      ]
     },
     "execution_count": 82,
     "metadata": {},
     "output_type": "execute_result"
    }
   ],
   "source": [
    "priority"
   ]
  },
  {
   "cell_type": "code",
   "execution_count": 83,
   "id": "4609d121",
   "metadata": {},
   "outputs": [
    {
     "name": "stdout",
     "output_type": "stream",
     "text": [
      "<class 'pandas.core.frame.DataFrame'>\n",
      "RangeIndex: 642 entries, 0 to 641\n",
      "Data columns (total 2 columns):\n",
      " #   Column    Non-Null Count  Dtype  \n",
      "---  ------    --------------  -----  \n",
      " 0   Days      642 non-null    float64\n",
      " 1   Priority  642 non-null    object \n",
      "dtypes: float64(1), object(1)\n",
      "memory usage: 10.2+ KB\n"
     ]
    }
   ],
   "source": [
    "priority.info()"
   ]
  },
  {
   "cell_type": "code",
   "execution_count": 84,
   "id": "5a08d0a1",
   "metadata": {},
   "outputs": [],
   "source": [
    "high=priority[priority.Priority=='High']"
   ]
  },
  {
   "cell_type": "code",
   "execution_count": 85,
   "id": "12718da7",
   "metadata": {},
   "outputs": [
    {
     "data": {
      "text/html": [
       "<div>\n",
       "<style scoped>\n",
       "    .dataframe tbody tr th:only-of-type {\n",
       "        vertical-align: middle;\n",
       "    }\n",
       "\n",
       "    .dataframe tbody tr th {\n",
       "        vertical-align: top;\n",
       "    }\n",
       "\n",
       "    .dataframe thead th {\n",
       "        text-align: right;\n",
       "    }\n",
       "</style>\n",
       "<table border=\"1\" class=\"dataframe\">\n",
       "  <thead>\n",
       "    <tr style=\"text-align: right;\">\n",
       "      <th></th>\n",
       "      <th>Days</th>\n",
       "    </tr>\n",
       "  </thead>\n",
       "  <tbody>\n",
       "    <tr>\n",
       "      <th>dtype</th>\n",
       "      <td>float64</td>\n",
       "    </tr>\n",
       "    <tr>\n",
       "      <th>cardinality</th>\n",
       "      <td>77</td>\n",
       "    </tr>\n",
       "    <tr>\n",
       "      <th>n_tot</th>\n",
       "      <td>326</td>\n",
       "    </tr>\n",
       "    <tr>\n",
       "      <th>n</th>\n",
       "      <td>326</td>\n",
       "    </tr>\n",
       "    <tr>\n",
       "      <th>nmiss</th>\n",
       "      <td>0</td>\n",
       "    </tr>\n",
       "    <tr>\n",
       "      <th>perc_miss</th>\n",
       "      <td>0.0</td>\n",
       "    </tr>\n",
       "    <tr>\n",
       "      <th>sum</th>\n",
       "      <td>985.7</td>\n",
       "    </tr>\n",
       "    <tr>\n",
       "      <th>mean</th>\n",
       "      <td>3.02362</td>\n",
       "    </tr>\n",
       "    <tr>\n",
       "      <th>std</th>\n",
       "      <td>7.781368</td>\n",
       "    </tr>\n",
       "    <tr>\n",
       "      <th>var</th>\n",
       "      <td>60.549687</td>\n",
       "    </tr>\n",
       "    <tr>\n",
       "      <th>lc_iqr</th>\n",
       "      <td>-3.2125</td>\n",
       "    </tr>\n",
       "    <tr>\n",
       "      <th>uc_iqr</th>\n",
       "      <td>5.8875</td>\n",
       "    </tr>\n",
       "    <tr>\n",
       "      <th>min</th>\n",
       "      <td>0.1</td>\n",
       "    </tr>\n",
       "    <tr>\n",
       "      <th>p1</th>\n",
       "      <td>0.1</td>\n",
       "    </tr>\n",
       "    <tr>\n",
       "      <th>p5</th>\n",
       "      <td>0.1</td>\n",
       "    </tr>\n",
       "    <tr>\n",
       "      <th>p10</th>\n",
       "      <td>0.1</td>\n",
       "    </tr>\n",
       "    <tr>\n",
       "      <th>p25</th>\n",
       "      <td>0.2</td>\n",
       "    </tr>\n",
       "    <tr>\n",
       "      <th>p50</th>\n",
       "      <td>0.6</td>\n",
       "    </tr>\n",
       "    <tr>\n",
       "      <th>p75</th>\n",
       "      <td>2.475</td>\n",
       "    </tr>\n",
       "    <tr>\n",
       "      <th>p90</th>\n",
       "      <td>7.6</td>\n",
       "    </tr>\n",
       "    <tr>\n",
       "      <th>p95</th>\n",
       "      <td>11.575</td>\n",
       "    </tr>\n",
       "    <tr>\n",
       "      <th>p99</th>\n",
       "      <td>34.1</td>\n",
       "    </tr>\n",
       "    <tr>\n",
       "      <th>max</th>\n",
       "      <td>72.9</td>\n",
       "    </tr>\n",
       "  </tbody>\n",
       "</table>\n",
       "</div>"
      ],
      "text/plain": [
       "                  Days\n",
       "dtype          float64\n",
       "cardinality         77\n",
       "n_tot              326\n",
       "n                  326\n",
       "nmiss                0\n",
       "perc_miss          0.0\n",
       "sum              985.7\n",
       "mean           3.02362\n",
       "std           7.781368\n",
       "var          60.549687\n",
       "lc_iqr         -3.2125\n",
       "uc_iqr          5.8875\n",
       "min                0.1\n",
       "p1                 0.1\n",
       "p5                 0.1\n",
       "p10                0.1\n",
       "p25                0.2\n",
       "p50                0.6\n",
       "p75              2.475\n",
       "p90                7.6\n",
       "p95             11.575\n",
       "p99               34.1\n",
       "max               72.9"
      ]
     },
     "execution_count": 85,
     "metadata": {},
     "output_type": "execute_result"
    }
   ],
   "source": [
    "high.select_dtypes('float').apply(continuous_var_summary)"
   ]
  },
  {
   "cell_type": "markdown",
   "id": "e5fd0d1a",
   "metadata": {},
   "source": [
    "## outlier treatment"
   ]
  },
  {
   "cell_type": "code",
   "execution_count": 86,
   "id": "915817a3",
   "metadata": {},
   "outputs": [
    {
     "name": "stdout",
     "output_type": "stream",
     "text": [
      "0.1 72.9 -3.2124999999999995 5.887499999999999\n"
     ]
    }
   ],
   "source": [
    "p0=high.Days.min()\n",
    "p100=high.Days.max()\n",
    "q2=high.Days.quantile(0.5)\n",
    "q1=high.Days.quantile(0.25)\n",
    "q3=high.Days.quantile(0.75)\n",
    "\n",
    "iqr = q3-q1\n",
    "\n",
    "lc=q1-1.5*iqr\n",
    "uc=q3+1.5*iqr\n",
    "\n",
    "print(p0, p100, lc, uc)"
   ]
  },
  {
   "cell_type": "code",
   "execution_count": 87,
   "id": "2bc8ca68",
   "metadata": {},
   "outputs": [
    {
     "name": "stderr",
     "output_type": "stream",
     "text": [
      "C:\\Users\\Mantu\\anaconda3\\lib\\site-packages\\pandas\\core\\generic.py:7249: SettingWithCopyWarning: \n",
      "A value is trying to be set on a copy of a slice from a DataFrame\n",
      "\n",
      "See the caveats in the documentation: https://pandas.pydata.org/pandas-docs/stable/user_guide/indexing.html#returning-a-view-versus-a-copy\n",
      "  return self._update_inplace(result)\n"
     ]
    }
   ],
   "source": [
    "high.Days.clip(lower=lc, upper=uc, inplace=True)"
   ]
  },
  {
   "cell_type": "code",
   "execution_count": 88,
   "id": "247a89fd",
   "metadata": {},
   "outputs": [],
   "source": [
    "low=priority[priority.Priority=='Low']"
   ]
  },
  {
   "cell_type": "code",
   "execution_count": 89,
   "id": "05291e31",
   "metadata": {},
   "outputs": [
    {
     "data": {
      "text/html": [
       "<div>\n",
       "<style scoped>\n",
       "    .dataframe tbody tr th:only-of-type {\n",
       "        vertical-align: middle;\n",
       "    }\n",
       "\n",
       "    .dataframe tbody tr th {\n",
       "        vertical-align: top;\n",
       "    }\n",
       "\n",
       "    .dataframe thead th {\n",
       "        text-align: right;\n",
       "    }\n",
       "</style>\n",
       "<table border=\"1\" class=\"dataframe\">\n",
       "  <thead>\n",
       "    <tr style=\"text-align: right;\">\n",
       "      <th></th>\n",
       "      <th>Days</th>\n",
       "    </tr>\n",
       "  </thead>\n",
       "  <tbody>\n",
       "    <tr>\n",
       "      <th>dtype</th>\n",
       "      <td>float64</td>\n",
       "    </tr>\n",
       "    <tr>\n",
       "      <th>cardinality</th>\n",
       "      <td>39</td>\n",
       "    </tr>\n",
       "    <tr>\n",
       "      <th>n_tot</th>\n",
       "      <td>67</td>\n",
       "    </tr>\n",
       "    <tr>\n",
       "      <th>n</th>\n",
       "      <td>67</td>\n",
       "    </tr>\n",
       "    <tr>\n",
       "      <th>nmiss</th>\n",
       "      <td>0</td>\n",
       "    </tr>\n",
       "    <tr>\n",
       "      <th>perc_miss</th>\n",
       "      <td>0.0</td>\n",
       "    </tr>\n",
       "    <tr>\n",
       "      <th>sum</th>\n",
       "      <td>283.3</td>\n",
       "    </tr>\n",
       "    <tr>\n",
       "      <th>mean</th>\n",
       "      <td>4.228358</td>\n",
       "    </tr>\n",
       "    <tr>\n",
       "      <th>std</th>\n",
       "      <td>6.26945</td>\n",
       "    </tr>\n",
       "    <tr>\n",
       "      <th>var</th>\n",
       "      <td>39.306002</td>\n",
       "    </tr>\n",
       "    <tr>\n",
       "      <th>lc_iqr</th>\n",
       "      <td>-8.475</td>\n",
       "    </tr>\n",
       "    <tr>\n",
       "      <th>uc_iqr</th>\n",
       "      <td>14.925</td>\n",
       "    </tr>\n",
       "    <tr>\n",
       "      <th>min</th>\n",
       "      <td>0.1</td>\n",
       "    </tr>\n",
       "    <tr>\n",
       "      <th>p1</th>\n",
       "      <td>0.1</td>\n",
       "    </tr>\n",
       "    <tr>\n",
       "      <th>p5</th>\n",
       "      <td>0.1</td>\n",
       "    </tr>\n",
       "    <tr>\n",
       "      <th>p10</th>\n",
       "      <td>0.2</td>\n",
       "    </tr>\n",
       "    <tr>\n",
       "      <th>p25</th>\n",
       "      <td>0.3</td>\n",
       "    </tr>\n",
       "    <tr>\n",
       "      <th>p50</th>\n",
       "      <td>1.2</td>\n",
       "    </tr>\n",
       "    <tr>\n",
       "      <th>p75</th>\n",
       "      <td>6.15</td>\n",
       "    </tr>\n",
       "    <tr>\n",
       "      <th>p90</th>\n",
       "      <td>12.2</td>\n",
       "    </tr>\n",
       "    <tr>\n",
       "      <th>p95</th>\n",
       "      <td>17.14</td>\n",
       "    </tr>\n",
       "    <tr>\n",
       "      <th>p99</th>\n",
       "      <td>25.002</td>\n",
       "    </tr>\n",
       "    <tr>\n",
       "      <th>max</th>\n",
       "      <td>28.5</td>\n",
       "    </tr>\n",
       "  </tbody>\n",
       "</table>\n",
       "</div>"
      ],
      "text/plain": [
       "                  Days\n",
       "dtype          float64\n",
       "cardinality         39\n",
       "n_tot               67\n",
       "n                   67\n",
       "nmiss                0\n",
       "perc_miss          0.0\n",
       "sum              283.3\n",
       "mean          4.228358\n",
       "std            6.26945\n",
       "var          39.306002\n",
       "lc_iqr          -8.475\n",
       "uc_iqr          14.925\n",
       "min                0.1\n",
       "p1                 0.1\n",
       "p5                 0.1\n",
       "p10                0.2\n",
       "p25                0.3\n",
       "p50                1.2\n",
       "p75               6.15\n",
       "p90               12.2\n",
       "p95              17.14\n",
       "p99             25.002\n",
       "max               28.5"
      ]
     },
     "execution_count": 89,
     "metadata": {},
     "output_type": "execute_result"
    }
   ],
   "source": [
    "low.select_dtypes('float').apply(continuous_var_summary)"
   ]
  },
  {
   "cell_type": "code",
   "execution_count": 90,
   "id": "7279fb60",
   "metadata": {},
   "outputs": [],
   "source": [
    "medium=priority[priority.Priority=='Medium']"
   ]
  },
  {
   "cell_type": "code",
   "execution_count": 91,
   "id": "859e61f5",
   "metadata": {},
   "outputs": [
    {
     "data": {
      "text/html": [
       "<div>\n",
       "<style scoped>\n",
       "    .dataframe tbody tr th:only-of-type {\n",
       "        vertical-align: middle;\n",
       "    }\n",
       "\n",
       "    .dataframe tbody tr th {\n",
       "        vertical-align: top;\n",
       "    }\n",
       "\n",
       "    .dataframe thead th {\n",
       "        text-align: right;\n",
       "    }\n",
       "</style>\n",
       "<table border=\"1\" class=\"dataframe\">\n",
       "  <thead>\n",
       "    <tr style=\"text-align: right;\">\n",
       "      <th></th>\n",
       "      <th>Days</th>\n",
       "    </tr>\n",
       "  </thead>\n",
       "  <tbody>\n",
       "    <tr>\n",
       "      <th>dtype</th>\n",
       "      <td>float64</td>\n",
       "    </tr>\n",
       "    <tr>\n",
       "      <th>cardinality</th>\n",
       "      <td>68</td>\n",
       "    </tr>\n",
       "    <tr>\n",
       "      <th>n_tot</th>\n",
       "      <td>249</td>\n",
       "    </tr>\n",
       "    <tr>\n",
       "      <th>n</th>\n",
       "      <td>249</td>\n",
       "    </tr>\n",
       "    <tr>\n",
       "      <th>nmiss</th>\n",
       "      <td>0</td>\n",
       "    </tr>\n",
       "    <tr>\n",
       "      <th>perc_miss</th>\n",
       "      <td>0.0</td>\n",
       "    </tr>\n",
       "    <tr>\n",
       "      <th>sum</th>\n",
       "      <td>622.5</td>\n",
       "    </tr>\n",
       "    <tr>\n",
       "      <th>mean</th>\n",
       "      <td>2.5</td>\n",
       "    </tr>\n",
       "    <tr>\n",
       "      <th>std</th>\n",
       "      <td>5.011664</td>\n",
       "    </tr>\n",
       "    <tr>\n",
       "      <th>var</th>\n",
       "      <td>25.116774</td>\n",
       "    </tr>\n",
       "    <tr>\n",
       "      <th>lc_iqr</th>\n",
       "      <td>-2.8</td>\n",
       "    </tr>\n",
       "    <tr>\n",
       "      <th>uc_iqr</th>\n",
       "      <td>5.2</td>\n",
       "    </tr>\n",
       "    <tr>\n",
       "      <th>min</th>\n",
       "      <td>0.1</td>\n",
       "    </tr>\n",
       "    <tr>\n",
       "      <th>p1</th>\n",
       "      <td>0.1</td>\n",
       "    </tr>\n",
       "    <tr>\n",
       "      <th>p5</th>\n",
       "      <td>0.1</td>\n",
       "    </tr>\n",
       "    <tr>\n",
       "      <th>p10</th>\n",
       "      <td>0.1</td>\n",
       "    </tr>\n",
       "    <tr>\n",
       "      <th>p25</th>\n",
       "      <td>0.2</td>\n",
       "    </tr>\n",
       "    <tr>\n",
       "      <th>p50</th>\n",
       "      <td>0.5</td>\n",
       "    </tr>\n",
       "    <tr>\n",
       "      <th>p75</th>\n",
       "      <td>2.2</td>\n",
       "    </tr>\n",
       "    <tr>\n",
       "      <th>p90</th>\n",
       "      <td>7.24</td>\n",
       "    </tr>\n",
       "    <tr>\n",
       "      <th>p95</th>\n",
       "      <td>11.54</td>\n",
       "    </tr>\n",
       "    <tr>\n",
       "      <th>p99</th>\n",
       "      <td>27.58</td>\n",
       "    </tr>\n",
       "    <tr>\n",
       "      <th>max</th>\n",
       "      <td>33.2</td>\n",
       "    </tr>\n",
       "  </tbody>\n",
       "</table>\n",
       "</div>"
      ],
      "text/plain": [
       "                  Days\n",
       "dtype          float64\n",
       "cardinality         68\n",
       "n_tot              249\n",
       "n                  249\n",
       "nmiss                0\n",
       "perc_miss          0.0\n",
       "sum              622.5\n",
       "mean               2.5\n",
       "std           5.011664\n",
       "var          25.116774\n",
       "lc_iqr            -2.8\n",
       "uc_iqr             5.2\n",
       "min                0.1\n",
       "p1                 0.1\n",
       "p5                 0.1\n",
       "p10                0.1\n",
       "p25                0.2\n",
       "p50                0.5\n",
       "p75                2.2\n",
       "p90               7.24\n",
       "p95              11.54\n",
       "p99              27.58\n",
       "max               33.2"
      ]
     },
     "execution_count": 91,
     "metadata": {},
     "output_type": "execute_result"
    }
   ],
   "source": [
    "medium.select_dtypes('float').apply(continuous_var_summary)"
   ]
  },
  {
   "cell_type": "code",
   "execution_count": 92,
   "id": "748ed558",
   "metadata": {},
   "outputs": [],
   "source": [
    "h=high.loc[high.Priority=='High', 'Days']"
   ]
  },
  {
   "cell_type": "code",
   "execution_count": 93,
   "id": "ad5c5db1",
   "metadata": {},
   "outputs": [],
   "source": [
    "m=medium.loc[medium.Priority=='Medium', 'Days']"
   ]
  },
  {
   "cell_type": "code",
   "execution_count": 94,
   "id": "dcd0eafc",
   "metadata": {},
   "outputs": [],
   "source": [
    "l=low.loc[low.Priority=='Low', 'Days']"
   ]
  },
  {
   "cell_type": "code",
   "execution_count": 95,
   "id": "ad082b39",
   "metadata": {},
   "outputs": [
    {
     "data": {
      "text/plain": [
       "1.6534892638036807"
      ]
     },
     "execution_count": 95,
     "metadata": {},
     "output_type": "execute_result"
    }
   ],
   "source": [
    "h.mean()"
   ]
  },
  {
   "cell_type": "code",
   "execution_count": 96,
   "id": "c5965fb4",
   "metadata": {},
   "outputs": [
    {
     "data": {
      "text/plain": [
       "2.5000000000000004"
      ]
     },
     "execution_count": 96,
     "metadata": {},
     "output_type": "execute_result"
    }
   ],
   "source": [
    "m.mean()"
   ]
  },
  {
   "cell_type": "code",
   "execution_count": 97,
   "id": "28e6bcea",
   "metadata": {},
   "outputs": [
    {
     "data": {
      "text/plain": [
       "4.228358208955225"
      ]
     },
     "execution_count": 97,
     "metadata": {},
     "output_type": "execute_result"
    }
   ],
   "source": [
    "l.mean()"
   ]
  },
  {
   "cell_type": "markdown",
   "id": "3b506851",
   "metadata": {},
   "source": [
    "### High priority jobs to Medium priority jobs"
   ]
  },
  {
   "cell_type": "raw",
   "id": "7451342e",
   "metadata": {},
   "source": [
    "Null Hypothesis, Ho:\n",
    "    high priority jobs >= medium priority jobs\n",
    "    \n",
    "Alternative Hypothesis, Ha:\n",
    "    high priority jobs < medium priority jobs\n",
    "    \n",
    "confidence interval:\n",
    "    95%\n",
    "\n",
    "P_Value:\n",
    "    0.05"
   ]
  },
  {
   "cell_type": "code",
   "execution_count": 98,
   "id": "d9ad7039",
   "metadata": {},
   "outputs": [
    {
     "data": {
      "text/plain": [
       "F_onewayResult(statistic=7.659944118467976, pvalue=0.005828526763300118)"
      ]
     },
     "execution_count": 98,
     "metadata": {},
     "output_type": "execute_result"
    }
   ],
   "source": [
    "stats.f_oneway(h, m)"
   ]
  },
  {
   "cell_type": "markdown",
   "id": "944011a0",
   "metadata": {},
   "source": [
    "####### output: we reject null hypothesis"
   ]
  },
  {
   "cell_type": "markdown",
   "id": "7ccb32e7",
   "metadata": {},
   "source": [
    "####### Business conclusions: with the given data it is proved that prioritization system was successful, high priority jobs, on average, consuming lesser days than medium priority jobs "
   ]
  },
  {
   "cell_type": "markdown",
   "id": "1fdd6daf",
   "metadata": {},
   "source": [
    "### medium priority jobs to low priority jobs"
   ]
  },
  {
   "cell_type": "raw",
   "id": "f1fd5d71",
   "metadata": {},
   "source": [
    "Null Hypothesis, Ho:\n",
    "    medium priority jobs >= low priority jobs\n",
    "    \n",
    "Alternative Hypothesis, Ha:\n",
    "    medium priority jobs < low priority jobs\n",
    "    \n",
    "confidence interval:\n",
    "    95%\n",
    "\n",
    "P_Value:\n",
    "    0.05"
   ]
  },
  {
   "cell_type": "code",
   "execution_count": 99,
   "id": "b817d24a",
   "metadata": {},
   "outputs": [
    {
     "data": {
      "text/plain": [
       "F_onewayResult(statistic=5.612550540480968, pvalue=0.018437009015404755)"
      ]
     },
     "execution_count": 99,
     "metadata": {},
     "output_type": "execute_result"
    }
   ],
   "source": [
    "stats.f_oneway(l, m)"
   ]
  },
  {
   "cell_type": "markdown",
   "id": "649d4280",
   "metadata": {},
   "source": [
    "####### output: we reject null hypothesis"
   ]
  },
  {
   "cell_type": "markdown",
   "id": "4fd5d1e9",
   "metadata": {},
   "source": [
    "####### Business conclusions: with the given data it is proved that prioritization system was successful, medium priority jobs, on average, consuming lesser days than low priority jobs"
   ]
  },
  {
   "cell_type": "markdown",
   "id": "aa571a7a",
   "metadata": {},
   "source": [
    "### over all level"
   ]
  },
  {
   "cell_type": "raw",
   "id": "0837f716",
   "metadata": {},
   "source": [
    "Null Hypothesis, Ho:\n",
    "    means are from same population\n",
    "    \n",
    "Alternative Hypothesis, Ha:\n",
    "    means are from different population\n",
    "    \n",
    "confidence interval:\n",
    "    95%\n",
    "\n",
    "P_Value:\n",
    "    0.05"
   ]
  },
  {
   "cell_type": "code",
   "execution_count": 100,
   "id": "9ad5ddd6",
   "metadata": {},
   "outputs": [
    {
     "data": {
      "text/plain": [
       "F_onewayResult(statistic=12.381671113795393, pvalue=5.300128174033236e-06)"
      ]
     },
     "execution_count": 100,
     "metadata": {},
     "output_type": "execute_result"
    }
   ],
   "source": [
    "stats.f_oneway(l, m, h)"
   ]
  },
  {
   "cell_type": "markdown",
   "id": "153307c8",
   "metadata": {},
   "source": [
    "####### output: we reject null hypothesis"
   ]
  },
  {
   "cell_type": "markdown",
   "id": "d357e0ab",
   "metadata": {},
   "source": [
    "####### Business conclusions: with the given data it is proved that there is a significant difference in the average of completion time"
   ]
  },
  {
   "cell_type": "markdown",
   "id": "7db6e98a",
   "metadata": {},
   "source": [
    "# ..................BUSINESS PROBLEM - 5.........................."
   ]
  },
  {
   "cell_type": "markdown",
   "id": "ba2ce7ef",
   "metadata": {},
   "source": [
    "### import data"
   ]
  },
  {
   "cell_type": "code",
   "execution_count": 101,
   "id": "6a4a4da3",
   "metadata": {},
   "outputs": [],
   "source": [
    "film = pd.read_csv(file_path+'Films.csv')"
   ]
  },
  {
   "cell_type": "markdown",
   "id": "d4cb41ca",
   "metadata": {},
   "source": [
    "### data inspection"
   ]
  },
  {
   "cell_type": "code",
   "execution_count": 102,
   "id": "ee0c0d33",
   "metadata": {},
   "outputs": [
    {
     "data": {
      "text/html": [
       "<div>\n",
       "<style scoped>\n",
       "    .dataframe tbody tr th:only-of-type {\n",
       "        vertical-align: middle;\n",
       "    }\n",
       "\n",
       "    .dataframe tbody tr th {\n",
       "        vertical-align: top;\n",
       "    }\n",
       "\n",
       "    .dataframe thead th {\n",
       "        text-align: right;\n",
       "    }\n",
       "</style>\n",
       "<table border=\"1\" class=\"dataframe\">\n",
       "  <thead>\n",
       "    <tr style=\"text-align: right;\">\n",
       "      <th></th>\n",
       "      <th>_rowstate_</th>\n",
       "      <th>Movie</th>\n",
       "      <th>Gender</th>\n",
       "      <th>Marital_Status</th>\n",
       "      <th>Sinage</th>\n",
       "      <th>Parking</th>\n",
       "      <th>Clean</th>\n",
       "      <th>Overall</th>\n",
       "      <th>Age</th>\n",
       "      <th>Income</th>\n",
       "      <th>Hear_About</th>\n",
       "    </tr>\n",
       "  </thead>\n",
       "  <tbody>\n",
       "    <tr>\n",
       "      <th>0</th>\n",
       "      <td>0</td>\n",
       "      <td>Ferris Buellers Day Off</td>\n",
       "      <td>Female</td>\n",
       "      <td>Married</td>\n",
       "      <td>2.0</td>\n",
       "      <td>2.0</td>\n",
       "      <td>2.0</td>\n",
       "      <td>2.0</td>\n",
       "      <td>3.0</td>\n",
       "      <td>1.0</td>\n",
       "      <td>5</td>\n",
       "    </tr>\n",
       "    <tr>\n",
       "      <th>1</th>\n",
       "      <td>0</td>\n",
       "      <td>Ferris Buellers Day Off</td>\n",
       "      <td>Female</td>\n",
       "      <td>Single</td>\n",
       "      <td>1.0</td>\n",
       "      <td>1.0</td>\n",
       "      <td>1.0</td>\n",
       "      <td>1.0</td>\n",
       "      <td>2.0</td>\n",
       "      <td>1.0</td>\n",
       "      <td>5</td>\n",
       "    </tr>\n",
       "    <tr>\n",
       "      <th>2</th>\n",
       "      <td>0</td>\n",
       "      <td>Ferris Buellers Day Off</td>\n",
       "      <td>Male</td>\n",
       "      <td>Married</td>\n",
       "      <td>2.0</td>\n",
       "      <td>4.0</td>\n",
       "      <td>3.0</td>\n",
       "      <td>2.0</td>\n",
       "      <td>4.0</td>\n",
       "      <td>1.0</td>\n",
       "      <td>5</td>\n",
       "    </tr>\n",
       "    <tr>\n",
       "      <th>3</th>\n",
       "      <td>0</td>\n",
       "      <td>Ferris Buellers Day Off</td>\n",
       "      <td>Female</td>\n",
       "      <td>Married</td>\n",
       "      <td>1.0</td>\n",
       "      <td>3.0</td>\n",
       "      <td>2.0</td>\n",
       "      <td>2.0</td>\n",
       "      <td>4.0</td>\n",
       "      <td>1.0</td>\n",
       "      <td>5</td>\n",
       "    </tr>\n",
       "    <tr>\n",
       "      <th>4</th>\n",
       "      <td>0</td>\n",
       "      <td>Ferris Buellers Day Off</td>\n",
       "      <td>Female</td>\n",
       "      <td>Married</td>\n",
       "      <td>1.0</td>\n",
       "      <td>1.0</td>\n",
       "      <td>1.0</td>\n",
       "      <td>1.0</td>\n",
       "      <td>3.0</td>\n",
       "      <td>3.0</td>\n",
       "      <td>1</td>\n",
       "    </tr>\n",
       "    <tr>\n",
       "      <th>...</th>\n",
       "      <td>...</td>\n",
       "      <td>...</td>\n",
       "      <td>...</td>\n",
       "      <td>...</td>\n",
       "      <td>...</td>\n",
       "      <td>...</td>\n",
       "      <td>...</td>\n",
       "      <td>...</td>\n",
       "      <td>...</td>\n",
       "      <td>...</td>\n",
       "      <td>...</td>\n",
       "    </tr>\n",
       "    <tr>\n",
       "      <th>325</th>\n",
       "      <td>0</td>\n",
       "      <td>Old School</td>\n",
       "      <td>2</td>\n",
       "      <td>2</td>\n",
       "      <td>1.0</td>\n",
       "      <td>2.0</td>\n",
       "      <td>1.0</td>\n",
       "      <td>1.0</td>\n",
       "      <td>2.0</td>\n",
       "      <td>1.0</td>\n",
       "      <td>1</td>\n",
       "    </tr>\n",
       "    <tr>\n",
       "      <th>326</th>\n",
       "      <td>0</td>\n",
       "      <td>Old School</td>\n",
       "      <td>1</td>\n",
       "      <td>1</td>\n",
       "      <td>2.0</td>\n",
       "      <td>2.0</td>\n",
       "      <td>2.0</td>\n",
       "      <td>2.0</td>\n",
       "      <td>3.0</td>\n",
       "      <td>3.0</td>\n",
       "      <td>5</td>\n",
       "    </tr>\n",
       "    <tr>\n",
       "      <th>327</th>\n",
       "      <td>0</td>\n",
       "      <td>Old School</td>\n",
       "      <td>2</td>\n",
       "      <td>1</td>\n",
       "      <td>2.0</td>\n",
       "      <td>1.0</td>\n",
       "      <td>1.0</td>\n",
       "      <td>2.0</td>\n",
       "      <td>2.0</td>\n",
       "      <td>2.0</td>\n",
       "      <td>5</td>\n",
       "    </tr>\n",
       "    <tr>\n",
       "      <th>328</th>\n",
       "      <td>0</td>\n",
       "      <td>Old School</td>\n",
       "      <td>1</td>\n",
       "      <td>1</td>\n",
       "      <td>1.0</td>\n",
       "      <td>1.0</td>\n",
       "      <td>1.0</td>\n",
       "      <td>1.0</td>\n",
       "      <td>2.0</td>\n",
       "      <td>1.0</td>\n",
       "      <td>3</td>\n",
       "    </tr>\n",
       "    <tr>\n",
       "      <th>329</th>\n",
       "      <td>0</td>\n",
       "      <td>Old School</td>\n",
       "      <td>2</td>\n",
       "      <td>2</td>\n",
       "      <td>2.0</td>\n",
       "      <td>2.0</td>\n",
       "      <td>3.0</td>\n",
       "      <td>1.0</td>\n",
       "      <td>2.0</td>\n",
       "      <td>1.0</td>\n",
       "      <td>5</td>\n",
       "    </tr>\n",
       "  </tbody>\n",
       "</table>\n",
       "<p>330 rows × 11 columns</p>\n",
       "</div>"
      ],
      "text/plain": [
       "     _rowstate_                    Movie  Gender Marital_Status  Sinage  \\\n",
       "0             0  Ferris Buellers Day Off  Female        Married     2.0   \n",
       "1             0  Ferris Buellers Day Off  Female         Single     1.0   \n",
       "2             0  Ferris Buellers Day Off    Male        Married     2.0   \n",
       "3             0  Ferris Buellers Day Off  Female        Married     1.0   \n",
       "4             0  Ferris Buellers Day Off  Female        Married     1.0   \n",
       "..          ...                      ...     ...            ...     ...   \n",
       "325           0               Old School       2              2     1.0   \n",
       "326           0               Old School       1              1     2.0   \n",
       "327           0               Old School       2              1     2.0   \n",
       "328           0               Old School       1              1     1.0   \n",
       "329           0               Old School       2              2     2.0   \n",
       "\n",
       "     Parking  Clean  Overall  Age  Income Hear_About  \n",
       "0        2.0    2.0      2.0  3.0     1.0          5  \n",
       "1        1.0    1.0      1.0  2.0     1.0          5  \n",
       "2        4.0    3.0      2.0  4.0     1.0          5  \n",
       "3        3.0    2.0      2.0  4.0     1.0          5  \n",
       "4        1.0    1.0      1.0  3.0     3.0          1  \n",
       "..       ...    ...      ...  ...     ...        ...  \n",
       "325      2.0    1.0      1.0  2.0     1.0          1  \n",
       "326      2.0    2.0      2.0  3.0     3.0          5  \n",
       "327      1.0    1.0      2.0  2.0     2.0          5  \n",
       "328      1.0    1.0      1.0  2.0     1.0          3  \n",
       "329      2.0    3.0      1.0  2.0     1.0          5  \n",
       "\n",
       "[330 rows x 11 columns]"
      ]
     },
     "execution_count": 102,
     "metadata": {},
     "output_type": "execute_result"
    }
   ],
   "source": [
    "film"
   ]
  },
  {
   "cell_type": "code",
   "execution_count": 103,
   "id": "54822b2a",
   "metadata": {},
   "outputs": [],
   "source": [
    "condii= [film.Gender=='Female', film.Gender=='Male',  film.Gender=='2', film.Gender=='1']"
   ]
  },
  {
   "cell_type": "code",
   "execution_count": 104,
   "id": "a478632a",
   "metadata": {},
   "outputs": [],
   "source": [
    "va=['2', '1', '2', '1']"
   ]
  },
  {
   "cell_type": "code",
   "execution_count": 105,
   "id": "01b39810",
   "metadata": {},
   "outputs": [],
   "source": [
    "film['Gender']=np.select(condii, va)"
   ]
  },
  {
   "cell_type": "code",
   "execution_count": 106,
   "id": "775543a0",
   "metadata": {},
   "outputs": [
    {
     "name": "stdout",
     "output_type": "stream",
     "text": [
      "<class 'pandas.core.frame.DataFrame'>\n",
      "RangeIndex: 330 entries, 0 to 329\n",
      "Data columns (total 11 columns):\n",
      " #   Column          Non-Null Count  Dtype  \n",
      "---  ------          --------------  -----  \n",
      " 0   _rowstate_      330 non-null    int64  \n",
      " 1   Movie           330 non-null    object \n",
      " 2   Gender          330 non-null    object \n",
      " 3   Marital_Status  328 non-null    object \n",
      " 4   Sinage          328 non-null    float64\n",
      " 5   Parking         328 non-null    float64\n",
      " 6   Clean           327 non-null    float64\n",
      " 7   Overall         328 non-null    float64\n",
      " 8   Age             328 non-null    float64\n",
      " 9   Income          314 non-null    float64\n",
      " 10  Hear_About      323 non-null    object \n",
      "dtypes: float64(6), int64(1), object(4)\n",
      "memory usage: 28.5+ KB\n"
     ]
    }
   ],
   "source": [
    "film.info()"
   ]
  },
  {
   "cell_type": "markdown",
   "id": "e2508f4c",
   "metadata": {},
   "source": [
    "## missing value imputation"
   ]
  },
  {
   "cell_type": "code",
   "execution_count": 107,
   "id": "63abafa0",
   "metadata": {},
   "outputs": [
    {
     "data": {
      "text/plain": [
       "_rowstate_         0\n",
       "Movie              0\n",
       "Gender             0\n",
       "Marital_Status     2\n",
       "Sinage             2\n",
       "Parking            2\n",
       "Clean              3\n",
       "Overall            2\n",
       "Age                2\n",
       "Income            16\n",
       "Hear_About         7\n",
       "dtype: int64"
      ]
     },
     "execution_count": 107,
     "metadata": {},
     "output_type": "execute_result"
    }
   ],
   "source": [
    "film.isnull().sum()"
   ]
  },
  {
   "cell_type": "code",
   "execution_count": 108,
   "id": "ae549710",
   "metadata": {},
   "outputs": [
    {
     "data": {
      "text/html": [
       "<div>\n",
       "<style scoped>\n",
       "    .dataframe tbody tr th:only-of-type {\n",
       "        vertical-align: middle;\n",
       "    }\n",
       "\n",
       "    .dataframe tbody tr th {\n",
       "        vertical-align: top;\n",
       "    }\n",
       "\n",
       "    .dataframe thead th {\n",
       "        text-align: right;\n",
       "    }\n",
       "</style>\n",
       "<table border=\"1\" class=\"dataframe\">\n",
       "  <thead>\n",
       "    <tr style=\"text-align: right;\">\n",
       "      <th></th>\n",
       "      <th>_rowstate_</th>\n",
       "      <th>Movie</th>\n",
       "      <th>Gender</th>\n",
       "      <th>Marital_Status</th>\n",
       "      <th>Sinage</th>\n",
       "      <th>Parking</th>\n",
       "      <th>Clean</th>\n",
       "      <th>Overall</th>\n",
       "      <th>Age</th>\n",
       "      <th>Income</th>\n",
       "      <th>Hear_About</th>\n",
       "    </tr>\n",
       "  </thead>\n",
       "  <tbody>\n",
       "    <tr>\n",
       "      <th>139</th>\n",
       "      <td>0</td>\n",
       "      <td>Willy Wonka</td>\n",
       "      <td>1</td>\n",
       "      <td>NaN</td>\n",
       "      <td>2.0</td>\n",
       "      <td>2.0</td>\n",
       "      <td>2.0</td>\n",
       "      <td>1.0</td>\n",
       "      <td>2.0</td>\n",
       "      <td>1.0</td>\n",
       "      <td>5</td>\n",
       "    </tr>\n",
       "    <tr>\n",
       "      <th>323</th>\n",
       "      <td>0</td>\n",
       "      <td>Old School</td>\n",
       "      <td>1</td>\n",
       "      <td>NaN</td>\n",
       "      <td>2.0</td>\n",
       "      <td>2.0</td>\n",
       "      <td>2.0</td>\n",
       "      <td>2.0</td>\n",
       "      <td>2.0</td>\n",
       "      <td>3.0</td>\n",
       "      <td>5</td>\n",
       "    </tr>\n",
       "  </tbody>\n",
       "</table>\n",
       "</div>"
      ],
      "text/plain": [
       "     _rowstate_        Movie Gender Marital_Status  Sinage  Parking  Clean  \\\n",
       "139           0  Willy Wonka      1            NaN     2.0      2.0    2.0   \n",
       "323           0   Old School      1            NaN     2.0      2.0    2.0   \n",
       "\n",
       "     Overall  Age  Income Hear_About  \n",
       "139      1.0  2.0     1.0          5  \n",
       "323      2.0  2.0     3.0          5  "
      ]
     },
     "execution_count": 108,
     "metadata": {},
     "output_type": "execute_result"
    }
   ],
   "source": [
    "film[film.Marital_Status.isnull()]"
   ]
  },
  {
   "cell_type": "code",
   "execution_count": 109,
   "id": "3103d2b9",
   "metadata": {},
   "outputs": [],
   "source": [
    "film.Marital_Status.fillna('2', axis=0, inplace=True)"
   ]
  },
  {
   "cell_type": "code",
   "execution_count": 110,
   "id": "b1e346b6",
   "metadata": {},
   "outputs": [],
   "source": [
    "con=[film.Marital_Status=='Married', film.Marital_Status=='Single', film.Marital_Status=='1',film.Marital_Status=='2', film.Marital_Status=='Slngle']"
   ]
  },
  {
   "cell_type": "code",
   "execution_count": 111,
   "id": "45ad0da3",
   "metadata": {},
   "outputs": [],
   "source": [
    "val=['1','2','1','2','2']"
   ]
  },
  {
   "cell_type": "code",
   "execution_count": 112,
   "id": "34b8891c",
   "metadata": {},
   "outputs": [],
   "source": [
    "film['Marital_Status']=np.select(con,val)"
   ]
  },
  {
   "cell_type": "code",
   "execution_count": 113,
   "id": "2c1fb188",
   "metadata": {},
   "outputs": [
    {
     "data": {
      "text/html": [
       "<div>\n",
       "<style scoped>\n",
       "    .dataframe tbody tr th:only-of-type {\n",
       "        vertical-align: middle;\n",
       "    }\n",
       "\n",
       "    .dataframe tbody tr th {\n",
       "        vertical-align: top;\n",
       "    }\n",
       "\n",
       "    .dataframe thead th {\n",
       "        text-align: right;\n",
       "    }\n",
       "</style>\n",
       "<table border=\"1\" class=\"dataframe\">\n",
       "  <thead>\n",
       "    <tr style=\"text-align: right;\">\n",
       "      <th></th>\n",
       "      <th>_rowstate_</th>\n",
       "      <th>Movie</th>\n",
       "      <th>Gender</th>\n",
       "      <th>Marital_Status</th>\n",
       "      <th>Sinage</th>\n",
       "      <th>Parking</th>\n",
       "      <th>Clean</th>\n",
       "      <th>Overall</th>\n",
       "      <th>Age</th>\n",
       "      <th>Income</th>\n",
       "      <th>Hear_About</th>\n",
       "    </tr>\n",
       "  </thead>\n",
       "  <tbody>\n",
       "    <tr>\n",
       "      <th>249</th>\n",
       "      <td>0</td>\n",
       "      <td>Willy Wonka</td>\n",
       "      <td>1</td>\n",
       "      <td>2</td>\n",
       "      <td>NaN</td>\n",
       "      <td>NaN</td>\n",
       "      <td>NaN</td>\n",
       "      <td>NaN</td>\n",
       "      <td>2.0</td>\n",
       "      <td>1.0</td>\n",
       "      <td>NaN</td>\n",
       "    </tr>\n",
       "    <tr>\n",
       "      <th>267</th>\n",
       "      <td>0</td>\n",
       "      <td>Willy Wonka</td>\n",
       "      <td>2</td>\n",
       "      <td>2</td>\n",
       "      <td>NaN</td>\n",
       "      <td>1.0</td>\n",
       "      <td>1.0</td>\n",
       "      <td>1.0</td>\n",
       "      <td>3.0</td>\n",
       "      <td>1.0</td>\n",
       "      <td>3</td>\n",
       "    </tr>\n",
       "  </tbody>\n",
       "</table>\n",
       "</div>"
      ],
      "text/plain": [
       "     _rowstate_        Movie Gender Marital_Status  Sinage  Parking  Clean  \\\n",
       "249           0  Willy Wonka      1              2     NaN      NaN    NaN   \n",
       "267           0  Willy Wonka      2              2     NaN      1.0    1.0   \n",
       "\n",
       "     Overall  Age  Income Hear_About  \n",
       "249      NaN  2.0     1.0        NaN  \n",
       "267      1.0  3.0     1.0          3  "
      ]
     },
     "execution_count": 113,
     "metadata": {},
     "output_type": "execute_result"
    }
   ],
   "source": [
    "film[film.Sinage.isnull()]"
   ]
  },
  {
   "cell_type": "code",
   "execution_count": 114,
   "id": "bd2bdb2f",
   "metadata": {},
   "outputs": [],
   "source": [
    "film.Sinage.fillna(2, axis=0, inplace=True)"
   ]
  },
  {
   "cell_type": "code",
   "execution_count": 115,
   "id": "b0b22364",
   "metadata": {},
   "outputs": [
    {
     "data": {
      "text/html": [
       "<div>\n",
       "<style scoped>\n",
       "    .dataframe tbody tr th:only-of-type {\n",
       "        vertical-align: middle;\n",
       "    }\n",
       "\n",
       "    .dataframe tbody tr th {\n",
       "        vertical-align: top;\n",
       "    }\n",
       "\n",
       "    .dataframe thead th {\n",
       "        text-align: right;\n",
       "    }\n",
       "</style>\n",
       "<table border=\"1\" class=\"dataframe\">\n",
       "  <thead>\n",
       "    <tr style=\"text-align: right;\">\n",
       "      <th></th>\n",
       "      <th>_rowstate_</th>\n",
       "      <th>Movie</th>\n",
       "      <th>Gender</th>\n",
       "      <th>Marital_Status</th>\n",
       "      <th>Sinage</th>\n",
       "      <th>Parking</th>\n",
       "      <th>Clean</th>\n",
       "      <th>Overall</th>\n",
       "      <th>Age</th>\n",
       "      <th>Income</th>\n",
       "      <th>Hear_About</th>\n",
       "    </tr>\n",
       "  </thead>\n",
       "  <tbody>\n",
       "    <tr>\n",
       "      <th>201</th>\n",
       "      <td>0</td>\n",
       "      <td>Willy Wonka</td>\n",
       "      <td>2</td>\n",
       "      <td>2</td>\n",
       "      <td>3.0</td>\n",
       "      <td>NaN</td>\n",
       "      <td>2.0</td>\n",
       "      <td>2.0</td>\n",
       "      <td>2.0</td>\n",
       "      <td>1.0</td>\n",
       "      <td>5</td>\n",
       "    </tr>\n",
       "    <tr>\n",
       "      <th>249</th>\n",
       "      <td>0</td>\n",
       "      <td>Willy Wonka</td>\n",
       "      <td>1</td>\n",
       "      <td>2</td>\n",
       "      <td>2.0</td>\n",
       "      <td>NaN</td>\n",
       "      <td>NaN</td>\n",
       "      <td>NaN</td>\n",
       "      <td>2.0</td>\n",
       "      <td>1.0</td>\n",
       "      <td>NaN</td>\n",
       "    </tr>\n",
       "  </tbody>\n",
       "</table>\n",
       "</div>"
      ],
      "text/plain": [
       "     _rowstate_        Movie Gender Marital_Status  Sinage  Parking  Clean  \\\n",
       "201           0  Willy Wonka      2              2     3.0      NaN    2.0   \n",
       "249           0  Willy Wonka      1              2     2.0      NaN    NaN   \n",
       "\n",
       "     Overall  Age  Income Hear_About  \n",
       "201      2.0  2.0     1.0          5  \n",
       "249      NaN  2.0     1.0        NaN  "
      ]
     },
     "execution_count": 115,
     "metadata": {},
     "output_type": "execute_result"
    }
   ],
   "source": [
    "film[film.Parking.isnull()]"
   ]
  },
  {
   "cell_type": "code",
   "execution_count": 116,
   "id": "ce5dd787",
   "metadata": {},
   "outputs": [],
   "source": [
    "film.Parking.fillna(2, axis=0, inplace=True)"
   ]
  },
  {
   "cell_type": "code",
   "execution_count": 117,
   "id": "aecac438",
   "metadata": {},
   "outputs": [
    {
     "data": {
      "text/html": [
       "<div>\n",
       "<style scoped>\n",
       "    .dataframe tbody tr th:only-of-type {\n",
       "        vertical-align: middle;\n",
       "    }\n",
       "\n",
       "    .dataframe tbody tr th {\n",
       "        vertical-align: top;\n",
       "    }\n",
       "\n",
       "    .dataframe thead th {\n",
       "        text-align: right;\n",
       "    }\n",
       "</style>\n",
       "<table border=\"1\" class=\"dataframe\">\n",
       "  <thead>\n",
       "    <tr style=\"text-align: right;\">\n",
       "      <th></th>\n",
       "      <th>_rowstate_</th>\n",
       "      <th>Movie</th>\n",
       "      <th>Gender</th>\n",
       "      <th>Marital_Status</th>\n",
       "      <th>Sinage</th>\n",
       "      <th>Parking</th>\n",
       "      <th>Clean</th>\n",
       "      <th>Overall</th>\n",
       "      <th>Age</th>\n",
       "      <th>Income</th>\n",
       "      <th>Hear_About</th>\n",
       "    </tr>\n",
       "  </thead>\n",
       "  <tbody>\n",
       "    <tr>\n",
       "      <th>195</th>\n",
       "      <td>0</td>\n",
       "      <td>Willy Wonka</td>\n",
       "      <td>2</td>\n",
       "      <td>2</td>\n",
       "      <td>3.0</td>\n",
       "      <td>1.0</td>\n",
       "      <td>NaN</td>\n",
       "      <td>2.0</td>\n",
       "      <td>4.0</td>\n",
       "      <td>1.0</td>\n",
       "      <td>5</td>\n",
       "    </tr>\n",
       "    <tr>\n",
       "      <th>209</th>\n",
       "      <td>0</td>\n",
       "      <td>Willy Wonka</td>\n",
       "      <td>2</td>\n",
       "      <td>1</td>\n",
       "      <td>2.0</td>\n",
       "      <td>1.0</td>\n",
       "      <td>NaN</td>\n",
       "      <td>NaN</td>\n",
       "      <td>2.0</td>\n",
       "      <td>NaN</td>\n",
       "      <td>1</td>\n",
       "    </tr>\n",
       "    <tr>\n",
       "      <th>249</th>\n",
       "      <td>0</td>\n",
       "      <td>Willy Wonka</td>\n",
       "      <td>1</td>\n",
       "      <td>2</td>\n",
       "      <td>2.0</td>\n",
       "      <td>2.0</td>\n",
       "      <td>NaN</td>\n",
       "      <td>NaN</td>\n",
       "      <td>2.0</td>\n",
       "      <td>1.0</td>\n",
       "      <td>NaN</td>\n",
       "    </tr>\n",
       "  </tbody>\n",
       "</table>\n",
       "</div>"
      ],
      "text/plain": [
       "     _rowstate_        Movie Gender Marital_Status  Sinage  Parking  Clean  \\\n",
       "195           0  Willy Wonka      2              2     3.0      1.0    NaN   \n",
       "209           0  Willy Wonka      2              1     2.0      1.0    NaN   \n",
       "249           0  Willy Wonka      1              2     2.0      2.0    NaN   \n",
       "\n",
       "     Overall  Age  Income Hear_About  \n",
       "195      2.0  4.0     1.0          5  \n",
       "209      NaN  2.0     NaN          1  \n",
       "249      NaN  2.0     1.0        NaN  "
      ]
     },
     "execution_count": 117,
     "metadata": {},
     "output_type": "execute_result"
    }
   ],
   "source": [
    "film[film.Clean.isnull()]"
   ]
  },
  {
   "cell_type": "code",
   "execution_count": 118,
   "id": "fc6ebc0d",
   "metadata": {},
   "outputs": [],
   "source": [
    "film.Clean.fillna(2, axis=0, inplace=True)"
   ]
  },
  {
   "cell_type": "code",
   "execution_count": 119,
   "id": "de9dbc07",
   "metadata": {},
   "outputs": [
    {
     "data": {
      "text/html": [
       "<div>\n",
       "<style scoped>\n",
       "    .dataframe tbody tr th:only-of-type {\n",
       "        vertical-align: middle;\n",
       "    }\n",
       "\n",
       "    .dataframe tbody tr th {\n",
       "        vertical-align: top;\n",
       "    }\n",
       "\n",
       "    .dataframe thead th {\n",
       "        text-align: right;\n",
       "    }\n",
       "</style>\n",
       "<table border=\"1\" class=\"dataframe\">\n",
       "  <thead>\n",
       "    <tr style=\"text-align: right;\">\n",
       "      <th></th>\n",
       "      <th>_rowstate_</th>\n",
       "      <th>Movie</th>\n",
       "      <th>Gender</th>\n",
       "      <th>Marital_Status</th>\n",
       "      <th>Sinage</th>\n",
       "      <th>Parking</th>\n",
       "      <th>Clean</th>\n",
       "      <th>Overall</th>\n",
       "      <th>Age</th>\n",
       "      <th>Income</th>\n",
       "      <th>Hear_About</th>\n",
       "    </tr>\n",
       "  </thead>\n",
       "  <tbody>\n",
       "    <tr>\n",
       "      <th>209</th>\n",
       "      <td>0</td>\n",
       "      <td>Willy Wonka</td>\n",
       "      <td>2</td>\n",
       "      <td>1</td>\n",
       "      <td>2.0</td>\n",
       "      <td>1.0</td>\n",
       "      <td>2.0</td>\n",
       "      <td>NaN</td>\n",
       "      <td>2.0</td>\n",
       "      <td>NaN</td>\n",
       "      <td>1</td>\n",
       "    </tr>\n",
       "    <tr>\n",
       "      <th>249</th>\n",
       "      <td>0</td>\n",
       "      <td>Willy Wonka</td>\n",
       "      <td>1</td>\n",
       "      <td>2</td>\n",
       "      <td>2.0</td>\n",
       "      <td>2.0</td>\n",
       "      <td>2.0</td>\n",
       "      <td>NaN</td>\n",
       "      <td>2.0</td>\n",
       "      <td>1.0</td>\n",
       "      <td>NaN</td>\n",
       "    </tr>\n",
       "  </tbody>\n",
       "</table>\n",
       "</div>"
      ],
      "text/plain": [
       "     _rowstate_        Movie Gender Marital_Status  Sinage  Parking  Clean  \\\n",
       "209           0  Willy Wonka      2              1     2.0      1.0    2.0   \n",
       "249           0  Willy Wonka      1              2     2.0      2.0    2.0   \n",
       "\n",
       "     Overall  Age  Income Hear_About  \n",
       "209      NaN  2.0     NaN          1  \n",
       "249      NaN  2.0     1.0        NaN  "
      ]
     },
     "execution_count": 119,
     "metadata": {},
     "output_type": "execute_result"
    }
   ],
   "source": [
    "film[film.Overall.isnull()]"
   ]
  },
  {
   "cell_type": "code",
   "execution_count": 120,
   "id": "0356d5ca",
   "metadata": {},
   "outputs": [],
   "source": [
    "film.Overall.fillna(2, axis=0, inplace=True)"
   ]
  },
  {
   "cell_type": "code",
   "execution_count": 121,
   "id": "2d33e031",
   "metadata": {},
   "outputs": [
    {
     "data": {
      "text/html": [
       "<div>\n",
       "<style scoped>\n",
       "    .dataframe tbody tr th:only-of-type {\n",
       "        vertical-align: middle;\n",
       "    }\n",
       "\n",
       "    .dataframe tbody tr th {\n",
       "        vertical-align: top;\n",
       "    }\n",
       "\n",
       "    .dataframe thead th {\n",
       "        text-align: right;\n",
       "    }\n",
       "</style>\n",
       "<table border=\"1\" class=\"dataframe\">\n",
       "  <thead>\n",
       "    <tr style=\"text-align: right;\">\n",
       "      <th></th>\n",
       "      <th>_rowstate_</th>\n",
       "      <th>Movie</th>\n",
       "      <th>Gender</th>\n",
       "      <th>Marital_Status</th>\n",
       "      <th>Sinage</th>\n",
       "      <th>Parking</th>\n",
       "      <th>Clean</th>\n",
       "      <th>Overall</th>\n",
       "      <th>Age</th>\n",
       "      <th>Income</th>\n",
       "      <th>Hear_About</th>\n",
       "    </tr>\n",
       "  </thead>\n",
       "  <tbody>\n",
       "    <tr>\n",
       "      <th>123</th>\n",
       "      <td>0</td>\n",
       "      <td>Ferris Buellers Day Off</td>\n",
       "      <td>2</td>\n",
       "      <td>1</td>\n",
       "      <td>1.0</td>\n",
       "      <td>1.0</td>\n",
       "      <td>1.0</td>\n",
       "      <td>1.0</td>\n",
       "      <td>NaN</td>\n",
       "      <td>2.0</td>\n",
       "      <td>NaN</td>\n",
       "    </tr>\n",
       "    <tr>\n",
       "      <th>171</th>\n",
       "      <td>0</td>\n",
       "      <td>Willy Wonka</td>\n",
       "      <td>2</td>\n",
       "      <td>2</td>\n",
       "      <td>2.0</td>\n",
       "      <td>2.0</td>\n",
       "      <td>1.0</td>\n",
       "      <td>1.0</td>\n",
       "      <td>NaN</td>\n",
       "      <td>2.0</td>\n",
       "      <td>3,4</td>\n",
       "    </tr>\n",
       "  </tbody>\n",
       "</table>\n",
       "</div>"
      ],
      "text/plain": [
       "     _rowstate_                    Movie Gender Marital_Status  Sinage  \\\n",
       "123           0  Ferris Buellers Day Off      2              1     1.0   \n",
       "171           0              Willy Wonka      2              2     2.0   \n",
       "\n",
       "     Parking  Clean  Overall  Age  Income Hear_About  \n",
       "123      1.0    1.0      1.0  NaN     2.0        NaN  \n",
       "171      2.0    1.0      1.0  NaN     2.0        3,4  "
      ]
     },
     "execution_count": 121,
     "metadata": {},
     "output_type": "execute_result"
    }
   ],
   "source": [
    "film[film.Age.isnull()]"
   ]
  },
  {
   "cell_type": "code",
   "execution_count": 122,
   "id": "c0331e9d",
   "metadata": {},
   "outputs": [],
   "source": [
    "film.Age.fillna(2, axis=0, inplace=True)"
   ]
  },
  {
   "cell_type": "code",
   "execution_count": 123,
   "id": "0b980377",
   "metadata": {},
   "outputs": [
    {
     "data": {
      "text/html": [
       "<div>\n",
       "<style scoped>\n",
       "    .dataframe tbody tr th:only-of-type {\n",
       "        vertical-align: middle;\n",
       "    }\n",
       "\n",
       "    .dataframe tbody tr th {\n",
       "        vertical-align: top;\n",
       "    }\n",
       "\n",
       "    .dataframe thead th {\n",
       "        text-align: right;\n",
       "    }\n",
       "</style>\n",
       "<table border=\"1\" class=\"dataframe\">\n",
       "  <thead>\n",
       "    <tr style=\"text-align: right;\">\n",
       "      <th></th>\n",
       "      <th>_rowstate_</th>\n",
       "      <th>Movie</th>\n",
       "      <th>Gender</th>\n",
       "      <th>Marital_Status</th>\n",
       "      <th>Sinage</th>\n",
       "      <th>Parking</th>\n",
       "      <th>Clean</th>\n",
       "      <th>Overall</th>\n",
       "      <th>Age</th>\n",
       "      <th>Income</th>\n",
       "      <th>Hear_About</th>\n",
       "    </tr>\n",
       "  </thead>\n",
       "  <tbody>\n",
       "    <tr>\n",
       "      <th>94</th>\n",
       "      <td>0</td>\n",
       "      <td>Ferris Buellers Day Off</td>\n",
       "      <td>1</td>\n",
       "      <td>2</td>\n",
       "      <td>3.0</td>\n",
       "      <td>1.0</td>\n",
       "      <td>1.0</td>\n",
       "      <td>1.0</td>\n",
       "      <td>2.0</td>\n",
       "      <td>1.0</td>\n",
       "      <td>NaN</td>\n",
       "    </tr>\n",
       "    <tr>\n",
       "      <th>123</th>\n",
       "      <td>0</td>\n",
       "      <td>Ferris Buellers Day Off</td>\n",
       "      <td>2</td>\n",
       "      <td>1</td>\n",
       "      <td>1.0</td>\n",
       "      <td>1.0</td>\n",
       "      <td>1.0</td>\n",
       "      <td>1.0</td>\n",
       "      <td>2.0</td>\n",
       "      <td>2.0</td>\n",
       "      <td>NaN</td>\n",
       "    </tr>\n",
       "    <tr>\n",
       "      <th>138</th>\n",
       "      <td>0</td>\n",
       "      <td>Willy Wonka</td>\n",
       "      <td>2</td>\n",
       "      <td>1</td>\n",
       "      <td>2.0</td>\n",
       "      <td>2.0</td>\n",
       "      <td>2.0</td>\n",
       "      <td>2.0</td>\n",
       "      <td>3.0</td>\n",
       "      <td>3.0</td>\n",
       "      <td>NaN</td>\n",
       "    </tr>\n",
       "    <tr>\n",
       "      <th>174</th>\n",
       "      <td>0</td>\n",
       "      <td>Willy Wonka</td>\n",
       "      <td>2</td>\n",
       "      <td>2</td>\n",
       "      <td>1.0</td>\n",
       "      <td>1.0</td>\n",
       "      <td>1.0</td>\n",
       "      <td>1.0</td>\n",
       "      <td>3.0</td>\n",
       "      <td>1.0</td>\n",
       "      <td>NaN</td>\n",
       "    </tr>\n",
       "    <tr>\n",
       "      <th>193</th>\n",
       "      <td>0</td>\n",
       "      <td>Willy Wonka</td>\n",
       "      <td>1</td>\n",
       "      <td>1</td>\n",
       "      <td>2.0</td>\n",
       "      <td>2.0</td>\n",
       "      <td>2.0</td>\n",
       "      <td>2.0</td>\n",
       "      <td>2.0</td>\n",
       "      <td>3.0</td>\n",
       "      <td>NaN</td>\n",
       "    </tr>\n",
       "    <tr>\n",
       "      <th>249</th>\n",
       "      <td>0</td>\n",
       "      <td>Willy Wonka</td>\n",
       "      <td>1</td>\n",
       "      <td>2</td>\n",
       "      <td>2.0</td>\n",
       "      <td>2.0</td>\n",
       "      <td>2.0</td>\n",
       "      <td>2.0</td>\n",
       "      <td>2.0</td>\n",
       "      <td>1.0</td>\n",
       "      <td>NaN</td>\n",
       "    </tr>\n",
       "    <tr>\n",
       "      <th>264</th>\n",
       "      <td>0</td>\n",
       "      <td>Willy Wonka</td>\n",
       "      <td>2</td>\n",
       "      <td>1</td>\n",
       "      <td>2.0</td>\n",
       "      <td>1.0</td>\n",
       "      <td>2.0</td>\n",
       "      <td>1.0</td>\n",
       "      <td>3.0</td>\n",
       "      <td>3.0</td>\n",
       "      <td>NaN</td>\n",
       "    </tr>\n",
       "  </tbody>\n",
       "</table>\n",
       "</div>"
      ],
      "text/plain": [
       "     _rowstate_                    Movie Gender Marital_Status  Sinage  \\\n",
       "94            0  Ferris Buellers Day Off      1              2     3.0   \n",
       "123           0  Ferris Buellers Day Off      2              1     1.0   \n",
       "138           0              Willy Wonka      2              1     2.0   \n",
       "174           0              Willy Wonka      2              2     1.0   \n",
       "193           0              Willy Wonka      1              1     2.0   \n",
       "249           0              Willy Wonka      1              2     2.0   \n",
       "264           0              Willy Wonka      2              1     2.0   \n",
       "\n",
       "     Parking  Clean  Overall  Age  Income Hear_About  \n",
       "94       1.0    1.0      1.0  2.0     1.0        NaN  \n",
       "123      1.0    1.0      1.0  2.0     2.0        NaN  \n",
       "138      2.0    2.0      2.0  3.0     3.0        NaN  \n",
       "174      1.0    1.0      1.0  3.0     1.0        NaN  \n",
       "193      2.0    2.0      2.0  2.0     3.0        NaN  \n",
       "249      2.0    2.0      2.0  2.0     1.0        NaN  \n",
       "264      1.0    2.0      1.0  3.0     3.0        NaN  "
      ]
     },
     "execution_count": 123,
     "metadata": {},
     "output_type": "execute_result"
    }
   ],
   "source": [
    "film[film.Hear_About.isnull()]"
   ]
  },
  {
   "cell_type": "code",
   "execution_count": 124,
   "id": "b59b8e77",
   "metadata": {},
   "outputs": [],
   "source": [
    "film.Hear_About.fillna('5', axis=0, inplace=True)"
   ]
  },
  {
   "cell_type": "code",
   "execution_count": 125,
   "id": "635ab5ab",
   "metadata": {},
   "outputs": [],
   "source": [
    "con=[film.Hear_About=='1',film.Hear_About=='2',film.Hear_About=='3',film.Hear_About=='4',film.Hear_About=='5',film.Hear_About=='2,5',film.Hear_About=='3,4',film.Hear_About=='4,5',film.Hear_About=='1,5', film.Hear_About=='5,4', film.Hear_About=='3,5']"
   ]
  },
  {
   "cell_type": "code",
   "execution_count": 126,
   "id": "fd824397",
   "metadata": {},
   "outputs": [],
   "source": [
    "va=[1,2,3,4,5,2,3,4,1,5,3]"
   ]
  },
  {
   "cell_type": "code",
   "execution_count": 127,
   "id": "dd1d93c8",
   "metadata": {},
   "outputs": [],
   "source": [
    "film['Hear_About']=np.select(con,va)"
   ]
  },
  {
   "cell_type": "code",
   "execution_count": 128,
   "id": "fa15eed3",
   "metadata": {},
   "outputs": [
    {
     "data": {
      "text/html": [
       "<div>\n",
       "<style scoped>\n",
       "    .dataframe tbody tr th:only-of-type {\n",
       "        vertical-align: middle;\n",
       "    }\n",
       "\n",
       "    .dataframe tbody tr th {\n",
       "        vertical-align: top;\n",
       "    }\n",
       "\n",
       "    .dataframe thead th {\n",
       "        text-align: right;\n",
       "    }\n",
       "</style>\n",
       "<table border=\"1\" class=\"dataframe\">\n",
       "  <thead>\n",
       "    <tr style=\"text-align: right;\">\n",
       "      <th></th>\n",
       "      <th>_rowstate_</th>\n",
       "      <th>Movie</th>\n",
       "      <th>Gender</th>\n",
       "      <th>Marital_Status</th>\n",
       "      <th>Sinage</th>\n",
       "      <th>Parking</th>\n",
       "      <th>Clean</th>\n",
       "      <th>Overall</th>\n",
       "      <th>Age</th>\n",
       "      <th>Income</th>\n",
       "      <th>Hear_About</th>\n",
       "    </tr>\n",
       "  </thead>\n",
       "  <tbody>\n",
       "    <tr>\n",
       "      <th>7</th>\n",
       "      <td>0</td>\n",
       "      <td>Ferris Buellers Day Off</td>\n",
       "      <td>2</td>\n",
       "      <td>2</td>\n",
       "      <td>1.0</td>\n",
       "      <td>1.0</td>\n",
       "      <td>3.0</td>\n",
       "      <td>1.0</td>\n",
       "      <td>3.0</td>\n",
       "      <td>NaN</td>\n",
       "      <td>4</td>\n",
       "    </tr>\n",
       "    <tr>\n",
       "      <th>8</th>\n",
       "      <td>0</td>\n",
       "      <td>Ferris Buellers Day Off</td>\n",
       "      <td>2</td>\n",
       "      <td>2</td>\n",
       "      <td>1.0</td>\n",
       "      <td>1.0</td>\n",
       "      <td>3.0</td>\n",
       "      <td>1.0</td>\n",
       "      <td>3.0</td>\n",
       "      <td>NaN</td>\n",
       "      <td>4</td>\n",
       "    </tr>\n",
       "    <tr>\n",
       "      <th>11</th>\n",
       "      <td>0</td>\n",
       "      <td>Ferris Buellers Day Off</td>\n",
       "      <td>2</td>\n",
       "      <td>1</td>\n",
       "      <td>2.0</td>\n",
       "      <td>2.0</td>\n",
       "      <td>2.0</td>\n",
       "      <td>2.0</td>\n",
       "      <td>4.0</td>\n",
       "      <td>NaN</td>\n",
       "      <td>5</td>\n",
       "    </tr>\n",
       "    <tr>\n",
       "      <th>71</th>\n",
       "      <td>0</td>\n",
       "      <td>Ferris Buellers Day Off</td>\n",
       "      <td>2</td>\n",
       "      <td>1</td>\n",
       "      <td>2.0</td>\n",
       "      <td>2.0</td>\n",
       "      <td>2.0</td>\n",
       "      <td>2.0</td>\n",
       "      <td>3.0</td>\n",
       "      <td>NaN</td>\n",
       "      <td>5</td>\n",
       "    </tr>\n",
       "    <tr>\n",
       "      <th>72</th>\n",
       "      <td>0</td>\n",
       "      <td>Ferris Buellers Day Off</td>\n",
       "      <td>1</td>\n",
       "      <td>2</td>\n",
       "      <td>2.0</td>\n",
       "      <td>2.0</td>\n",
       "      <td>2.0</td>\n",
       "      <td>2.0</td>\n",
       "      <td>1.0</td>\n",
       "      <td>NaN</td>\n",
       "      <td>5</td>\n",
       "    </tr>\n",
       "    <tr>\n",
       "      <th>73</th>\n",
       "      <td>0</td>\n",
       "      <td>Ferris Buellers Day Off</td>\n",
       "      <td>1</td>\n",
       "      <td>2</td>\n",
       "      <td>2.0</td>\n",
       "      <td>2.0</td>\n",
       "      <td>2.0</td>\n",
       "      <td>2.0</td>\n",
       "      <td>1.0</td>\n",
       "      <td>NaN</td>\n",
       "      <td>5</td>\n",
       "    </tr>\n",
       "    <tr>\n",
       "      <th>74</th>\n",
       "      <td>0</td>\n",
       "      <td>Ferris Buellers Day Off</td>\n",
       "      <td>1</td>\n",
       "      <td>2</td>\n",
       "      <td>2.0</td>\n",
       "      <td>2.0</td>\n",
       "      <td>2.0</td>\n",
       "      <td>2.0</td>\n",
       "      <td>2.0</td>\n",
       "      <td>NaN</td>\n",
       "      <td>5</td>\n",
       "    </tr>\n",
       "    <tr>\n",
       "      <th>148</th>\n",
       "      <td>0</td>\n",
       "      <td>Willy Wonka</td>\n",
       "      <td>2</td>\n",
       "      <td>2</td>\n",
       "      <td>1.0</td>\n",
       "      <td>1.0</td>\n",
       "      <td>2.0</td>\n",
       "      <td>1.0</td>\n",
       "      <td>1.0</td>\n",
       "      <td>NaN</td>\n",
       "      <td>1</td>\n",
       "    </tr>\n",
       "    <tr>\n",
       "      <th>177</th>\n",
       "      <td>0</td>\n",
       "      <td>Willy Wonka</td>\n",
       "      <td>1</td>\n",
       "      <td>2</td>\n",
       "      <td>1.0</td>\n",
       "      <td>1.0</td>\n",
       "      <td>1.0</td>\n",
       "      <td>5.0</td>\n",
       "      <td>2.0</td>\n",
       "      <td>NaN</td>\n",
       "      <td>5</td>\n",
       "    </tr>\n",
       "    <tr>\n",
       "      <th>185</th>\n",
       "      <td>0</td>\n",
       "      <td>Willy Wonka</td>\n",
       "      <td>2</td>\n",
       "      <td>2</td>\n",
       "      <td>2.0</td>\n",
       "      <td>2.0</td>\n",
       "      <td>2.0</td>\n",
       "      <td>1.0</td>\n",
       "      <td>1.0</td>\n",
       "      <td>NaN</td>\n",
       "      <td>5</td>\n",
       "    </tr>\n",
       "    <tr>\n",
       "      <th>205</th>\n",
       "      <td>0</td>\n",
       "      <td>Willy Wonka</td>\n",
       "      <td>1</td>\n",
       "      <td>1</td>\n",
       "      <td>1.0</td>\n",
       "      <td>1.0</td>\n",
       "      <td>1.0</td>\n",
       "      <td>1.0</td>\n",
       "      <td>3.0</td>\n",
       "      <td>NaN</td>\n",
       "      <td>2</td>\n",
       "    </tr>\n",
       "    <tr>\n",
       "      <th>209</th>\n",
       "      <td>0</td>\n",
       "      <td>Willy Wonka</td>\n",
       "      <td>2</td>\n",
       "      <td>1</td>\n",
       "      <td>2.0</td>\n",
       "      <td>1.0</td>\n",
       "      <td>2.0</td>\n",
       "      <td>2.0</td>\n",
       "      <td>2.0</td>\n",
       "      <td>NaN</td>\n",
       "      <td>1</td>\n",
       "    </tr>\n",
       "    <tr>\n",
       "      <th>268</th>\n",
       "      <td>0</td>\n",
       "      <td>Willy Wonka</td>\n",
       "      <td>2</td>\n",
       "      <td>1</td>\n",
       "      <td>1.0</td>\n",
       "      <td>1.0</td>\n",
       "      <td>1.0</td>\n",
       "      <td>1.0</td>\n",
       "      <td>4.0</td>\n",
       "      <td>NaN</td>\n",
       "      <td>5</td>\n",
       "    </tr>\n",
       "    <tr>\n",
       "      <th>288</th>\n",
       "      <td>0</td>\n",
       "      <td>Willy Wonka</td>\n",
       "      <td>1</td>\n",
       "      <td>2</td>\n",
       "      <td>2.0</td>\n",
       "      <td>2.0</td>\n",
       "      <td>2.0</td>\n",
       "      <td>2.0</td>\n",
       "      <td>3.0</td>\n",
       "      <td>NaN</td>\n",
       "      <td>1</td>\n",
       "    </tr>\n",
       "    <tr>\n",
       "      <th>290</th>\n",
       "      <td>0</td>\n",
       "      <td>Willy Wonka</td>\n",
       "      <td>2</td>\n",
       "      <td>2</td>\n",
       "      <td>2.0</td>\n",
       "      <td>2.0</td>\n",
       "      <td>1.0</td>\n",
       "      <td>2.0</td>\n",
       "      <td>2.0</td>\n",
       "      <td>NaN</td>\n",
       "      <td>5</td>\n",
       "    </tr>\n",
       "    <tr>\n",
       "      <th>291</th>\n",
       "      <td>0</td>\n",
       "      <td>Willy Wonka</td>\n",
       "      <td>2</td>\n",
       "      <td>2</td>\n",
       "      <td>2.0</td>\n",
       "      <td>2.0</td>\n",
       "      <td>1.0</td>\n",
       "      <td>1.0</td>\n",
       "      <td>2.0</td>\n",
       "      <td>NaN</td>\n",
       "      <td>5</td>\n",
       "    </tr>\n",
       "  </tbody>\n",
       "</table>\n",
       "</div>"
      ],
      "text/plain": [
       "     _rowstate_                    Movie Gender Marital_Status  Sinage  \\\n",
       "7             0  Ferris Buellers Day Off      2              2     1.0   \n",
       "8             0  Ferris Buellers Day Off      2              2     1.0   \n",
       "11            0  Ferris Buellers Day Off      2              1     2.0   \n",
       "71            0  Ferris Buellers Day Off      2              1     2.0   \n",
       "72            0  Ferris Buellers Day Off      1              2     2.0   \n",
       "73            0  Ferris Buellers Day Off      1              2     2.0   \n",
       "74            0  Ferris Buellers Day Off      1              2     2.0   \n",
       "148           0              Willy Wonka      2              2     1.0   \n",
       "177           0              Willy Wonka      1              2     1.0   \n",
       "185           0              Willy Wonka      2              2     2.0   \n",
       "205           0              Willy Wonka      1              1     1.0   \n",
       "209           0              Willy Wonka      2              1     2.0   \n",
       "268           0              Willy Wonka      2              1     1.0   \n",
       "288           0              Willy Wonka      1              2     2.0   \n",
       "290           0              Willy Wonka      2              2     2.0   \n",
       "291           0              Willy Wonka      2              2     2.0   \n",
       "\n",
       "     Parking  Clean  Overall  Age  Income  Hear_About  \n",
       "7        1.0    3.0      1.0  3.0     NaN           4  \n",
       "8        1.0    3.0      1.0  3.0     NaN           4  \n",
       "11       2.0    2.0      2.0  4.0     NaN           5  \n",
       "71       2.0    2.0      2.0  3.0     NaN           5  \n",
       "72       2.0    2.0      2.0  1.0     NaN           5  \n",
       "73       2.0    2.0      2.0  1.0     NaN           5  \n",
       "74       2.0    2.0      2.0  2.0     NaN           5  \n",
       "148      1.0    2.0      1.0  1.0     NaN           1  \n",
       "177      1.0    1.0      5.0  2.0     NaN           5  \n",
       "185      2.0    2.0      1.0  1.0     NaN           5  \n",
       "205      1.0    1.0      1.0  3.0     NaN           2  \n",
       "209      1.0    2.0      2.0  2.0     NaN           1  \n",
       "268      1.0    1.0      1.0  4.0     NaN           5  \n",
       "288      2.0    2.0      2.0  3.0     NaN           1  \n",
       "290      2.0    1.0      2.0  2.0     NaN           5  \n",
       "291      2.0    1.0      1.0  2.0     NaN           5  "
      ]
     },
     "execution_count": 128,
     "metadata": {},
     "output_type": "execute_result"
    }
   ],
   "source": [
    "film[film.Income.isnull()]"
   ]
  },
  {
   "cell_type": "code",
   "execution_count": 129,
   "id": "128507cf",
   "metadata": {},
   "outputs": [],
   "source": [
    "film.Income.fillna(2, axis=0, inplace=True)"
   ]
  },
  {
   "cell_type": "code",
   "execution_count": 130,
   "id": "f43f80d4",
   "metadata": {},
   "outputs": [
    {
     "data": {
      "text/plain": [
       "_rowstate_        0\n",
       "Movie             0\n",
       "Gender            0\n",
       "Marital_Status    0\n",
       "Sinage            0\n",
       "Parking           0\n",
       "Clean             0\n",
       "Overall           0\n",
       "Age               0\n",
       "Income            0\n",
       "Hear_About        0\n",
       "dtype: int64"
      ]
     },
     "execution_count": 130,
     "metadata": {},
     "output_type": "execute_result"
    }
   ],
   "source": [
    "film.isnull().sum()"
   ]
  },
  {
   "cell_type": "code",
   "execution_count": 131,
   "id": "0234327e",
   "metadata": {},
   "outputs": [
    {
     "name": "stdout",
     "output_type": "stream",
     "text": [
      "<class 'pandas.core.frame.DataFrame'>\n",
      "RangeIndex: 330 entries, 0 to 329\n",
      "Data columns (total 11 columns):\n",
      " #   Column          Non-Null Count  Dtype  \n",
      "---  ------          --------------  -----  \n",
      " 0   _rowstate_      330 non-null    int64  \n",
      " 1   Movie           330 non-null    object \n",
      " 2   Gender          330 non-null    object \n",
      " 3   Marital_Status  330 non-null    object \n",
      " 4   Sinage          330 non-null    float64\n",
      " 5   Parking         330 non-null    float64\n",
      " 6   Clean           330 non-null    float64\n",
      " 7   Overall         330 non-null    float64\n",
      " 8   Age             330 non-null    float64\n",
      " 9   Income          330 non-null    float64\n",
      " 10  Hear_About      330 non-null    int32  \n",
      "dtypes: float64(6), int32(1), int64(1), object(3)\n",
      "memory usage: 27.2+ KB\n"
     ]
    }
   ],
   "source": [
    "film.info()"
   ]
  },
  {
   "cell_type": "code",
   "execution_count": 132,
   "id": "301ba0b3",
   "metadata": {},
   "outputs": [],
   "source": [
    "film['Marital_Status']=film.Marital_Status.astype('int')"
   ]
  },
  {
   "cell_type": "code",
   "execution_count": 133,
   "id": "03bc524d",
   "metadata": {},
   "outputs": [],
   "source": [
    "film['Gender']=film.Marital_Status.astype('int')"
   ]
  },
  {
   "cell_type": "markdown",
   "id": "eebfd023",
   "metadata": {},
   "source": [
    "# What isthe overall level of customer satisfaction?"
   ]
  },
  {
   "cell_type": "code",
   "execution_count": 134,
   "id": "a788b364",
   "metadata": {},
   "outputs": [
    {
     "data": {
      "image/png": "[encoded data removed]",
      "text/plain": [
       "<Figure size 576x576 with 1 Axes>"
      ]
     },
     "metadata": {},
     "output_type": "display_data"
    }
   ],
   "source": [
    "film.Overall.value_counts().plot(kind='pie',autopct='%.1f%%', figsize=(8,8), labels=['Good', \n",
    "                                                                                     'Excellent',\n",
    "                                                                                     'Average/Fair', \n",
    "                                                                                     'Very Poor', \n",
    "                                                                                     'poor'])\n",
    "plt.show()"
   ]
  },
  {
   "cell_type": "raw",
   "id": "f052085a",
   "metadata": {},
   "source": [
    "@ 94.9% customers are satisfied with excellent and good review out of which 49.1% customers are satisfied with good review and 45.8% customers are satisfied with excellent review \n",
    "\n",
    "@ 5.1 % customers are not satisfied"
   ]
  },
  {
   "cell_type": "markdown",
   "id": "4bc2d41a",
   "metadata": {},
   "source": [
    "# What factors are linked to satisfaction?"
   ]
  },
  {
   "cell_type": "code",
   "execution_count": 135,
   "id": "755efb93",
   "metadata": {},
   "outputs": [],
   "source": [
    "from sklearn.feature_selection import f_regression"
   ]
  },
  {
   "cell_type": "code",
   "execution_count": 136,
   "id": "2a9f1d26",
   "metadata": {},
   "outputs": [],
   "source": [
    "dummy=pd.get_dummies(film.Movie, prefix='Movie', drop_first=False)"
   ]
  },
  {
   "cell_type": "code",
   "execution_count": 137,
   "id": "c7764106",
   "metadata": {},
   "outputs": [],
   "source": [
    "filmdum=pd.concat([film, dummy], axis =1)"
   ]
  },
  {
   "cell_type": "code",
   "execution_count": 138,
   "id": "46d43575",
   "metadata": {},
   "outputs": [],
   "source": [
    "filmdum.drop(columns='Movie', axis=1, inplace=True)"
   ]
  },
  {
   "cell_type": "code",
   "execution_count": 139,
   "id": "df5e0af0",
   "metadata": {},
   "outputs": [
    {
     "data": {
      "text/plain": [
       "Index(['Age', 'Clean', 'Gender', 'Hear_About', 'Income', 'Marital_Status',\n",
       "       'Movie_Ferris Buellers Day Off', 'Movie_Old School',\n",
       "       'Movie_Willy Wonka', 'Parking', 'Sinage'],\n",
       "      dtype='object')"
      ]
     },
     "execution_count": 139,
     "metadata": {},
     "output_type": "execute_result"
    }
   ],
   "source": [
    "feature_columns = filmdum.columns.difference(['Overall', '_rowstate_'])\n",
    "feature_columns"
   ]
  },
  {
   "cell_type": "code",
   "execution_count": 140,
   "id": "0cd6360d",
   "metadata": {},
   "outputs": [],
   "source": [
    "features = filmdum[feature_columns]\n",
    "target = filmdum.Overall\n",
    "F_values, p_values  = f_regression( features, target )"
   ]
  },
  {
   "cell_type": "code",
   "execution_count": 141,
   "id": "3454d3ac",
   "metadata": {},
   "outputs": [],
   "source": [
    "fact=pd.concat( [ pd.Series(feature_columns), \n",
    "                    pd.Series(F_values).round(2), \n",
    "                        pd.Series(p_values).round(9) ], axis = 1 )"
   ]
  },
  {
   "cell_type": "code",
   "execution_count": 142,
   "id": "5003ee47",
   "metadata": {},
   "outputs": [],
   "source": [
    "fact.rename(columns={0:'variables', 1:'F_value', 2:'p_value'}, inplace=True)"
   ]
  },
  {
   "cell_type": "code",
   "execution_count": 143,
   "id": "d8b52000",
   "metadata": {},
   "outputs": [
    {
     "name": "stdout",
     "output_type": "stream",
     "text": [
      "factors which are linked to satisfaction of customers ['Clean', 'Parking', 'Sinage']\n"
     ]
    }
   ],
   "source": [
    "print('factors which are linked to satisfaction of customers', list(fact.loc[fact.p_value<0.05, 'variables']))"
   ]
  },
  {
   "cell_type": "markdown",
   "id": "b01d4ddc",
   "metadata": {},
   "source": [
    "### 1st factor movie"
   ]
  },
  {
   "cell_type": "raw",
   "id": "fe0ee620",
   "metadata": {},
   "source": [
    "Null Hypothesis, Ho:\n",
    "    type of movie is not impacting overall satisfaction of customers\n",
    "    \n",
    "Alternative Hypothesis, Ha:\n",
    "    type of movie is impacting overall satisfaction of customers\n",
    "    \n",
    "confidence interval:\n",
    "    95%\n",
    "\n",
    "P_Value:\n",
    "    0.05"
   ]
  },
  {
   "cell_type": "code",
   "execution_count": 144,
   "id": "2962c245",
   "metadata": {},
   "outputs": [
    {
     "data": {
      "text/html": [
       "<div>\n",
       "<style scoped>\n",
       "    .dataframe tbody tr th:only-of-type {\n",
       "        vertical-align: middle;\n",
       "    }\n",
       "\n",
       "    .dataframe tbody tr th {\n",
       "        vertical-align: top;\n",
       "    }\n",
       "\n",
       "    .dataframe thead th {\n",
       "        text-align: right;\n",
       "    }\n",
       "</style>\n",
       "<table border=\"1\" class=\"dataframe\">\n",
       "  <thead>\n",
       "    <tr style=\"text-align: right;\">\n",
       "      <th>Movie</th>\n",
       "      <th>Ferris Buellers Day Off</th>\n",
       "      <th>Old School</th>\n",
       "      <th>Willy Wonka</th>\n",
       "    </tr>\n",
       "    <tr>\n",
       "      <th>Overall</th>\n",
       "      <th></th>\n",
       "      <th></th>\n",
       "      <th></th>\n",
       "    </tr>\n",
       "  </thead>\n",
       "  <tbody>\n",
       "    <tr>\n",
       "      <th>1.0</th>\n",
       "      <td>59</td>\n",
       "      <td>21</td>\n",
       "      <td>71</td>\n",
       "    </tr>\n",
       "    <tr>\n",
       "      <th>2.0</th>\n",
       "      <td>71</td>\n",
       "      <td>10</td>\n",
       "      <td>81</td>\n",
       "    </tr>\n",
       "    <tr>\n",
       "      <th>3.0</th>\n",
       "      <td>4</td>\n",
       "      <td>0</td>\n",
       "      <td>8</td>\n",
       "    </tr>\n",
       "    <tr>\n",
       "      <th>4.0</th>\n",
       "      <td>1</td>\n",
       "      <td>0</td>\n",
       "      <td>0</td>\n",
       "    </tr>\n",
       "    <tr>\n",
       "      <th>5.0</th>\n",
       "      <td>2</td>\n",
       "      <td>1</td>\n",
       "      <td>1</td>\n",
       "    </tr>\n",
       "  </tbody>\n",
       "</table>\n",
       "</div>"
      ],
      "text/plain": [
       "Movie    Ferris Buellers Day Off  Old School  Willy Wonka\n",
       "Overall                                                  \n",
       "1.0                           59          21           71\n",
       "2.0                           71          10           81\n",
       "3.0                            4           0            8\n",
       "4.0                            1           0            0\n",
       "5.0                            2           1            1"
      ]
     },
     "execution_count": 144,
     "metadata": {},
     "output_type": "execute_result"
    }
   ],
   "source": [
    "pd.crosstab(film.Overall, film.Movie)"
   ]
  },
  {
   "cell_type": "code",
   "execution_count": 145,
   "id": "e1e070b2",
   "metadata": {},
   "outputs": [
    {
     "data": {
      "text/plain": [
       "(10.457715484418317,\n",
       " 0.23435754152536287,\n",
       " 8,\n",
       " array([[62.68787879, 14.64242424, 73.66969697],\n",
       "        [67.25454545, 15.70909091, 79.03636364],\n",
       "        [ 4.98181818,  1.16363636,  5.85454545],\n",
       "        [ 0.41515152,  0.0969697 ,  0.48787879],\n",
       "        [ 1.66060606,  0.38787879,  1.95151515]]))"
      ]
     },
     "execution_count": 145,
     "metadata": {},
     "output_type": "execute_result"
    }
   ],
   "source": [
    "stats.chi2_contingency(pd.crosstab(film.Overall, film.Movie))"
   ]
  },
  {
   "cell_type": "markdown",
   "id": "a9cc980d",
   "metadata": {},
   "source": [
    "####### ouput: we fail to reject null hypothesis"
   ]
  },
  {
   "cell_type": "markdown",
   "id": "48922eaa",
   "metadata": {},
   "source": [
    "####### Business conclusion: with given data is unable to prove that type of movie is impacting on overall level of customer satisfaction"
   ]
  },
  {
   "cell_type": "markdown",
   "id": "0b9ddf2a",
   "metadata": {},
   "source": [
    "### 2nd factor Gender"
   ]
  },
  {
   "cell_type": "raw",
   "id": "920be336",
   "metadata": {},
   "source": [
    "Null Hypothesis, Ho:\n",
    "    gender is not impacting on overall satisfaction of customers\n",
    "    \n",
    "Alternative Hypothesis, Ha:\n",
    "    gender is impacting on overall satisfaction of customers\n",
    "    \n",
    "confidence interval:\n",
    "    95%\n",
    "\n",
    "P_Value:\n",
    "    0.05"
   ]
  },
  {
   "cell_type": "code",
   "execution_count": 146,
   "id": "cd27cffe",
   "metadata": {},
   "outputs": [
    {
     "data": {
      "text/plain": [
       "(5.2040167002591415,\n",
       " 0.26699728606451045,\n",
       " 4,\n",
       " array([[ 45.75757576, 105.24242424],\n",
       "        [ 49.09090909, 112.90909091],\n",
       "        [  3.63636364,   8.36363636],\n",
       "        [  0.3030303 ,   0.6969697 ],\n",
       "        [  1.21212121,   2.78787879]]))"
      ]
     },
     "execution_count": 146,
     "metadata": {},
     "output_type": "execute_result"
    }
   ],
   "source": [
    "stats.chi2_contingency(pd.crosstab(film.Overall, film.Gender))"
   ]
  },
  {
   "cell_type": "markdown",
   "id": "ca78d9a1",
   "metadata": {},
   "source": [
    "####### ouput: we fail to reject null hypothesis\n",
    "\n",
    "####### Business conclusion: with given data is unable to prove that gender is impacting on overall level of customer satisfaction"
   ]
  },
  {
   "cell_type": "markdown",
   "id": "d78bea1e",
   "metadata": {},
   "source": [
    "### 3rd factor Marital_Status"
   ]
  },
  {
   "cell_type": "raw",
   "id": "28f5009e",
   "metadata": {},
   "source": [
    "Null Hypothesis, Ho:\n",
    "    Marital_Status is not impacting on overall satisfaction of customers\n",
    "    \n",
    "Alternative Hypothesis, Ha:\n",
    "    Marital_Status is impacting on overall satisfaction of customers\n",
    "    \n",
    "confidence interval:\n",
    "    95%\n",
    "\n",
    "P_Value:\n",
    "    0.05"
   ]
  },
  {
   "cell_type": "code",
   "execution_count": 147,
   "id": "27a7ca63",
   "metadata": {},
   "outputs": [
    {
     "data": {
      "text/plain": [
       "(5.2040167002591415,\n",
       " 0.26699728606451045,\n",
       " 4,\n",
       " array([[ 45.75757576, 105.24242424],\n",
       "        [ 49.09090909, 112.90909091],\n",
       "        [  3.63636364,   8.36363636],\n",
       "        [  0.3030303 ,   0.6969697 ],\n",
       "        [  1.21212121,   2.78787879]]))"
      ]
     },
     "execution_count": 147,
     "metadata": {},
     "output_type": "execute_result"
    }
   ],
   "source": [
    "stats.chi2_contingency(pd.crosstab(film.Overall, film.Marital_Status))"
   ]
  },
  {
   "cell_type": "markdown",
   "id": "427e549f",
   "metadata": {},
   "source": [
    "####### ouput: we fail to reject null hypothesis\n",
    "\n",
    "####### Business conclusion: with given data is unable to prove that Marital_Status is impacting on overall level of customer satisfaction"
   ]
  },
  {
   "cell_type": "markdown",
   "id": "ac7d2683",
   "metadata": {},
   "source": [
    "### 4th factor Sinage"
   ]
  },
  {
   "cell_type": "raw",
   "id": "6546d6cd",
   "metadata": {},
   "source": [
    "Null Hypothesis, Ho:\n",
    "    Sinage is not impacting on overall satisfaction of customers\n",
    "    \n",
    "Alternative Hypothesis, Ha:\n",
    "    Sinage is impacting on overall satisfaction of customers\n",
    "    \n",
    "confidence interval:\n",
    "    95%\n",
    "\n",
    "P_Value:\n",
    "    0.05"
   ]
  },
  {
   "cell_type": "code",
   "execution_count": 148,
   "id": "e8f251c7",
   "metadata": {},
   "outputs": [
    {
     "data": {
      "text/plain": [
       "(125.61859671027882,\n",
       " 4.532989700034049e-19,\n",
       " 16,\n",
       " array([[5.17060606e+01, 7.22969697e+01, 2.19636364e+01, 2.74545455e+00,\n",
       "         2.28787879e+00],\n",
       "        [5.54727273e+01, 7.75636364e+01, 2.35636364e+01, 2.94545455e+00,\n",
       "         2.45454545e+00],\n",
       "        [4.10909091e+00, 5.74545455e+00, 1.74545455e+00, 2.18181818e-01,\n",
       "         1.81818182e-01],\n",
       "        [3.42424242e-01, 4.78787879e-01, 1.45454545e-01, 1.81818182e-02,\n",
       "         1.51515152e-02],\n",
       "        [1.36969697e+00, 1.91515152e+00, 5.81818182e-01, 7.27272727e-02,\n",
       "         6.06060606e-02]]))"
      ]
     },
     "execution_count": 148,
     "metadata": {},
     "output_type": "execute_result"
    }
   ],
   "source": [
    "stats.chi2_contingency(pd.crosstab(film.Overall, film.Sinage))"
   ]
  },
  {
   "cell_type": "markdown",
   "id": "8f8bcf68",
   "metadata": {},
   "source": [
    "####### ouput: we reject null hypothesis\n",
    "\n",
    "####### Business conclusion: with given data it is proved that Sinage is impacting on overall level of customer satisfaction"
   ]
  },
  {
   "cell_type": "markdown",
   "id": "88bde09b",
   "metadata": {},
   "source": [
    "### 5th factor Parking"
   ]
  },
  {
   "cell_type": "raw",
   "id": "409e4f7f",
   "metadata": {},
   "source": [
    "Null Hypothesis, Ho:\n",
    "    Parking is not impacting on overall satisfaction of customers\n",
    "    \n",
    "Alternative Hypothesis, Ha:\n",
    "    Parking is impacting on overall satisfaction of customers\n",
    "    \n",
    "confidence interval:\n",
    "    95%\n",
    "\n",
    "P_Value:\n",
    "    0.05"
   ]
  },
  {
   "cell_type": "code",
   "execution_count": 149,
   "id": "bec627f3",
   "metadata": {},
   "outputs": [
    {
     "data": {
      "text/plain": [
       "(230.61691663391673,\n",
       " 4.783162283608565e-40,\n",
       " 16,\n",
       " array([[6.17727273e+01, 7.09242424e+01, 1.32696970e+01, 3.20303030e+00,\n",
       "         1.83030303e+00],\n",
       "        [6.62727273e+01, 7.60909091e+01, 1.42363636e+01, 3.43636364e+00,\n",
       "         1.96363636e+00],\n",
       "        [4.90909091e+00, 5.63636364e+00, 1.05454545e+00, 2.54545455e-01,\n",
       "         1.45454545e-01],\n",
       "        [4.09090909e-01, 4.69696970e-01, 8.78787879e-02, 2.12121212e-02,\n",
       "         1.21212121e-02],\n",
       "        [1.63636364e+00, 1.87878788e+00, 3.51515152e-01, 8.48484848e-02,\n",
       "         4.84848485e-02]]))"
      ]
     },
     "execution_count": 149,
     "metadata": {},
     "output_type": "execute_result"
    }
   ],
   "source": [
    "stats.chi2_contingency(pd.crosstab(film.Overall, film.Parking))"
   ]
  },
  {
   "cell_type": "markdown",
   "id": "ff7f1ef5",
   "metadata": {},
   "source": [
    "####### ouput: we reject null hypothesis\n",
    "\n",
    "####### Business conclusion: with given data it is proved that Parking is impacting on overall level of customer satisfaction"
   ]
  },
  {
   "cell_type": "markdown",
   "id": "d29b4bcd",
   "metadata": {},
   "source": [
    "### 6th factor Clean"
   ]
  },
  {
   "cell_type": "raw",
   "id": "77e0080a",
   "metadata": {},
   "source": [
    "Null Hypothesis, Ho:\n",
    "    Clean is not impacting on overall satisfaction of customers\n",
    "    \n",
    "Alternative Hypothesis, Ha:\n",
    "    Clean is impacting on overall satisfaction of customers\n",
    "    \n",
    "confidence interval:\n",
    "    95%\n",
    "\n",
    "P_Value:\n",
    "    0.05"
   ]
  },
  {
   "cell_type": "code",
   "execution_count": 150,
   "id": "1fde428d",
   "metadata": {},
   "outputs": [
    {
     "data": {
      "text/plain": [
       "(127.7194555599952,\n",
       " 1.7772535915433765e-19,\n",
       " 16,\n",
       " array([[6.58909091e+01, 7.09242424e+01, 1.09818182e+01, 2.28787879e+00,\n",
       "         9.15151515e-01],\n",
       "        [7.06909091e+01, 7.60909091e+01, 1.17818182e+01, 2.45454545e+00,\n",
       "         9.81818182e-01],\n",
       "        [5.23636364e+00, 5.63636364e+00, 8.72727273e-01, 1.81818182e-01,\n",
       "         7.27272727e-02],\n",
       "        [4.36363636e-01, 4.69696970e-01, 7.27272727e-02, 1.51515152e-02,\n",
       "         6.06060606e-03],\n",
       "        [1.74545455e+00, 1.87878788e+00, 2.90909091e-01, 6.06060606e-02,\n",
       "         2.42424242e-02]]))"
      ]
     },
     "execution_count": 150,
     "metadata": {},
     "output_type": "execute_result"
    }
   ],
   "source": [
    "stats.chi2_contingency(pd.crosstab(film.Overall, film.Clean))"
   ]
  },
  {
   "cell_type": "markdown",
   "id": "969973a4",
   "metadata": {},
   "source": [
    "####### ouput: we reject null hypothesis\n",
    "\n",
    "####### Business conclusion: with given data it is proved that clean is impacting on overall level of customer satisfaction"
   ]
  },
  {
   "cell_type": "markdown",
   "id": "befd0e30",
   "metadata": {},
   "source": [
    "### 7th factor Age"
   ]
  },
  {
   "cell_type": "raw",
   "id": "de3b3135",
   "metadata": {},
   "source": [
    "Null Hypothesis, Ho:\n",
    "    Age is not impacting on overall satisfaction of customers\n",
    "    \n",
    "Alternative Hypothesis, Ha:\n",
    "    Age is impacting on overall satisfaction of customers\n",
    "    \n",
    "confidence interval:\n",
    "    95%\n",
    "\n",
    "P_Value:\n",
    "    0.05"
   ]
  },
  {
   "cell_type": "code",
   "execution_count": 151,
   "id": "18bd1e92",
   "metadata": {},
   "outputs": [
    {
     "data": {
      "text/plain": [
       "(10.45278328792503,\n",
       " 0.5763025800406916,\n",
       " 12,\n",
       " array([[1.18969697e+01, 8.09909091e+01, 5.35363636e+01, 4.57575758e+00],\n",
       "        [1.27636364e+01, 8.68909091e+01, 5.74363636e+01, 4.90909091e+00],\n",
       "        [9.45454545e-01, 6.43636364e+00, 4.25454545e+00, 3.63636364e-01],\n",
       "        [7.87878788e-02, 5.36363636e-01, 3.54545455e-01, 3.03030303e-02],\n",
       "        [3.15151515e-01, 2.14545455e+00, 1.41818182e+00, 1.21212121e-01]]))"
      ]
     },
     "execution_count": 151,
     "metadata": {},
     "output_type": "execute_result"
    }
   ],
   "source": [
    "stats.chi2_contingency(pd.crosstab(film.Overall, film.Age))"
   ]
  },
  {
   "cell_type": "markdown",
   "id": "8ab4edde",
   "metadata": {},
   "source": [
    "####### ouput: we fail to reject null hypothesis\n",
    "\n",
    "####### Business conclusion: with given data is unable to prove that Age is impacting on overall level of customer satisfaction"
   ]
  },
  {
   "cell_type": "markdown",
   "id": "1a3eee99",
   "metadata": {},
   "source": [
    "### 8th factor Income"
   ]
  },
  {
   "cell_type": "raw",
   "id": "231e83ba",
   "metadata": {},
   "source": [
    "Null Hypothesis, Ho:\n",
    "    Income is not impacting on overall satisfaction of customers\n",
    "    \n",
    "Alternative Hypothesis, Ha:\n",
    "    Income is impacting on overall satisfaction of customers\n",
    "    \n",
    "confidence interval:\n",
    "    95%\n",
    "\n",
    "P_Value:\n",
    "    0.05"
   ]
  },
  {
   "cell_type": "code",
   "execution_count": 152,
   "id": "152e9169",
   "metadata": {},
   "outputs": [
    {
     "data": {
      "text/plain": [
       "(6.1009649629951275,\n",
       " 0.6359232901556379,\n",
       " 8,\n",
       " array([[64.97575758, 44.84242424, 41.18181818],\n",
       "        [69.70909091, 48.10909091, 44.18181818],\n",
       "        [ 5.16363636,  3.56363636,  3.27272727],\n",
       "        [ 0.43030303,  0.2969697 ,  0.27272727],\n",
       "        [ 1.72121212,  1.18787879,  1.09090909]]))"
      ]
     },
     "execution_count": 152,
     "metadata": {},
     "output_type": "execute_result"
    }
   ],
   "source": [
    "stats.chi2_contingency(pd.crosstab(film.Overall, film.Income))"
   ]
  },
  {
   "cell_type": "markdown",
   "id": "53780745",
   "metadata": {},
   "source": [
    "####### ouput: we fail to reject null hypothesis\n",
    "\n",
    "####### Business conclusion: with given data is unable to prove that Income is impacting on overall level of customer satisfaction"
   ]
  },
  {
   "cell_type": "markdown",
   "id": "1e5da2a0",
   "metadata": {},
   "source": [
    "### 9th factor Hear_about"
   ]
  },
  {
   "cell_type": "raw",
   "id": "f3024e17",
   "metadata": {},
   "source": [
    "Null Hypothesis, Ho:\n",
    "    Hear_About is not impacting on overall satisfaction of customers\n",
    "    \n",
    "Alternative Hypothesis, Ha:\n",
    "    Hear_About is impacting on overall satisfaction of customers\n",
    "    \n",
    "confidence interval:\n",
    "    95%\n",
    "\n",
    "P_Value:\n",
    "    0.05"
   ]
  },
  {
   "cell_type": "code",
   "execution_count": 153,
   "id": "a90a9cbf",
   "metadata": {},
   "outputs": [
    {
     "data": {
      "text/plain": [
       "(17.889968762298064,\n",
       " 0.33037944343128134,\n",
       " 16,\n",
       " array([[1.05242424e+01, 6.40606061e+00, 7.77878788e+00, 1.92181818e+01,\n",
       "         1.07072727e+02],\n",
       "        [1.12909091e+01, 6.87272727e+00, 8.34545455e+00, 2.06181818e+01,\n",
       "         1.14872727e+02],\n",
       "        [8.36363636e-01, 5.09090909e-01, 6.18181818e-01, 1.52727273e+00,\n",
       "         8.50909091e+00],\n",
       "        [6.96969697e-02, 4.24242424e-02, 5.15151515e-02, 1.27272727e-01,\n",
       "         7.09090909e-01],\n",
       "        [2.78787879e-01, 1.69696970e-01, 2.06060606e-01, 5.09090909e-01,\n",
       "         2.83636364e+00]]))"
      ]
     },
     "execution_count": 153,
     "metadata": {},
     "output_type": "execute_result"
    }
   ],
   "source": [
    "stats.chi2_contingency(pd.crosstab(film.Overall, film.Hear_About))"
   ]
  },
  {
   "cell_type": "markdown",
   "id": "bba99b7e",
   "metadata": {},
   "source": [
    "####### ouput: we fail to reject null hypothesis\n",
    "\n",
    "####### Business conclusion: with given data is unable to prove that Hear_About is impacting on overall level of customer satisfaction"
   ]
  },
  {
   "cell_type": "code",
   "execution_count": 154,
   "id": "64624732",
   "metadata": {},
   "outputs": [
    {
     "name": "stdout",
     "output_type": "stream",
     "text": [
      "Sinage,Parking,Clean - These are the factors linked to the customer satisfaction\n"
     ]
    }
   ],
   "source": [
    "print('Sinage,Parking,Clean - These are the factors linked to the customer satisfaction')"
   ]
  },
  {
   "cell_type": "markdown",
   "id": "8d3304fc",
   "metadata": {},
   "source": [
    "# What is the demographic profile of Film on the Rocks patrons?"
   ]
  },
  {
   "cell_type": "code",
   "execution_count": 155,
   "id": "1cbe8bdf",
   "metadata": {},
   "outputs": [
    {
     "data": {
      "image/png": "[encoded data removed]",
      "text/plain": [
       "<Figure size 360x360 with 1 Axes>"
      ]
     },
     "metadata": {},
     "output_type": "display_data"
    }
   ],
   "source": [
    "film.Gender.value_counts().plot(kind='pie',autopct='%.1f%%', figsize=(5,5), labels=['female', 'male'])\n",
    "plt.show()"
   ]
  },
  {
   "cell_type": "code",
   "execution_count": 156,
   "id": "38c47800",
   "metadata": {},
   "outputs": [
    {
     "data": {
      "image/png": "[encoded data removed]",
      "text/plain": [
       "<Figure size 360x360 with 1 Axes>"
      ]
     },
     "metadata": {},
     "output_type": "display_data"
    }
   ],
   "source": [
    "film.Marital_Status.value_counts().plot(kind='pie',autopct='%.1f%%', figsize=(5,5),labels=['single', 'married'])\n",
    "plt.show()"
   ]
  },
  {
   "cell_type": "code",
   "execution_count": 157,
   "id": "038ba12d",
   "metadata": {},
   "outputs": [
    {
     "data": {
      "image/png": "[encoded data removed]",
      "text/plain": [
       "<Figure size 360x360 with 1 Axes>"
      ]
     },
     "metadata": {},
     "output_type": "display_data"
    }
   ],
   "source": [
    "film.Age.value_counts().plot(kind='pie',autopct='%.1f%%', figsize=(5,5),\n",
    "                            labels=['13-30', '31-60', '1-12', '60+'])\n",
    "plt.show()"
   ]
  },
  {
   "cell_type": "code",
   "execution_count": 158,
   "id": "38ef68c1",
   "metadata": {},
   "outputs": [
    {
     "data": {
      "image/png": "[encoded data removed]",
      "text/plain": [
       "<Figure size 360x360 with 1 Axes>"
      ]
     },
     "metadata": {},
     "output_type": "display_data"
    }
   ],
   "source": [
    "film.Income.value_counts().plot(kind='pie',autopct='%.1f%%', figsize=(5,5),\n",
    "                               labels=['Less than $50,000','$50-$100,000', '$100,000+'])\n",
    "plt.show()"
   ]
  },
  {
   "cell_type": "markdown",
   "id": "1e12df69",
   "metadata": {},
   "source": [
    "### demographic profile of Film on the Rocks patrons"
   ]
  },
  {
   "cell_type": "code",
   "execution_count": 159,
   "id": "baeb1c2b",
   "metadata": {},
   "outputs": [
    {
     "name": "stdout",
     "output_type": "stream",
     "text": [
      "@ females are 64.5% where as males are 35.5%\n",
      "@ singles are 69.7% where as 30.3% are married\n",
      "@ 53.6% people are belongs 13-30 age group and 35.5% belongs to 31-60 age group\n",
      "@ 43% people have income less than $50,000 and 29.7% belongs to $50-$1,00,000 income group\n"
     ]
    }
   ],
   "source": [
    "print('@ females are 64.5% where as males are 35.5%')\n",
    "print('@ singles are 69.7% where as 30.3% are married')\n",
    "print('@ 53.6% people are belongs 13-30 age group and 35.5% belongs to 31-60 age group')\n",
    "print('@ 43% people have income less than $50,000 and 29.7% belongs to $50-$1,00,000 income group')"
   ]
  },
  {
   "cell_type": "markdown",
   "id": "9670a936",
   "metadata": {},
   "source": [
    "#### females are 64.5% where as males are 35.5%"
   ]
  },
  {
   "cell_type": "raw",
   "id": "eeddf1df",
   "metadata": {},
   "source": [
    "Null Hypothesis, Ho:\n",
    "    females are lesser than males\n",
    "    \n",
    "Alternative Hypothesis, Ha:\n",
    "    females are higher than males\n",
    "    \n",
    "confidence interval:\n",
    "    95%\n",
    "\n",
    "P_Value:\n",
    "    0.05"
   ]
  },
  {
   "cell_type": "code",
   "execution_count": 160,
   "id": "913eeb5b",
   "metadata": {},
   "outputs": [],
   "source": [
    "film['m_sta']=np.where(film.Marital_Status==1, 'married', 'single')"
   ]
  },
  {
   "cell_type": "code",
   "execution_count": 161,
   "id": "19517c67",
   "metadata": {},
   "outputs": [
    {
     "data": {
      "text/html": [
       "<div>\n",
       "<style scoped>\n",
       "    .dataframe tbody tr th:only-of-type {\n",
       "        vertical-align: middle;\n",
       "    }\n",
       "\n",
       "    .dataframe tbody tr th {\n",
       "        vertical-align: top;\n",
       "    }\n",
       "\n",
       "    .dataframe thead th {\n",
       "        text-align: right;\n",
       "    }\n",
       "</style>\n",
       "<table border=\"1\" class=\"dataframe\">\n",
       "  <thead>\n",
       "    <tr style=\"text-align: right;\">\n",
       "      <th>Gender</th>\n",
       "      <th>1</th>\n",
       "      <th>2</th>\n",
       "    </tr>\n",
       "    <tr>\n",
       "      <th>Gender</th>\n",
       "      <th></th>\n",
       "      <th></th>\n",
       "    </tr>\n",
       "  </thead>\n",
       "  <tbody>\n",
       "    <tr>\n",
       "      <th>1</th>\n",
       "      <td>100</td>\n",
       "      <td>0</td>\n",
       "    </tr>\n",
       "    <tr>\n",
       "      <th>2</th>\n",
       "      <td>0</td>\n",
       "      <td>230</td>\n",
       "    </tr>\n",
       "  </tbody>\n",
       "</table>\n",
       "</div>"
      ],
      "text/plain": [
       "Gender    1    2\n",
       "Gender          \n",
       "1       100    0\n",
       "2         0  230"
      ]
     },
     "execution_count": 161,
     "metadata": {},
     "output_type": "execute_result"
    }
   ],
   "source": [
    "pd.crosstab(film.Gender,film.Gender)"
   ]
  },
  {
   "cell_type": "code",
   "execution_count": 162,
   "id": "cd4c8804",
   "metadata": {},
   "outputs": [
    {
     "data": {
      "text/plain": [
       "(325.2822008506616,\n",
       " 1.0241237643106162e-72,\n",
       " 1,\n",
       " array([[ 30.3030303,  69.6969697],\n",
       "        [ 69.6969697, 160.3030303]]))"
      ]
     },
     "execution_count": 162,
     "metadata": {},
     "output_type": "execute_result"
    }
   ],
   "source": [
    "stats.chi2_contingency(pd.crosstab(film.Gender,film.Gender))"
   ]
  },
  {
   "cell_type": "markdown",
   "id": "21489c67",
   "metadata": {},
   "source": [
    "####### ouput: we reject null hypothesis\n",
    "\n",
    "####### Business conclusion: with given data it is proved that females are higher than males"
   ]
  },
  {
   "cell_type": "markdown",
   "id": "47dc0d76",
   "metadata": {},
   "source": [
    "#### singles are 69.7% where as 30.3% are married"
   ]
  },
  {
   "cell_type": "raw",
   "id": "8e794e94",
   "metadata": {},
   "source": [
    "Null Hypothesis, Ho:\n",
    "    singles are lesser than married \n",
    "    \n",
    "Alternative Hypothesis, Ha:\n",
    "    singles are higher than married\n",
    "    \n",
    "confidence interval:\n",
    "    95%\n",
    "\n",
    "P_Value:\n",
    "    0.05"
   ]
  },
  {
   "cell_type": "code",
   "execution_count": 163,
   "id": "938d5be1",
   "metadata": {},
   "outputs": [
    {
     "data": {
      "text/plain": [
       "(325.2822008506616,\n",
       " 1.0241237643106162e-72,\n",
       " 1,\n",
       " array([[ 30.3030303,  69.6969697],\n",
       "        [ 69.6969697, 160.3030303]]))"
      ]
     },
     "execution_count": 163,
     "metadata": {},
     "output_type": "execute_result"
    }
   ],
   "source": [
    "stats.chi2_contingency(pd.crosstab(film.Marital_Status, film.Marital_Status))"
   ]
  },
  {
   "cell_type": "markdown",
   "id": "3ba395a6",
   "metadata": {},
   "source": [
    "####### ouput: we reject null hypothesis\n",
    "\n",
    "####### Business conclusion: with given data it is proved that singles are higher than married"
   ]
  },
  {
   "cell_type": "markdown",
   "id": "d963fe74",
   "metadata": {},
   "source": [
    "#### 53.6% people are belongs 13-30 age group and 35.5% belongs to 31-60 age group"
   ]
  },
  {
   "cell_type": "raw",
   "id": "0c36bf60",
   "metadata": {},
   "source": [
    "Null Hypothesis, Ho:\n",
    "    '13-30' age groups people are lesser than '31-60' age group\n",
    "    \n",
    "Alternative Hypothesis, Ha:\n",
    "    '13-30' age groups people are higher than '31-60' age group\n",
    "    \n",
    "confidence interval:\n",
    "    95%\n",
    "\n",
    "P_Value:\n",
    "    0.05"
   ]
  },
  {
   "cell_type": "code",
   "execution_count": 164,
   "id": "d6982c46",
   "metadata": {},
   "outputs": [
    {
     "data": {
      "text/plain": [
       "(990.0000000000001,\n",
       " 2.4704769807051076e-207,\n",
       " 9,\n",
       " array([[ 2.04848485, 13.94545455,  9.21818182,  0.78787879],\n",
       "        [13.94545455, 94.93636364, 62.75454545,  5.36363636],\n",
       "        [ 9.21818182, 62.75454545, 41.48181818,  3.54545455],\n",
       "        [ 0.78787879,  5.36363636,  3.54545455,  0.3030303 ]]))"
      ]
     },
     "execution_count": 164,
     "metadata": {},
     "output_type": "execute_result"
    }
   ],
   "source": [
    "stats.chi2_contingency(pd.crosstab(film.Age, film.Age))"
   ]
  },
  {
   "cell_type": "markdown",
   "id": "15df9573",
   "metadata": {},
   "source": [
    "####### ouput: we reject null hypothesis\n",
    "\n",
    "####### Business conclusion: with given data it is proved that '13-30' age groups people are higher than '31-60' age group"
   ]
  },
  {
   "cell_type": "markdown",
   "id": "ceb324cc",
   "metadata": {},
   "source": [
    "#### 43% people have income less than 50000 and 29.7 % belongs to  50 -  100000 income group"
   ]
  },
  {
   "cell_type": "raw",
   "id": "350be436",
   "metadata": {},
   "source": [
    "Null Hypothesis, Ho:\n",
    "    people with income less than $50000 are lesser \n",
    "    \n",
    "Alternative Hypothesis, Ha:\n",
    "    people with income less than $50000 are higher\n",
    "    \n",
    "confidence interval:\n",
    "    95%\n",
    "\n",
    "P_Value:\n",
    "    0.05"
   ]
  },
  {
   "cell_type": "code",
   "execution_count": 165,
   "id": "3fdfbf60",
   "metadata": {},
   "outputs": [
    {
     "data": {
      "text/plain": [
       "(660.0,\n",
       " 1.594589741096194e-141,\n",
       " 4,\n",
       " array([[61.1030303 , 42.16969697, 38.72727273],\n",
       "        [42.16969697, 29.1030303 , 26.72727273],\n",
       "        [38.72727273, 26.72727273, 24.54545455]]))"
      ]
     },
     "execution_count": 165,
     "metadata": {},
     "output_type": "execute_result"
    }
   ],
   "source": [
    "stats.chi2_contingency(pd.crosstab(film.Income, film.Income))"
   ]
  },
  {
   "cell_type": "markdown",
   "id": "b5ba54ba",
   "metadata": {},
   "source": [
    "####### ouput: we reject null hypothesis\n",
    "\n",
    "####### Business conclusion: with given data it is proved that people with income less than $50000 are higher"
   ]
  },
  {
   "cell_type": "markdown",
   "id": "31890f71",
   "metadata": {},
   "source": [
    "# In what media outlet(s) should the film series be advertised?"
   ]
  },
  {
   "cell_type": "code",
   "execution_count": 166,
   "id": "27078790",
   "metadata": {},
   "outputs": [
    {
     "data": {
      "image/png": "[encoded data removed]",
      "text/plain": [
       "<Figure size 360x360 with 1 Axes>"
      ]
     },
     "metadata": {},
     "output_type": "display_data"
    }
   ],
   "source": [
    "film.Hear_About.value_counts().plot(kind='pie',autopct='%.1f%%', figsize=(5,5),\n",
    "                                   labels=['word of mouth', \n",
    "                                           'website', 'radio', 'newspaper','television'])\n",
    "plt.show()"
   ]
  },
  {
   "cell_type": "markdown",
   "id": "56003e01",
   "metadata": {},
   "source": [
    "@ Almost 71% of customers said they hear about film series through word of mouth\n",
    "\n",
    "@ almost 29% of customers said they hear about film series through website(12%), \n",
    "radio(7%), newspaper(5.2%), television(4.2%)"
   ]
  },
  {
   "cell_type": "raw",
   "id": "591b5127",
   "metadata": {},
   "source": [
    "@ Concentrating on word-of-mouth strategies and using this as a critical tool for advertising will be more effective."
   ]
  }
 ],
 "metadata": {
  "kernelspec": {
   "display_name": "Python 3 (ipykernel)",
   "language": "python",
   "name": "python3"
  },
  "language_info": {
   "codemirror_mode": {
    "name": "ipython",
    "version": 3
   },
   "file_extension": ".py",
   "mimetype": "text/x-python",
   "name": "python",
   "nbconvert_exporter": "python",
   "pygments_lexer": "ipython3",
   "version": "3.9.7"
  }
 },
 "nbformat": 4,
 "nbformat_minor": 5
}
